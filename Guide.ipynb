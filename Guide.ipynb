{
 "cells": [
  {
   "attachments": {},
   "cell_type": "markdown",
   "metadata": {},
   "source": [
    "### [Impact of the Euro2020 championship on the spread of COVID-19](https://www.nature.com/articles/s41467-022-35512-x)"
   ]
  },
  {
   "cell_type": "code",
   "execution_count": 1,
   "metadata": {},
   "outputs": [
    {
     "name": "stderr",
     "output_type": "stream",
     "text": [
      "usage: git submodule [--quiet] [--cached]\n",
      "   or: git submodule [--quiet] add [-b <branch>] [-f|--force] [--name <name>] [--reference <repository>] [--] <repository> [<path>]\n",
      "   or: git submodule [--quiet] status [--cached] [--recursive] [--] [<path>...]\n",
      "   or: git submodule [--quiet] init [--] [<path>...]\n",
      "   or: git submodule [--quiet] deinit [-f|--force] (--all| [--] <path>...)\n",
      "   or: git submodule [--quiet] update [--init [--filter=<filter-spec>]] [--remote] [-N|--no-fetch] [-f|--force] [--checkout|--merge|--rebase] [--[no-]recommend-shallow] [--reference <repository>] [--recursive] [--[no-]single-branch] [--] [<path>...]\n",
      "   or: git submodule [--quiet] set-branch (--default|--branch <branch>) [--] <path>\n",
      "   or: git submodule [--quiet] set-url [--] <path> <newurl>\n",
      "   or: git submodule [--quiet] summary [--cached|--files] [--summary-limit <n>] [commit] [--] [<path>...]\n",
      "   or: git submodule [--quiet] foreach [--recursive] <command>\n",
      "   or: git submodule [--quiet] sync [--recursive] [--] [<path>...]\n",
      "   or: git submodule [--quiet] absorbgitdirs [--] [<path>...]\n"
     ]
    }
   ],
   "source": [
    "%%sh\n",
    "git submodule add\n",
    "git submodule init"
   ]
  }
 ],
 "metadata": {
  "kernelspec": {
   "display_name": "Python 3",
   "language": "python",
   "name": "python3"
  },
  "language_info": {
   "codemirror_mode": {
    "name": "ipython",
    "version": 3
   },
   "file_extension": ".py",
   "mimetype": "text/x-python",
   "name": "python",
   "nbconvert_exporter": "python",
   "pygments_lexer": "ipython3",
   "version": "3.11.1"
  },
  "orig_nbformat": 4,
  "vscode": {
   "interpreter": {
    "hash": "aee8b7b246df8f9039afb4144a1f6fd8d2ca17a180786b69acc140d282b71a49"
   }
  }
 },
 "nbformat": 4,
 "nbformat_minor": 2
}
