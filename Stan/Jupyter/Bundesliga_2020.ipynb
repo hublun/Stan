{
 "cells": [
  {
   "cell_type": "markdown",
   "metadata": {},
   "source": [
    "## Bayesian Analysis of 2020 Bundesliga Results"
   ]
  },
  {
   "cell_type": "code",
   "execution_count": null,
   "metadata": {
    "vscode": {
     "languageId": "r"
    }
   },
   "outputs": [
    {
     "ename": "",
     "evalue": "",
     "output_type": "error",
     "traceback": [
      "\u001b[1;31mFailed to start the Kernel. \n",
      "Error in loadNamespace(x) : there is no package called ‘IRkernel’\n",
      "Calls: loadNamespace -> withRestarts -> withOneRestart -> doWithOneRestart\n",
      "Execution halted. \n",
      "View Jupyter <a href='command:jupyter.viewOutput'>log</a> for further details."
     ]
    }
   ],
   "source": [
    "library(\"rstan\")\n",
    "library(\"parallel\")"
   ]
  },
  {
   "cell_type": "code",
   "execution_count": null,
   "metadata": {
    "vscode": {
     "languageId": "r"
    }
   },
   "outputs": [],
   "source": [
    "example(stan_model, package = \"rstan\", run.dontrun = TRUE)"
   ]
  },
  {
   "cell_type": "code",
   "execution_count": null,
   "metadata": {
    "vscode": {
     "languageId": "r"
    }
   },
   "outputs": [],
   "source": [
    "options(mc.cores = parallel::detectCores())\n",
    "rstan_options(auto_write = TRUE)\n",
    "Sys.setenv(LOCAL_CPPFLAGS = '-march=native')"
   ]
  },
  {
   "cell_type": "code",
   "execution_count": null,
   "metadata": {
    "vscode": {
     "languageId": "r"
    }
   },
   "outputs": [],
   "source": [
    "getwd()"
   ]
  },
  {
   "cell_type": "code",
   "execution_count": null,
   "metadata": {
    "vscode": {
     "languageId": "r"
    }
   },
   "outputs": [],
   "source": [
    "setwd(\"/mnt/d/Github/Stan/Stan\")\n",
    "remove(list = ls()) # clear the current work space"
   ]
  },
  {
   "cell_type": "code",
   "execution_count": null,
   "metadata": {
    "vscode": {
     "languageId": "r"
    }
   },
   "outputs": [],
   "source": [
    "HFA <- readRDS(file = paste(getwd(),\n",
    "    \"/Data/Sorted_Bundesliga_2019_20.rds\", sep = \"\"))"
   ]
  },
  {
   "cell_type": "code",
   "execution_count": null,
   "metadata": {
    "vscode": {
     "languageId": "r"
    }
   },
   "outputs": [],
   "source": [
    "HFA"
   ]
  },
  {
   "cell_type": "code",
   "execution_count": null,
   "metadata": {
    "vscode": {
     "languageId": "r"
    }
   },
   "outputs": [],
   "source": [
    "ngames <- nrow(HFA)\n",
    "ngames\n",
    "\n",
    "nteams <- length(unique(HFA$host))\n",
    "nteams\n",
    "\n",
    "HFA$COVID + 1\n",
    "\n",
    "dl <- list(\n",
    "  ng = ngames,\n",
    "  hg = HFA$HG,\n",
    "  vg = HFA$VG,\n",
    "  cv = HFA$COVID + 1,\n",
    "  ht = HFA$host,\n",
    "  vt = HFA$visitor,\n",
    "  nt = nteams\n",
    ")"
   ]
  },
  {
   "cell_type": "code",
   "execution_count": null,
   "metadata": {
    "vscode": {
     "languageId": "r"
    }
   },
   "outputs": [],
   "source": [
    "remove(sm)\n",
    "sm <- stan_model(paste(getwd(), \"/Models/Bundesliga2020.stan\", sep = \"\"))"
   ]
  },
  {
   "cell_type": "code",
   "execution_count": null,
   "metadata": {
    "vscode": {
     "languageId": "r"
    }
   },
   "outputs": [],
   "source": [
    "fit <- stan(\n",
    "  file = paste(getwd(), \"/Models/Bundesliga2020.stan\", sep = \"\"),  # Stan program\n",
    "  data = dl,    # named list of data\n",
    "  chains = 4,             # number of Markov chains\n",
    "  warmup = 1000,          # number of warmup iterations per chain\n",
    "  iter = 2000,            # total number of iterations per chain\n",
    "  cores = 2,              # number of cores (could use one per chain)\n",
    "  refresh = 1             # no progress shown\n",
    "  )"
   ]
  },
  {
   "cell_type": "code",
   "execution_count": null,
   "metadata": {
    "vscode": {
     "languageId": "r"
    }
   },
   "outputs": [],
   "source": [
    "remove(fit)\n",
    "fit <- sampling(object = sm,\n",
    "                data = dl,\n",
    "                init = \"random\",\n",
    "                control = list(adapt_delta = 0.95),\n",
    "                chains = 4,\n",
    "                iter = 2000,\n",
    "                warmup = 1500,\n",
    "                thin = 1,\n",
    "                verbose = TRUE)"
   ]
  },
  {
   "cell_type": "code",
   "execution_count": null,
   "metadata": {
    "vscode": {
     "languageId": "r"
    }
   },
   "outputs": [],
   "source": [
    "summary(fit, pars = c(\"hfa_d\"))"
   ]
  },
  {
   "cell_type": "code",
   "execution_count": null,
   "metadata": {
    "vscode": {
     "languageId": "r"
    }
   },
   "outputs": [],
   "source": [
    "traceplot(fit, pars=c(\"hfa_d\"))"
   ]
  },
  {
   "cell_type": "code",
   "execution_count": null,
   "metadata": {
    "vscode": {
     "languageId": "r"
    }
   },
   "outputs": [],
   "source": [
    "theme_posterior <- theme(\n",
    "    axis.line.x = element_line(arrow=arrow(length=unit(0.05, \"cm\")),\n",
    "     lineend = \"butt\"),\n",
    "    panel.background = element_rect(fill=\"transparent\"),\n",
    "    panel.border = element_rect(fill=\"transparent\"),\n",
    "    plot.background = element_rect(fill = \"transparent\"),\n",
    "  #panel.spacing.y = unit(1,\"lines\"),\n",
    "    plot.margin = unit(c(1,1,1,1), \"cm\"),\n",
    "  #\n",
    "    axis.title.y = element_blank(), \n",
    "    axis.text.y = element_text(color = \"grey20\",\n",
    "      size = 8, angle = 0, hjust = 1, vjust = 0, face = \"plain\"),\n",
    "    xis.text.x = element_text(color=\"grey20\",\n",
    "      hjust = 1, vjust=1, size=8, angle = 50, face = \"plain\"),\n",
    "    axis.ticks.y = element_blank()\n",
    ")"
   ]
  },
  {
   "cell_type": "code",
   "execution_count": null,
   "metadata": {
    "vscode": {
     "languageId": "r"
    }
   },
   "outputs": [],
   "source": [
    "plot(fit,\n",
    "     pars = names(fit)[c(1,2)],\n",
    "     show_density = TRUE,\n",
    "     fill_color = \"#998811\",\n",
    "     est_color = \"#ffffff\",\n",
    "     ci_level = 0.9, outer_level=0.95) +\n",
    "     geom_vline(xintercept = 0, linetype = 3, size = 0.5)\n",
    "     + theme_Posterior"
   ]
  }
 ],
 "metadata": {
  "interpreter": {
   "hash": "31f2aee4e71d21fbe5cf8b01ff0e069b9275f58929596ceb00d14d90e3e16cd6"
  },
  "kernelspec": {
   "display_name": "R",
   "language": "R",
   "name": "ir"
  },
  "language_info": {
   "codemirror_mode": "r",
   "file_extension": ".r",
   "mimetype": "text/x-r-source",
   "name": "R",
   "pygments_lexer": "r",
   "version": "4.1.2"
  },
  "orig_nbformat": 4
 },
 "nbformat": 4,
 "nbformat_minor": 2
}
