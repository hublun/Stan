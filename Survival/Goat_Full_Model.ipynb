{
 "cells": [
  {
   "cell_type": "code",
   "execution_count": null,
   "metadata": {
    "vscode": {
     "languageId": "r"
    }
   },
   "outputs": [],
   "source": [
    "library(cmdstanr)"
   ]
  },
  {
   "cell_type": "code",
   "execution_count": null,
   "metadata": {
    "vscode": {
     "languageId": "r"
    }
   },
   "outputs": [],
   "source": [
    "install_cmdstan()"
   ]
  },
  {
   "cell_type": "code",
   "execution_count": 4,
   "metadata": {
    "vscode": {
     "languageId": "r"
    }
   },
   "outputs": [],
   "source": [
    "df = readRDS(\"goat.rds\")"
   ]
  },
  {
   "cell_type": "code",
   "execution_count": 5,
   "metadata": {
    "vscode": {
     "languageId": "r"
    }
   },
   "outputs": [
    {
     "name": "stdout",
     "output_type": "stream",
     "text": [
      "'data.frame':\t150 obs. of  4 variables:\n",
      " $ death : int  20 34 1 2 3 3 50 26 1 50 ...\n",
      " $ status: int  1 1 1 1 1 1 0 1 1 0 ...\n",
      " $ weight: num  5.38 7.41 9.27 6.23 5.23 ...\n",
      " $ group : chr  \"A\" \"A\" \"A\" \"A\" ...\n"
     ]
    }
   ],
   "source": [
    "str(df)"
   ]
  },
  {
   "cell_type": "code",
   "execution_count": 8,
   "metadata": {
    "vscode": {
     "languageId": "r"
    }
   },
   "outputs": [
    {
     "name": "stderr",
     "output_type": "stream",
     "text": [
      "-- \u001b[1mAttaching packages\u001b[22m --------------------------------------- tidyverse 1.3.2 --\n",
      "\u001b[32mv\u001b[39m \u001b[34mggplot2\u001b[39m 3.4.0      \u001b[32mv\u001b[39m \u001b[34mpurrr  \u001b[39m 1.0.1 \n",
      "\u001b[32mv\u001b[39m \u001b[34mtibble \u001b[39m 3.1.8      \u001b[32mv\u001b[39m \u001b[34mdplyr  \u001b[39m 1.0.10\n",
      "\u001b[32mv\u001b[39m \u001b[34mtidyr  \u001b[39m 1.2.1      \u001b[32mv\u001b[39m \u001b[34mstringr\u001b[39m 1.5.0 \n",
      "\u001b[32mv\u001b[39m \u001b[34mreadr  \u001b[39m 2.1.3      \u001b[32mv\u001b[39m \u001b[34mforcats\u001b[39m 0.5.2 \n",
      "-- \u001b[1mConflicts\u001b[22m ------------------------------------------ tidyverse_conflicts() --\n",
      "\u001b[31mx\u001b[39m \u001b[34mdplyr\u001b[39m::\u001b[32mfilter()\u001b[39m masks \u001b[34mstats\u001b[39m::filter()\n",
      "\u001b[31mx\u001b[39m \u001b[34mdplyr\u001b[39m::\u001b[32mlag()\u001b[39m    masks \u001b[34mstats\u001b[39m::lag()\n"
     ]
    }
   ],
   "source": [
    "library(\"tidyverse\")"
   ]
  },
  {
   "cell_type": "code",
   "execution_count": 9,
   "metadata": {
    "vscode": {
     "languageId": "r"
    }
   },
   "outputs": [],
   "source": [
    "df <- df %>% group_by(group)"
   ]
  },
  {
   "cell_type": "code",
   "execution_count": 10,
   "metadata": {
    "vscode": {
     "languageId": "r"
    }
   },
   "outputs": [],
   "source": [
    "dl <- list(\n",
    "  N = nrow(df),\n",
    "  G = length(unique(df$group)),\n",
    "  time = df$death,\n",
    "  weight = (df$weight-12)/12,\n",
    "  event = df$status,\n",
    "  gid = df %>% group_indices()\n",
    ")"
   ]
  },
  {
   "cell_type": "markdown",
   "metadata": {},
   "source": [
    "---"
   ]
  },
  {
   "cell_type": "markdown",
   "metadata": {},
   "source": [
    "## Full Model"
   ]
  },
  {
   "cell_type": "code",
   "execution_count": 11,
   "metadata": {
    "vscode": {
     "languageId": "r"
    }
   },
   "outputs": [],
   "source": [
    "model_full = cmdstan_model(\"goat_cmd.stan\") # full model"
   ]
  },
  {
   "cell_type": "code",
   "execution_count": 12,
   "metadata": {
    "vscode": {
     "languageId": "r"
    }
   },
   "outputs": [
    {
     "name": "stdout",
     "output_type": "stream",
     "text": [
      "Running MCMC with 4 parallel chains...\n",
      "\n",
      "Chain 1 Iteration:    1 / 2000 [  0%]  (Warmup) \n"
     ]
    },
    {
     "name": "stderr",
     "output_type": "stream",
     "text": [
      "Chain 1 Informational Message: The current Metropolis proposal is about to be rejected because of the following issue:\n",
      "\n",
      "Chain 1 Exception: gamma_lpdf: Random variable is 0, but must be positive finite! (in '/var/folders/zj/p752w6gn671bt9k5d2v45phm0000gp/T/RtmpN3f4iU/model-82cb3a4350b4.stan', line 35, column 3 to column 21)\n",
      "\n",
      "Chain 1 If this warning occurs sporadically, such as for highly constrained variable types like covariance matrices, then the sampler is fine,\n",
      "\n",
      "Chain 1 but if this warning occurs often then your model may be either severely ill-conditioned or misspecified.\n",
      "\n",
      "Chain 1 \n",
      "\n",
      "Chain 1 Informational Message: The current Metropolis proposal is about to be rejected because of the following issue:\n",
      "\n",
      "Chain 1 Exception: weibull_lpdf: Scale parameter is 0, but must be positive finite! (in '/var/folders/zj/p752w6gn671bt9k5d2v45phm0000gp/T/RtmpN3f4iU/model-82cb3a4350b4.stan', line 39, column 12 to column 44)\n",
      "\n",
      "Chain 1 If this warning occurs sporadically, such as for highly constrained variable types like covariance matrices, then the sampler is fine,\n",
      "\n",
      "Chain 1 but if this warning occurs often then your model may be either severely ill-conditioned or misspecified.\n",
      "\n",
      "Chain 1 \n",
      "\n",
      "Chain 1 Informational Message: The current Metropolis proposal is about to be rejected because of the following issue:\n",
      "\n",
      "Chain 1 Exception: weibull_lpdf: Scale parameter is 0, but must be positive finite! (in '/var/folders/zj/p752w6gn671bt9k5d2v45phm0000gp/T/RtmpN3f4iU/model-82cb3a4350b4.stan', line 39, column 12 to column 44)\n",
      "\n",
      "Chain 1 If this warning occurs sporadically, such as for highly constrained variable types like covariance matrices, then the sampler is fine,\n",
      "\n",
      "Chain 1 but if this warning occurs often then your model may be either severely ill-conditioned or misspecified.\n",
      "\n",
      "Chain 1 \n",
      "\n"
     ]
    },
    {
     "name": "stdout",
     "output_type": "stream",
     "text": [
      "Chain 2 Iteration:    1 / 2000 [  0%]  (Warmup) \n"
     ]
    },
    {
     "name": "stderr",
     "output_type": "stream",
     "text": [
      "Chain 2 Informational Message: The current Metropolis proposal is about to be rejected because of the following issue:\n",
      "\n",
      "Chain 2 Exception: weibull_lpdf: Scale parameter is 0, but must be positive finite! (in '/var/folders/zj/p752w6gn671bt9k5d2v45phm0000gp/T/RtmpN3f4iU/model-82cb3a4350b4.stan', line 39, column 12 to column 44)\n",
      "\n",
      "Chain 2 If this warning occurs sporadically, such as for highly constrained variable types like covariance matrices, then the sampler is fine,\n",
      "\n",
      "Chain 2 but if this warning occurs often then your model may be either severely ill-conditioned or misspecified.\n",
      "\n",
      "Chain 2 \n",
      "\n",
      "Chain 2 Informational Message: The current Metropolis proposal is about to be rejected because of the following issue:\n",
      "\n",
      "Chain 2 Exception: weibull_lpdf: Scale parameter is 0, but must be positive finite! (in '/var/folders/zj/p752w6gn671bt9k5d2v45phm0000gp/T/RtmpN3f4iU/model-82cb3a4350b4.stan', line 39, column 12 to column 44)\n",
      "\n",
      "Chain 2 If this warning occurs sporadically, such as for highly constrained variable types like covariance matrices, then the sampler is fine,\n",
      "\n",
      "Chain 2 but if this warning occurs often then your model may be either severely ill-conditioned or misspecified.\n",
      "\n",
      "Chain 2 \n",
      "\n",
      "Chain 2 Informational Message: The current Metropolis proposal is about to be rejected because of the following issue:\n",
      "\n",
      "Chain 2 Exception: weibull_lpdf: Scale parameter is 0, but must be positive finite! (in '/var/folders/zj/p752w6gn671bt9k5d2v45phm0000gp/T/RtmpN3f4iU/model-82cb3a4350b4.stan', line 39, column 12 to column 44)\n",
      "\n",
      "Chain 2 If this warning occurs sporadically, such as for highly constrained variable types like covariance matrices, then the sampler is fine,\n",
      "\n",
      "Chain 2 but if this warning occurs often then your model may be either severely ill-conditioned or misspecified.\n",
      "\n",
      "Chain 2 \n",
      "\n",
      "Chain 2 Informational Message: The current Metropolis proposal is about to be rejected because of the following issue:\n",
      "\n",
      "Chain 2 Exception: weibull_lpdf: Scale parameter is 0, but must be positive finite! (in '/var/folders/zj/p752w6gn671bt9k5d2v45phm0000gp/T/RtmpN3f4iU/model-82cb3a4350b4.stan', line 39, column 12 to column 44)\n",
      "\n",
      "Chain 2 If this warning occurs sporadically, such as for highly constrained variable types like covariance matrices, then the sampler is fine,\n",
      "\n",
      "Chain 2 but if this warning occurs often then your model may be either severely ill-conditioned or misspecified.\n",
      "\n",
      "Chain 2 \n",
      "\n",
      "Chain 2 Informational Message: The current Metropolis proposal is about to be rejected because of the following issue:\n",
      "\n",
      "Chain 2 Exception: gamma_lpdf: Random variable is inf, but must be positive finite! (in '/var/folders/zj/p752w6gn671bt9k5d2v45phm0000gp/T/RtmpN3f4iU/model-82cb3a4350b4.stan', line 35, column 3 to column 21)\n",
      "\n",
      "Chain 2 If this warning occurs sporadically, such as for highly constrained variable types like covariance matrices, then the sampler is fine,\n",
      "\n",
      "Chain 2 but if this warning occurs often then your model may be either severely ill-conditioned or misspecified.\n",
      "\n",
      "Chain 2 \n",
      "\n",
      "Chain 2 Informational Message: The current Metropolis proposal is about to be rejected because of the following issue:\n",
      "\n",
      "Chain 2 Exception: weibull_lpdf: Scale parameter is 0, but must be positive finite! (in '/var/folders/zj/p752w6gn671bt9k5d2v45phm0000gp/T/RtmpN3f4iU/model-82cb3a4350b4.stan', line 39, column 12 to column 44)\n",
      "\n",
      "Chain 2 If this warning occurs sporadically, such as for highly constrained variable types like covariance matrices, then the sampler is fine,\n",
      "\n",
      "Chain 2 but if this warning occurs often then your model may be either severely ill-conditioned or misspecified.\n",
      "\n",
      "Chain 2 \n",
      "\n",
      "Chain 2 Informational Message: The current Metropolis proposal is about to be rejected because of the following issue:\n",
      "\n",
      "Chain 2 Exception: weibull_lpdf: Scale parameter is 0, but must be positive finite! (in '/var/folders/zj/p752w6gn671bt9k5d2v45phm0000gp/T/RtmpN3f4iU/model-82cb3a4350b4.stan', line 39, column 12 to column 44)\n",
      "\n",
      "Chain 2 If this warning occurs sporadically, such as for highly constrained variable types like covariance matrices, then the sampler is fine,\n",
      "\n",
      "Chain 2 but if this warning occurs often then your model may be either severely ill-conditioned or misspecified.\n",
      "\n",
      "Chain 2 \n",
      "\n"
     ]
    },
    {
     "name": "stdout",
     "output_type": "stream",
     "text": [
      "Chain 3 Iteration:    1 / 2000 [  0%]  (Warmup) \n"
     ]
    },
    {
     "name": "stderr",
     "output_type": "stream",
     "text": [
      "Chain 3 Informational Message: The current Metropolis proposal is about to be rejected because of the following issue:\n",
      "\n",
      "Chain 3 Exception: weibull_lpdf: Scale parameter is 0, but must be positive finite! (in '/var/folders/zj/p752w6gn671bt9k5d2v45phm0000gp/T/RtmpN3f4iU/model-82cb3a4350b4.stan', line 39, column 12 to column 44)\n",
      "\n",
      "Chain 3 If this warning occurs sporadically, such as for highly constrained variable types like covariance matrices, then the sampler is fine,\n",
      "\n",
      "Chain 3 but if this warning occurs often then your model may be either severely ill-conditioned or misspecified.\n",
      "\n",
      "Chain 3 \n",
      "\n",
      "Chain 3 Informational Message: The current Metropolis proposal is about to be rejected because of the following issue:\n",
      "\n",
      "Chain 3 Exception: weibull_lpdf: Scale parameter is 0, but must be positive finite! (in '/var/folders/zj/p752w6gn671bt9k5d2v45phm0000gp/T/RtmpN3f4iU/model-82cb3a4350b4.stan', line 39, column 12 to column 44)\n",
      "\n",
      "Chain 3 If this warning occurs sporadically, such as for highly constrained variable types like covariance matrices, then the sampler is fine,\n",
      "\n",
      "Chain 3 but if this warning occurs often then your model may be either severely ill-conditioned or misspecified.\n",
      "\n",
      "Chain 3 \n",
      "\n",
      "Chain 3 Informational Message: The current Metropolis proposal is about to be rejected because of the following issue:\n",
      "\n",
      "Chain 3 Exception: weibull_lpdf: Scale parameter is 0, but must be positive finite! (in '/var/folders/zj/p752w6gn671bt9k5d2v45phm0000gp/T/RtmpN3f4iU/model-82cb3a4350b4.stan', line 39, column 12 to column 44)\n",
      "\n",
      "Chain 3 If this warning occurs sporadically, such as for highly constrained variable types like covariance matrices, then the sampler is fine,\n",
      "\n",
      "Chain 3 but if this warning occurs often then your model may be either severely ill-conditioned or misspecified.\n",
      "\n",
      "Chain 3 \n",
      "\n",
      "Chain 3 Informational Message: The current Metropolis proposal is about to be rejected because of the following issue:\n",
      "\n",
      "Chain 3 Exception: weibull_lpdf: Scale parameter is 0, but must be positive finite! (in '/var/folders/zj/p752w6gn671bt9k5d2v45phm0000gp/T/RtmpN3f4iU/model-82cb3a4350b4.stan', line 39, column 12 to column 44)\n",
      "\n",
      "Chain 3 If this warning occurs sporadically, such as for highly constrained variable types like covariance matrices, then the sampler is fine,\n",
      "\n",
      "Chain 3 but if this warning occurs often then your model may be either severely ill-conditioned or misspecified.\n",
      "\n",
      "Chain 3 \n",
      "\n",
      "Chain 3 Informational Message: The current Metropolis proposal is about to be rejected because of the following issue:\n",
      "\n",
      "Chain 3 Exception: weibull_lpdf: Scale parameter is 0, but must be positive finite! (in '/var/folders/zj/p752w6gn671bt9k5d2v45phm0000gp/T/RtmpN3f4iU/model-82cb3a4350b4.stan', line 39, column 12 to column 44)\n",
      "\n",
      "Chain 3 If this warning occurs sporadically, such as for highly constrained variable types like covariance matrices, then the sampler is fine,\n",
      "\n",
      "Chain 3 but if this warning occurs often then your model may be either severely ill-conditioned or misspecified.\n",
      "\n",
      "Chain 3 \n",
      "\n",
      "Chain 3 Informational Message: The current Metropolis proposal is about to be rejected because of the following issue:\n",
      "\n",
      "Chain 3 Exception: gamma_lpdf: Random variable is 0, but must be positive finite! (in '/var/folders/zj/p752w6gn671bt9k5d2v45phm0000gp/T/RtmpN3f4iU/model-82cb3a4350b4.stan', line 35, column 3 to column 21)\n",
      "\n",
      "Chain 3 If this warning occurs sporadically, such as for highly constrained variable types like covariance matrices, then the sampler is fine,\n",
      "\n",
      "Chain 3 but if this warning occurs often then your model may be either severely ill-conditioned or misspecified.\n",
      "\n",
      "Chain 3 \n",
      "\n",
      "Chain 3 Informational Message: The current Metropolis proposal is about to be rejected because of the following issue:\n",
      "\n",
      "Chain 3 Exception: weibull_lpdf: Scale parameter is nan, but must be positive finite! (in '/var/folders/zj/p752w6gn671bt9k5d2v45phm0000gp/T/RtmpN3f4iU/model-82cb3a4350b4.stan', line 39, column 12 to column 44)\n",
      "\n",
      "Chain 3 If this warning occurs sporadically, such as for highly constrained variable types like covariance matrices, then the sampler is fine,\n",
      "\n",
      "Chain 3 but if this warning occurs often then your model may be either severely ill-conditioned or misspecified.\n",
      "\n",
      "Chain 3 \n",
      "\n",
      "Chain 4 Informational Message: The current Metropolis proposal is about to be rejected because of the following issue:\n",
      "\n",
      "Chain 4 Exception: gamma_lpdf: Random variable is 0, but must be positive finite! (in '/var/folders/zj/p752w6gn671bt9k5d2v45phm0000gp/T/RtmpN3f4iU/model-82cb3a4350b4.stan', line 35, column 3 to column 21)\n",
      "\n",
      "Chain 4 If this warning occurs sporadically, such as for highly constrained variable types like covariance matrices, then the sampler is fine,\n",
      "\n",
      "Chain 4 but if this warning occurs often then your model may be either severely ill-conditioned or misspecified.\n",
      "\n",
      "Chain 4 \n",
      "\n",
      "Chain 4 Informational Message: The current Metropolis proposal is about to be rejected because of the following issue:\n",
      "\n",
      "Chain 4 Exception: gamma_lpdf: Random variable is 0, but must be positive finite! (in '/var/folders/zj/p752w6gn671bt9k5d2v45phm0000gp/T/RtmpN3f4iU/model-82cb3a4350b4.stan', line 35, column 3 to column 21)\n",
      "\n",
      "Chain 4 If this warning occurs sporadically, such as for highly constrained variable types like covariance matrices, then the sampler is fine,\n",
      "\n",
      "Chain 4 but if this warning occurs often then your model may be either severely ill-conditioned or misspecified.\n",
      "\n",
      "Chain 4 \n",
      "\n",
      "Chain 4 Informational Message: The current Metropolis proposal is about to be rejected because of the following issue:\n",
      "\n",
      "Chain 4 Exception: gamma_lpdf: Random variable is 0, but must be positive finite! (in '/var/folders/zj/p752w6gn671bt9k5d2v45phm0000gp/T/RtmpN3f4iU/model-82cb3a4350b4.stan', line 35, column 3 to column 21)\n",
      "\n",
      "Chain 4 If this warning occurs sporadically, such as for highly constrained variable types like covariance matrices, then the sampler is fine,\n",
      "\n",
      "Chain 4 but if this warning occurs often then your model may be either severely ill-conditioned or misspecified.\n",
      "\n",
      "Chain 4 \n",
      "\n",
      "Chain 4 Informational Message: The current Metropolis proposal is about to be rejected because of the following issue:\n",
      "\n",
      "Chain 4 Exception: gamma_lpdf: Random variable is 0, but must be positive finite! (in '/var/folders/zj/p752w6gn671bt9k5d2v45phm0000gp/T/RtmpN3f4iU/model-82cb3a4350b4.stan', line 35, column 3 to column 21)\n",
      "\n",
      "Chain 4 If this warning occurs sporadically, such as for highly constrained variable types like covariance matrices, then the sampler is fine,\n",
      "\n",
      "Chain 4 but if this warning occurs often then your model may be either severely ill-conditioned or misspecified.\n",
      "\n",
      "Chain 4 \n",
      "\n",
      "Chain 4 Informational Message: The current Metropolis proposal is about to be rejected because of the following issue:\n",
      "\n",
      "Chain 4 Exception: gamma_lpdf: Random variable is 0, but must be positive finite! (in '/var/folders/zj/p752w6gn671bt9k5d2v45phm0000gp/T/RtmpN3f4iU/model-82cb3a4350b4.stan', line 35, column 3 to column 21)\n",
      "\n",
      "Chain 4 If this warning occurs sporadically, such as for highly constrained variable types like covariance matrices, then the sampler is fine,\n",
      "\n",
      "Chain 4 but if this warning occurs often then your model may be either severely ill-conditioned or misspecified.\n",
      "\n",
      "Chain 4 \n",
      "\n",
      "Chain 4 Informational Message: The current Metropolis proposal is about to be rejected because of the following issue:\n",
      "\n",
      "Chain 4 Exception: gamma_lpdf: Random variable is 0, but must be positive finite! (in '/var/folders/zj/p752w6gn671bt9k5d2v45phm0000gp/T/RtmpN3f4iU/model-82cb3a4350b4.stan', line 35, column 3 to column 21)\n",
      "\n",
      "Chain 4 If this warning occurs sporadically, such as for highly constrained variable types like covariance matrices, then the sampler is fine,\n",
      "\n",
      "Chain 4 but if this warning occurs often then your model may be either severely ill-conditioned or misspecified.\n",
      "\n",
      "Chain 4 \n",
      "\n",
      "Chain 4 Informational Message: The current Metropolis proposal is about to be rejected because of the following issue:\n",
      "\n",
      "Chain 4 Exception: gamma_lpdf: Random variable is 0, but must be positive finite! (in '/var/folders/zj/p752w6gn671bt9k5d2v45phm0000gp/T/RtmpN3f4iU/model-82cb3a4350b4.stan', line 35, column 3 to column 21)\n",
      "\n",
      "Chain 4 If this warning occurs sporadically, such as for highly constrained variable types like covariance matrices, then the sampler is fine,\n",
      "\n",
      "Chain 4 but if this warning occurs often then your model may be either severely ill-conditioned or misspecified.\n",
      "\n",
      "Chain 4 \n",
      "\n",
      "Chain 4 Informational Message: The current Metropolis proposal is about to be rejected because of the following issue:\n",
      "\n",
      "Chain 4 Exception: gamma_lpdf: Random variable is 0, but must be positive finite! (in '/var/folders/zj/p752w6gn671bt9k5d2v45phm0000gp/T/RtmpN3f4iU/model-82cb3a4350b4.stan', line 35, column 3 to column 21)\n",
      "\n",
      "Chain 4 If this warning occurs sporadically, such as for highly constrained variable types like covariance matrices, then the sampler is fine,\n",
      "\n",
      "Chain 4 but if this warning occurs often then your model may be either severely ill-conditioned or misspecified.\n",
      "\n",
      "Chain 4 \n",
      "\n",
      "Chain 4 Informational Message: The current Metropolis proposal is about to be rejected because of the following issue:\n",
      "\n",
      "Chain 4 Exception: gamma_lpdf: Random variable is 0, but must be positive finite! (in '/var/folders/zj/p752w6gn671bt9k5d2v45phm0000gp/T/RtmpN3f4iU/model-82cb3a4350b4.stan', line 35, column 3 to column 21)\n",
      "\n",
      "Chain 4 If this warning occurs sporadically, such as for highly constrained variable types like covariance matrices, then the sampler is fine,\n",
      "\n",
      "Chain 4 but if this warning occurs often then your model may be either severely ill-conditioned or misspecified.\n",
      "\n",
      "Chain 4 \n",
      "\n",
      "Chain 4 Informational Message: The current Metropolis proposal is about to be rejected because of the following issue:\n",
      "\n",
      "Chain 4 Exception: gamma_lpdf: Random variable is 0, but must be positive finite! (in '/var/folders/zj/p752w6gn671bt9k5d2v45phm0000gp/T/RtmpN3f4iU/model-82cb3a4350b4.stan', line 35, column 3 to column 21)\n",
      "\n",
      "Chain 4 If this warning occurs sporadically, such as for highly constrained variable types like covariance matrices, then the sampler is fine,\n",
      "\n",
      "Chain 4 but if this warning occurs often then your model may be either severely ill-conditioned or misspecified.\n",
      "\n",
      "Chain 4 \n",
      "\n",
      "Chain 4 Informational Message: The current Metropolis proposal is about to be rejected because of the following issue:\n",
      "\n",
      "Chain 4 Exception: gamma_lpdf: Random variable is 0, but must be positive finite! (in '/var/folders/zj/p752w6gn671bt9k5d2v45phm0000gp/T/RtmpN3f4iU/model-82cb3a4350b4.stan', line 35, column 3 to column 21)\n",
      "\n",
      "Chain 4 If this warning occurs sporadically, such as for highly constrained variable types like covariance matrices, then the sampler is fine,\n",
      "\n",
      "Chain 4 but if this warning occurs often then your model may be either severely ill-conditioned or misspecified.\n",
      "\n",
      "Chain 4 \n",
      "\n",
      "Chain 4 Informational Message: The current Metropolis proposal is about to be rejected because of the following issue:\n",
      "\n",
      "Chain 4 Exception: gamma_lpdf: Random variable is 0, but must be positive finite! (in '/var/folders/zj/p752w6gn671bt9k5d2v45phm0000gp/T/RtmpN3f4iU/model-82cb3a4350b4.stan', line 35, column 3 to column 21)\n",
      "\n",
      "Chain 4 If this warning occurs sporadically, such as for highly constrained variable types like covariance matrices, then the sampler is fine,\n",
      "\n",
      "Chain 4 but if this warning occurs often then your model may be either severely ill-conditioned or misspecified.\n",
      "\n",
      "Chain 4 \n",
      "\n",
      "Chain 4 Informational Message: The current Metropolis proposal is about to be rejected because of the following issue:\n",
      "\n",
      "Chain 4 Exception: gamma_lpdf: Random variable is 0, but must be positive finite! (in '/var/folders/zj/p752w6gn671bt9k5d2v45phm0000gp/T/RtmpN3f4iU/model-82cb3a4350b4.stan', line 35, column 3 to column 21)\n",
      "\n",
      "Chain 4 If this warning occurs sporadically, such as for highly constrained variable types like covariance matrices, then the sampler is fine,\n",
      "\n",
      "Chain 4 but if this warning occurs often then your model may be either severely ill-conditioned or misspecified.\n",
      "\n",
      "Chain 4 \n",
      "\n",
      "Chain 4 Informational Message: The current Metropolis proposal is about to be rejected because of the following issue:\n",
      "\n",
      "Chain 4 Exception: gamma_lpdf: Random variable is 0, but must be positive finite! (in '/var/folders/zj/p752w6gn671bt9k5d2v45phm0000gp/T/RtmpN3f4iU/model-82cb3a4350b4.stan', line 35, column 3 to column 21)\n",
      "\n",
      "Chain 4 If this warning occurs sporadically, such as for highly constrained variable types like covariance matrices, then the sampler is fine,\n",
      "\n",
      "Chain 4 but if this warning occurs often then your model may be either severely ill-conditioned or misspecified.\n",
      "\n",
      "Chain 4 \n",
      "\n",
      "Chain 4 Informational Message: The current Metropolis proposal is about to be rejected because of the following issue:\n",
      "\n",
      "Chain 4 Exception: gamma_lpdf: Random variable is 0, but must be positive finite! (in '/var/folders/zj/p752w6gn671bt9k5d2v45phm0000gp/T/RtmpN3f4iU/model-82cb3a4350b4.stan', line 35, column 3 to column 21)\n",
      "\n",
      "Chain 4 If this warning occurs sporadically, such as for highly constrained variable types like covariance matrices, then the sampler is fine,\n",
      "\n"
     ]
    },
    {
     "name": "stdout",
     "output_type": "stream",
     "text": [
      "Chain 1 Iteration:  500 / 2000 [ 25%]  (Warmup) \n",
      "Chain 1 Iteration: 1000 / 2000 [ 50%]  (Warmup) \n",
      "Chain 1 Iteration: 1001 / 2000 [ 50%]  (Sampling) \n",
      "Chain 2 Iteration:  500 / 2000 [ 25%]  (Warmup) \n",
      "Chain 2 Iteration: 1000 / 2000 [ 50%]  (Warmup) \n",
      "Chain 2 Iteration: 1001 / 2000 [ 50%]  (Sampling) \n",
      "Chain 3 Iteration:  500 / 2000 [ 25%]  (Warmup) \n",
      "Chain 3 Iteration: 1000 / 2000 [ 50%]  (Warmup) \n",
      "Chain 3 Iteration: 1001 / 2000 [ 50%]  (Sampling) \n",
      "Chain 4 Iteration:    1 / 2000 [  0%]  (Warmup) \n"
     ]
    },
    {
     "name": "stderr",
     "output_type": "stream",
     "text": [
      "Chain 4 but if this warning occurs often then your model may be either severely ill-conditioned or misspecified.\n",
      "\n",
      "Chain 4 \n",
      "\n",
      "Chain 4 Informational Message: The current Metropolis proposal is about to be rejected because of the following issue:\n",
      "\n",
      "Chain 4 Exception: gamma_lpdf: Random variable is 0, but must be positive finite! (in '/var/folders/zj/p752w6gn671bt9k5d2v45phm0000gp/T/RtmpN3f4iU/model-82cb3a4350b4.stan', line 35, column 3 to column 21)\n",
      "\n",
      "Chain 4 If this warning occurs sporadically, such as for highly constrained variable types like covariance matrices, then the sampler is fine,\n",
      "\n",
      "Chain 4 but if this warning occurs often then your model may be either severely ill-conditioned or misspecified.\n",
      "\n",
      "Chain 4 \n",
      "\n",
      "Chain 4 Informational Message: The current Metropolis proposal is about to be rejected because of the following issue:\n",
      "\n",
      "Chain 4 Exception: gamma_lpdf: Random variable is 0, but must be positive finite! (in '/var/folders/zj/p752w6gn671bt9k5d2v45phm0000gp/T/RtmpN3f4iU/model-82cb3a4350b4.stan', line 35, column 3 to column 21)\n",
      "\n",
      "Chain 4 If this warning occurs sporadically, such as for highly constrained variable types like covariance matrices, then the sampler is fine,\n",
      "\n",
      "Chain 4 but if this warning occurs often then your model may be either severely ill-conditioned or misspecified.\n",
      "\n",
      "Chain 4 \n",
      "\n",
      "Chain 4 Informational Message: The current Metropolis proposal is about to be rejected because of the following issue:\n",
      "\n",
      "Chain 4 Exception: weibull_lpdf: Scale parameter is 0, but must be positive finite! (in '/var/folders/zj/p752w6gn671bt9k5d2v45phm0000gp/T/RtmpN3f4iU/model-82cb3a4350b4.stan', line 39, column 12 to column 44)\n",
      "\n",
      "Chain 4 If this warning occurs sporadically, such as for highly constrained variable types like covariance matrices, then the sampler is fine,\n",
      "\n",
      "Chain 4 but if this warning occurs often then your model may be either severely ill-conditioned or misspecified.\n",
      "\n",
      "Chain 4 \n",
      "\n",
      "Chain 4 Informational Message: The current Metropolis proposal is about to be rejected because of the following issue:\n",
      "\n",
      "Chain 4 Exception: weibull_lpdf: Scale parameter is 0, but must be positive finite! (in '/var/folders/zj/p752w6gn671bt9k5d2v45phm0000gp/T/RtmpN3f4iU/model-82cb3a4350b4.stan', line 39, column 12 to column 44)\n",
      "\n",
      "Chain 4 If this warning occurs sporadically, such as for highly constrained variable types like covariance matrices, then the sampler is fine,\n",
      "\n",
      "Chain 4 but if this warning occurs often then your model may be either severely ill-conditioned or misspecified.\n",
      "\n",
      "Chain 4 \n",
      "\n",
      "Chain 4 Informational Message: The current Metropolis proposal is about to be rejected because of the following issue:\n",
      "\n",
      "Chain 4 Exception: weibull_lpdf: Scale parameter is 0, but must be positive finite! (in '/var/folders/zj/p752w6gn671bt9k5d2v45phm0000gp/T/RtmpN3f4iU/model-82cb3a4350b4.stan', line 39, column 12 to column 44)\n",
      "\n",
      "Chain 4 If this warning occurs sporadically, such as for highly constrained variable types like covariance matrices, then the sampler is fine,\n",
      "\n",
      "Chain 4 but if this warning occurs often then your model may be either severely ill-conditioned or misspecified.\n",
      "\n",
      "Chain 4 \n",
      "\n",
      "Chain 4 Informational Message: The current Metropolis proposal is about to be rejected because of the following issue:\n",
      "\n",
      "Chain 4 Exception: gamma_lpdf: Random variable is 0, but must be positive finite! (in '/var/folders/zj/p752w6gn671bt9k5d2v45phm0000gp/T/RtmpN3f4iU/model-82cb3a4350b4.stan', line 35, column 3 to column 21)\n",
      "\n",
      "Chain 4 If this warning occurs sporadically, such as for highly constrained variable types like covariance matrices, then the sampler is fine,\n",
      "\n",
      "Chain 4 but if this warning occurs often then your model may be either severely ill-conditioned or misspecified.\n",
      "\n",
      "Chain 4 \n",
      "\n",
      "Chain 4 Informational Message: The current Metropolis proposal is about to be rejected because of the following issue:\n",
      "\n",
      "Chain 4 Exception: gamma_lpdf: Random variable is 0, but must be positive finite! (in '/var/folders/zj/p752w6gn671bt9k5d2v45phm0000gp/T/RtmpN3f4iU/model-82cb3a4350b4.stan', line 35, column 3 to column 21)\n",
      "\n",
      "Chain 4 If this warning occurs sporadically, such as for highly constrained variable types like covariance matrices, then the sampler is fine,\n",
      "\n",
      "Chain 4 but if this warning occurs often then your model may be either severely ill-conditioned or misspecified.\n",
      "\n",
      "Chain 4 \n",
      "\n",
      "Chain 4 Informational Message: The current Metropolis proposal is about to be rejected because of the following issue:\n",
      "\n",
      "Chain 4 Exception: gamma_lpdf: Random variable is 0, but must be positive finite! (in '/var/folders/zj/p752w6gn671bt9k5d2v45phm0000gp/T/RtmpN3f4iU/model-82cb3a4350b4.stan', line 35, column 3 to column 21)\n",
      "\n",
      "Chain 4 If this warning occurs sporadically, such as for highly constrained variable types like covariance matrices, then the sampler is fine,\n",
      "\n",
      "Chain 4 but if this warning occurs often then your model may be either severely ill-conditioned or misspecified.\n",
      "\n",
      "Chain 4 \n",
      "\n",
      "Chain 4 Informational Message: The current Metropolis proposal is about to be rejected because of the following issue:\n",
      "\n",
      "Chain 4 Exception: gamma_lpdf: Random variable is 0, but must be positive finite! (in '/var/folders/zj/p752w6gn671bt9k5d2v45phm0000gp/T/RtmpN3f4iU/model-82cb3a4350b4.stan', line 35, column 3 to column 21)\n",
      "\n",
      "Chain 4 If this warning occurs sporadically, such as for highly constrained variable types like covariance matrices, then the sampler is fine,\n",
      "\n",
      "Chain 4 but if this warning occurs often then your model may be either severely ill-conditioned or misspecified.\n",
      "\n",
      "Chain 4 \n",
      "\n",
      "Chain 4 Informational Message: The current Metropolis proposal is about to be rejected because of the following issue:\n",
      "\n",
      "Chain 4 Exception: gamma_lpdf: Random variable is 0, but must be positive finite! (in '/var/folders/zj/p752w6gn671bt9k5d2v45phm0000gp/T/RtmpN3f4iU/model-82cb3a4350b4.stan', line 35, column 3 to column 21)\n",
      "\n",
      "Chain 4 If this warning occurs sporadically, such as for highly constrained variable types like covariance matrices, then the sampler is fine,\n",
      "\n",
      "Chain 4 but if this warning occurs often then your model may be either severely ill-conditioned or misspecified.\n",
      "\n",
      "Chain 4 \n",
      "\n",
      "Chain 4 Informational Message: The current Metropolis proposal is about to be rejected because of the following issue:\n",
      "\n",
      "Chain 4 Exception: gamma_lpdf: Random variable is 0, but must be positive finite! (in '/var/folders/zj/p752w6gn671bt9k5d2v45phm0000gp/T/RtmpN3f4iU/model-82cb3a4350b4.stan', line 35, column 3 to column 21)\n",
      "\n",
      "Chain 4 If this warning occurs sporadically, such as for highly constrained variable types like covariance matrices, then the sampler is fine,\n",
      "\n",
      "Chain 4 but if this warning occurs often then your model may be either severely ill-conditioned or misspecified.\n",
      "\n",
      "Chain 4 \n",
      "\n",
      "Chain 4 Informational Message: The current Metropolis proposal is about to be rejected because of the following issue:\n",
      "\n",
      "Chain 4 Exception: weibull_lpdf: Scale parameter is 0, but must be positive finite! (in '/var/folders/zj/p752w6gn671bt9k5d2v45phm0000gp/T/RtmpN3f4iU/model-82cb3a4350b4.stan', line 39, column 12 to column 44)\n",
      "\n",
      "Chain 4 If this warning occurs sporadically, such as for highly constrained variable types like covariance matrices, then the sampler is fine,\n",
      "\n",
      "Chain 4 but if this warning occurs often then your model may be either severely ill-conditioned or misspecified.\n",
      "\n",
      "Chain 4 \n",
      "\n"
     ]
    },
    {
     "name": "stdout",
     "output_type": "stream",
     "text": [
      "Chain 4 Iteration:  500 / 2000 [ 25%]  (Warmup) \n",
      "Chain 4 Iteration: 1000 / 2000 [ 50%]  (Warmup) \n",
      "Chain 4 Iteration: 1001 / 2000 [ 50%]  (Sampling) \n",
      "Chain 1 Iteration: 1500 / 2000 [ 75%]  (Sampling) \n",
      "Chain 2 Iteration: 1500 / 2000 [ 75%]  (Sampling) \n",
      "Chain 3 Iteration: 1500 / 2000 [ 75%]  (Sampling) \n",
      "Chain 4 Iteration: 1500 / 2000 [ 75%]  (Sampling) \n",
      "Chain 1 Iteration: 2000 / 2000 [100%]  (Sampling) \n",
      "Chain 2 Iteration: 2000 / 2000 [100%]  (Sampling) \n",
      "Chain 3 Iteration: 2000 / 2000 [100%]  (Sampling) \n",
      "Chain 1 finished in 1.6 seconds.\n",
      "Chain 2 finished in 1.5 seconds.\n",
      "Chain 3 finished in 1.5 seconds.\n",
      "Chain 4 Iteration: 2000 / 2000 [100%]  (Sampling) \n",
      "Chain 4 finished in 1.4 seconds.\n",
      "\n",
      "All 4 chains finished successfully.\n",
      "Mean chain execution time: 1.5 seconds.\n",
      "Total execution time: 1.9 seconds.\n",
      "\n"
     ]
    }
   ],
   "source": [
    "fit = model_full$sample(\n",
    "    data = dl,\n",
    "    seed = 1234,\n",
    "    chains = 4,\n",
    "    parallel_chains = 4,\n",
    "    refresh =500\n",
    ")"
   ]
  },
  {
   "cell_type": "code",
   "execution_count": 13,
   "metadata": {
    "vscode": {
     "languageId": "r"
    }
   },
   "outputs": [
    {
     "data": {
      "text/html": [
       "<table class=\"dataframe\">\n",
       "<caption>A draws_summary: 1359 × 10</caption>\n",
       "<thead>\n",
       "\t<tr><th scope=col>variable</th><th scope=col>mean</th><th scope=col>median</th><th scope=col>sd</th><th scope=col>mad</th><th scope=col>q5</th><th scope=col>q95</th><th scope=col>rhat</th><th scope=col>ess_bulk</th><th scope=col>ess_tail</th></tr>\n",
       "\t<tr><th scope=col>&lt;chr&gt;</th><th scope=col>&lt;dbl&gt;</th><th scope=col>&lt;dbl&gt;</th><th scope=col>&lt;dbl&gt;</th><th scope=col>&lt;dbl&gt;</th><th scope=col>&lt;dbl&gt;</th><th scope=col>&lt;dbl&gt;</th><th scope=col>&lt;dbl&gt;</th><th scope=col>&lt;dbl&gt;</th><th scope=col>&lt;dbl&gt;</th></tr>\n",
       "</thead>\n",
       "<tbody>\n",
       "\t<tr><td>lp__      </td><td>-478.11036975</td><td>-477.78100000</td><td> 2.06600044</td><td> 1.93405170</td><td>-482.00260000</td><td>-475.3859500</td><td>1.0012105</td><td>1739.438</td><td>2117.443</td></tr>\n",
       "\t<tr><td>a         </td><td>   2.04827251</td><td>   2.05978000</td><td> 0.52097080</td><td> 0.52593752</td><td>   1.17064200</td><td>   2.8747280</td><td>1.0028065</td><td>1668.819</td><td>1994.100</td></tr>\n",
       "\t<tr><td>a_group[1]</td><td>   1.07126617</td><td>   1.07342500</td><td> 0.61155446</td><td> 0.61140941</td><td>   0.05827491</td><td>   2.0551700</td><td>1.0024235</td><td>1948.257</td><td>2258.673</td></tr>\n",
       "\t<tr><td>a_group[2]</td><td>   0.79203835</td><td>   0.78104350</td><td> 0.53910733</td><td> 0.54590666</td><td>  -0.07134877</td><td>   1.7012475</td><td>1.0027686</td><td>1732.366</td><td>2193.499</td></tr>\n",
       "\t<tr><td>a_group[3]</td><td>   0.09438209</td><td>   0.08495515</td><td> 0.53762990</td><td> 0.53127044</td><td>  -0.75776765</td><td>   1.0004130</td><td>1.0028118</td><td>1700.995</td><td>2189.473</td></tr>\n",
       "\t<tr><td>b_group[1]</td><td>  -0.88388992</td><td>  -0.88570400</td><td> 0.69093209</td><td> 0.68627478</td><td>  -2.03485350</td><td>   0.2533873</td><td>0.9999944</td><td>3225.187</td><td>2467.369</td></tr>\n",
       "\t<tr><td>b_group[2]</td><td>  -0.15963014</td><td>  -0.16158600</td><td> 0.22947675</td><td> 0.22590650</td><td>  -0.52545860</td><td>   0.2254015</td><td>1.0012341</td><td>3797.145</td><td>2901.932</td></tr>\n",
       "\t<tr><td>b_group[3]</td><td>  -0.03408569</td><td>  -0.04014805</td><td> 0.23345906</td><td> 0.23654520</td><td>  -0.40978930</td><td>   0.3520551</td><td>1.0043662</td><td>3819.887</td><td>2606.750</td></tr>\n",
       "\t<tr><td>k         </td><td>   0.72499463</td><td>   0.72475350</td><td> 0.05182131</td><td> 0.05248997</td><td>   0.64100745</td><td>   0.8104268</td><td>1.0006190</td><td>3267.997</td><td>2733.631</td></tr>\n",
       "\t<tr><td>mu[1]     </td><td>  37.88338420</td><td>  36.50935000</td><td> 9.27394739</td><td> 8.24577642</td><td>  25.75414500</td><td>  54.9252000</td><td>1.0012253</td><td>3963.484</td><td>2790.564</td></tr>\n",
       "\t<tr><td>mu[2]     </td><td>  32.85333855</td><td>  31.42830000</td><td> 8.95968650</td><td> 8.01167388</td><td>  21.13748500</td><td>  49.1646250</td><td>1.0011655</td><td>3672.497</td><td>2965.651</td></tr>\n",
       "\t<tr><td>mu[3]     </td><td>  29.19461082</td><td>  27.37280000</td><td> 9.90405490</td><td> 8.80019469</td><td>  16.55082000</td><td>  47.7219250</td><td>1.0006652</td><td>3430.197</td><td>2751.718</td></tr>\n",
       "\t<tr><td>mu[4]     </td><td>  35.64509000</td><td>  34.22735000</td><td> 8.89034408</td><td> 7.99922004</td><td>  23.96075500</td><td>  51.3765500</td><td>1.0015046</td><td>3880.765</td><td>2741.978</td></tr>\n",
       "\t<tr><td>mu[5]     </td><td>  38.32281622</td><td>  36.99545000</td><td> 9.39372180</td><td> 8.35986249</td><td>  26.01651500</td><td>  55.4015050</td><td>1.0009861</td><td>3965.811</td><td>2875.153</td></tr>\n",
       "\t<tr><td>mu[6]     </td><td>  28.44730335</td><td>  26.45765000</td><td>10.20120963</td><td> 9.03674352</td><td>  15.61671000</td><td>  47.9407500</td><td>1.0009624</td><td>3392.863</td><td>2968.344</td></tr>\n",
       "\t<tr><td>mu[7]     </td><td>  49.67545835</td><td>  46.73420000</td><td>16.11665528</td><td>13.82872911</td><td>  29.13146000</td><td>  79.3783750</td><td>1.0009776</td><td>3744.738</td><td>3509.478</td></tr>\n",
       "\t<tr><td>mu[8]     </td><td>  36.65274588</td><td>  35.24135000</td><td> 9.01519679</td><td> 7.98298557</td><td>  24.87021000</td><td>  53.0205700</td><td>1.0011716</td><td>3937.515</td><td>2761.659</td></tr>\n",
       "\t<tr><td>mu[9]     </td><td>  49.19230795</td><td>  46.37705000</td><td>15.73067286</td><td>13.44088095</td><td>  29.11186500</td><td>  78.2422050</td><td>1.0011139</td><td>3812.878</td><td>3510.154</td></tr>\n",
       "\t<tr><td>mu[10]    </td><td>  57.88540880</td><td>  52.97975000</td><td>23.44900171</td><td>19.29351858</td><td>  29.63451000</td><td> 102.3935000</td><td>1.0005371</td><td>3642.234</td><td>3413.465</td></tr>\n",
       "\t<tr><td>mu[11]    </td><td>  34.21583677</td><td>  32.77520000</td><td> 8.85027644</td><td> 7.86489648</td><td>  22.58366000</td><td>  50.0737450</td><td>1.0015827</td><td>3785.837</td><td>2885.094</td></tr>\n",
       "\t<tr><td>mu[12]    </td><td>  37.55914287</td><td>  36.14990000</td><td> 9.19467756</td><td> 8.12190519</td><td>  25.45357500</td><td>  54.6139700</td><td>1.0012534</td><td>3955.045</td><td>2730.347</td></tr>\n",
       "\t<tr><td>mu[13]    </td><td>  53.40487437</td><td>  49.53435000</td><td>19.28271346</td><td>16.21534446</td><td>  29.40969000</td><td>  89.4199600</td><td>1.0009355</td><td>3683.564</td><td>3385.772</td></tr>\n",
       "\t<tr><td>mu[14]    </td><td>  35.40661160</td><td>  33.99480000</td><td> 8.87247424</td><td> 8.00692956</td><td>  23.71441500</td><td>  51.0817700</td><td>1.0016614</td><td>3869.026</td><td>2783.051</td></tr>\n",
       "\t<tr><td>mu[15]    </td><td>  32.91711943</td><td>  31.46830000</td><td> 8.95143721</td><td> 7.96682523</td><td>  21.19281500</td><td>  49.2612850</td><td>1.0011682</td><td>3675.765</td><td>2965.541</td></tr>\n",
       "\t<tr><td>mu[16]    </td><td>  30.20519655</td><td>  28.62840000</td><td> 9.55559576</td><td> 8.61012537</td><td>  17.84824000</td><td>  48.1576350</td><td>1.0005135</td><td>3481.270</td><td>2712.569</td></tr>\n",
       "\t<tr><td>mu[17]    </td><td>  32.75479738</td><td>  31.35120000</td><td> 8.97302347</td><td> 8.02086600</td><td>  21.01051000</td><td>  49.1745750</td><td>1.0011316</td><td>3666.499</td><td>2951.395</td></tr>\n",
       "\t<tr><td>mu[18]    </td><td>  52.08018618</td><td>  48.65205000</td><td>18.12286021</td><td>15.36166338</td><td>  29.37354000</td><td>  85.8633800</td><td>1.0010581</td><td>3701.682</td><td>3417.861</td></tr>\n",
       "\t<tr><td>mu[19]    </td><td>  52.59144640</td><td>  48.96855000</td><td>18.56620048</td><td>15.68346171</td><td>  29.42373000</td><td>  87.1877850</td><td>1.0010798</td><td>3694.394</td><td>3417.861</td></tr>\n",
       "\t<tr><td>mu[20]    </td><td>  38.51408185</td><td>  37.16215000</td><td> 9.45021289</td><td> 8.37357654</td><td>  26.13543500</td><td>  55.8325900</td><td>1.0008525</td><td>3964.791</td><td>2919.103</td></tr>\n",
       "\t<tr><td>mu[21]    </td><td>  33.35617655</td><td>  31.87150000</td><td> 8.90288853</td><td> 7.95844854</td><td>  21.63149500</td><td>  49.5125300</td><td>1.0012951</td><td>3712.199</td><td>2864.291</td></tr>\n",
       "\t<tr><td>⋮</td><td>⋮</td><td>⋮</td><td>⋮</td><td>⋮</td><td>⋮</td><td>⋮</td><td>⋮</td><td>⋮</td><td>⋮</td></tr>\n",
       "\t<tr><td>diff_23[121]</td><td>0.7646761</td><td>0.7612910</td><td>0.3296340</td><td>0.3241527</td><td>0.218229500</td><td>1.308945</td><td>0.9998132</td><td>4502.333</td><td>3067.391</td></tr>\n",
       "\t<tr><td>diff_23[122]</td><td>0.6437767</td><td>0.6406770</td><td>0.3214837</td><td>0.3143927</td><td>0.125059700</td><td>1.177729</td><td>0.9993844</td><td>4286.114</td><td>3172.233</td></tr>\n",
       "\t<tr><td>diff_23[123]</td><td>0.6559546</td><td>0.6532760</td><td>0.3083766</td><td>0.2987298</td><td>0.162484500</td><td>1.161261</td><td>0.9995700</td><td>4382.987</td><td>2960.434</td></tr>\n",
       "\t<tr><td>diff_23[124]</td><td>0.8065870</td><td>0.8001900</td><td>0.3947159</td><td>0.3947348</td><td>0.155448000</td><td>1.453930</td><td>0.9998485</td><td>4353.094</td><td>2751.515</td></tr>\n",
       "\t<tr><td>diff_23[125]</td><td>0.8017012</td><td>0.7957915</td><td>0.3861399</td><td>0.3845079</td><td>0.165231400</td><td>1.436804</td><td>0.9998788</td><td>4372.411</td><td>2713.309</td></tr>\n",
       "\t<tr><td>diff_23[126]</td><td>0.6550339</td><td>0.6525480</td><td>0.3092757</td><td>0.2994837</td><td>0.160103550</td><td>1.163058</td><td>0.9994898</td><td>4376.601</td><td>2981.961</td></tr>\n",
       "\t<tr><td>diff_23[127]</td><td>0.6967565</td><td>0.6984690</td><td>0.2859847</td><td>0.2795212</td><td>0.230175500</td><td>1.183964</td><td>1.0008849</td><td>4620.187</td><td>3018.805</td></tr>\n",
       "\t<tr><td>diff_23[128]</td><td>0.6084778</td><td>0.6093530</td><td>0.3720324</td><td>0.3718509</td><td>0.004137831</td><td>1.216992</td><td>0.9993966</td><td>4052.233</td><td>3106.690</td></tr>\n",
       "\t<tr><td>diff_23[129]</td><td>0.7552707</td><td>0.7523175</td><td>0.3182510</td><td>0.3138205</td><td>0.232913000</td><td>1.279403</td><td>0.9998555</td><td>4533.313</td><td>2783.512</td></tr>\n",
       "\t<tr><td>diff_23[130]</td><td>0.7472672</td><td>0.7443130</td><td>0.3097305</td><td>0.3043318</td><td>0.237142650</td><td>1.257385</td><td>1.0001784</td><td>4556.489</td><td>2642.231</td></tr>\n",
       "\t<tr><td>diff_23[131]</td><td>0.6491647</td><td>0.6460850</td><td>0.3153669</td><td>0.3073319</td><td>0.139228650</td><td>1.168983</td><td>0.9993998</td><td>4339.096</td><td>3146.267</td></tr>\n",
       "\t<tr><td>diff_23[132]</td><td>0.7151906</td><td>0.7175185</td><td>0.2881390</td><td>0.2781899</td><td>0.238528700</td><td>1.200296</td><td>1.0005334</td><td>4651.635</td><td>2834.372</td></tr>\n",
       "\t<tr><td>diff_23[133]</td><td>0.7685051</td><td>0.7649485</td><td>0.3346603</td><td>0.3298622</td><td>0.216182200</td><td>1.321842</td><td>0.9999329</td><td>4486.690</td><td>3063.943</td></tr>\n",
       "\t<tr><td>diff_23[134]</td><td>0.8149985</td><td>0.8112325</td><td>0.4099662</td><td>0.4118611</td><td>0.141890350</td><td>1.481972</td><td>0.9997660</td><td>4324.679</td><td>2927.309</td></tr>\n",
       "\t<tr><td>diff_23[135]</td><td>0.7647493</td><td>0.7612510</td><td>0.3297281</td><td>0.3243187</td><td>0.218347050</td><td>1.309132</td><td>0.9998243</td><td>4502.161</td><td>3067.391</td></tr>\n",
       "\t<tr><td>diff_23[136]</td><td>0.7707754</td><td>0.7680955</td><td>0.3377411</td><td>0.3328459</td><td>0.213807500</td><td>1.326074</td><td>0.9999440</td><td>4479.090</td><td>3030.841</td></tr>\n",
       "\t<tr><td>diff_23[137]</td><td>0.7453527</td><td>0.7424290</td><td>0.3078622</td><td>0.3018789</td><td>0.235832950</td><td>1.254603</td><td>1.0002371</td><td>4561.520</td><td>2662.922</td></tr>\n",
       "\t<tr><td>diff_23[138]</td><td>0.7845958</td><td>0.7835120</td><td>0.3579892</td><td>0.3534266</td><td>0.190827250</td><td>1.376200</td><td>0.9996827</td><td>4429.296</td><td>2997.043</td></tr>\n",
       "\t<tr><td>diff_23[139]</td><td>0.7739454</td><td>0.7713205</td><td>0.3421639</td><td>0.3383345</td><td>0.211805400</td><td>1.336888</td><td>0.9999033</td><td>4466.491</td><td>2885.612</td></tr>\n",
       "\t<tr><td>diff_23[140]</td><td>0.7268767</td><td>0.7273345</td><td>0.2935047</td><td>0.2875525</td><td>0.239797950</td><td>1.213486</td><td>1.0004931</td><td>4649.116</td><td>2695.565</td></tr>\n",
       "\t<tr><td>diff_23[141]</td><td>0.8085538</td><td>0.8035635</td><td>0.3982285</td><td>0.3974065</td><td>0.151663300</td><td>1.458933</td><td>0.9997839</td><td>4347.508</td><td>2831.020</td></tr>\n",
       "\t<tr><td>diff_23[142]</td><td>0.7571957</td><td>0.7545180</td><td>0.3204645</td><td>0.3168398</td><td>0.229994950</td><td>1.284784</td><td>0.9998595</td><td>4529.160</td><td>2803.665</td></tr>\n",
       "\t<tr><td>diff_23[143]</td><td>0.8045364</td><td>0.7985605</td><td>0.3910902</td><td>0.3893841</td><td>0.159153350</td><td>1.448474</td><td>0.9998776</td><td>4361.352</td><td>2792.512</td></tr>\n",
       "\t<tr><td>diff_23[144]</td><td>0.8151763</td><td>0.8113005</td><td>0.4102949</td><td>0.4121413</td><td>0.141899250</td><td>1.482444</td><td>0.9997672</td><td>4324.173</td><td>2927.309</td></tr>\n",
       "\t<tr><td>diff_23[145]</td><td>0.8023498</td><td>0.7965625</td><td>0.3872659</td><td>0.3856873</td><td>0.164052650</td><td>1.439703</td><td>0.9998968</td><td>4370.359</td><td>2713.309</td></tr>\n",
       "\t<tr><td>diff_23[146]</td><td>0.8124247</td><td>0.8075675</td><td>0.4052379</td><td>0.4052287</td><td>0.145517050</td><td>1.474814</td><td>0.9997679</td><td>4333.101</td><td>2906.438</td></tr>\n",
       "\t<tr><td>diff_23[147]</td><td>0.7931223</td><td>0.7907955</td><td>0.3716349</td><td>0.3684105</td><td>0.179046050</td><td>1.404555</td><td>0.9998079</td><td>4402.495</td><td>2759.461</td></tr>\n",
       "\t<tr><td>diff_23[148]</td><td>0.8041598</td><td>0.7984425</td><td>0.3904283</td><td>0.3889497</td><td>0.159717050</td><td>1.446260</td><td>0.9999008</td><td>4362.466</td><td>2732.033</td></tr>\n",
       "\t<tr><td>diff_23[149]</td><td>0.8130107</td><td>0.8086890</td><td>0.4063096</td><td>0.4067528</td><td>0.144786450</td><td>1.476514</td><td>0.9997891</td><td>4331.418</td><td>2862.896</td></tr>\n",
       "\t<tr><td>diff_23[150]</td><td>0.8221545</td><td>0.8191840</td><td>0.4233815</td><td>0.4212526</td><td>0.129729900</td><td>1.510774</td><td>0.9998959</td><td>4297.026</td><td>2872.787</td></tr>\n",
       "</tbody>\n",
       "</table>\n"
      ],
      "text/latex": [
       "A draws\\_summary: 1359 × 10\n",
       "\\begin{tabular}{llllllllll}\n",
       " variable & mean & median & sd & mad & q5 & q95 & rhat & ess\\_bulk & ess\\_tail\\\\\n",
       " <chr> & <dbl> & <dbl> & <dbl> & <dbl> & <dbl> & <dbl> & <dbl> & <dbl> & <dbl>\\\\\n",
       "\\hline\n",
       "\t lp\\_\\_       & -478.11036975 & -477.78100000 &  2.06600044 &  1.93405170 & -482.00260000 & -475.3859500 & 1.0012105 & 1739.438 & 2117.443\\\\\n",
       "\t a          &    2.04827251 &    2.05978000 &  0.52097080 &  0.52593752 &    1.17064200 &    2.8747280 & 1.0028065 & 1668.819 & 1994.100\\\\\n",
       "\t a\\_group{[}1{]} &    1.07126617 &    1.07342500 &  0.61155446 &  0.61140941 &    0.05827491 &    2.0551700 & 1.0024235 & 1948.257 & 2258.673\\\\\n",
       "\t a\\_group{[}2{]} &    0.79203835 &    0.78104350 &  0.53910733 &  0.54590666 &   -0.07134877 &    1.7012475 & 1.0027686 & 1732.366 & 2193.499\\\\\n",
       "\t a\\_group{[}3{]} &    0.09438209 &    0.08495515 &  0.53762990 &  0.53127044 &   -0.75776765 &    1.0004130 & 1.0028118 & 1700.995 & 2189.473\\\\\n",
       "\t b\\_group{[}1{]} &   -0.88388992 &   -0.88570400 &  0.69093209 &  0.68627478 &   -2.03485350 &    0.2533873 & 0.9999944 & 3225.187 & 2467.369\\\\\n",
       "\t b\\_group{[}2{]} &   -0.15963014 &   -0.16158600 &  0.22947675 &  0.22590650 &   -0.52545860 &    0.2254015 & 1.0012341 & 3797.145 & 2901.932\\\\\n",
       "\t b\\_group{[}3{]} &   -0.03408569 &   -0.04014805 &  0.23345906 &  0.23654520 &   -0.40978930 &    0.3520551 & 1.0043662 & 3819.887 & 2606.750\\\\\n",
       "\t k          &    0.72499463 &    0.72475350 &  0.05182131 &  0.05248997 &    0.64100745 &    0.8104268 & 1.0006190 & 3267.997 & 2733.631\\\\\n",
       "\t mu{[}1{]}      &   37.88338420 &   36.50935000 &  9.27394739 &  8.24577642 &   25.75414500 &   54.9252000 & 1.0012253 & 3963.484 & 2790.564\\\\\n",
       "\t mu{[}2{]}      &   32.85333855 &   31.42830000 &  8.95968650 &  8.01167388 &   21.13748500 &   49.1646250 & 1.0011655 & 3672.497 & 2965.651\\\\\n",
       "\t mu{[}3{]}      &   29.19461082 &   27.37280000 &  9.90405490 &  8.80019469 &   16.55082000 &   47.7219250 & 1.0006652 & 3430.197 & 2751.718\\\\\n",
       "\t mu{[}4{]}      &   35.64509000 &   34.22735000 &  8.89034408 &  7.99922004 &   23.96075500 &   51.3765500 & 1.0015046 & 3880.765 & 2741.978\\\\\n",
       "\t mu{[}5{]}      &   38.32281622 &   36.99545000 &  9.39372180 &  8.35986249 &   26.01651500 &   55.4015050 & 1.0009861 & 3965.811 & 2875.153\\\\\n",
       "\t mu{[}6{]}      &   28.44730335 &   26.45765000 & 10.20120963 &  9.03674352 &   15.61671000 &   47.9407500 & 1.0009624 & 3392.863 & 2968.344\\\\\n",
       "\t mu{[}7{]}      &   49.67545835 &   46.73420000 & 16.11665528 & 13.82872911 &   29.13146000 &   79.3783750 & 1.0009776 & 3744.738 & 3509.478\\\\\n",
       "\t mu{[}8{]}      &   36.65274588 &   35.24135000 &  9.01519679 &  7.98298557 &   24.87021000 &   53.0205700 & 1.0011716 & 3937.515 & 2761.659\\\\\n",
       "\t mu{[}9{]}      &   49.19230795 &   46.37705000 & 15.73067286 & 13.44088095 &   29.11186500 &   78.2422050 & 1.0011139 & 3812.878 & 3510.154\\\\\n",
       "\t mu{[}10{]}     &   57.88540880 &   52.97975000 & 23.44900171 & 19.29351858 &   29.63451000 &  102.3935000 & 1.0005371 & 3642.234 & 3413.465\\\\\n",
       "\t mu{[}11{]}     &   34.21583677 &   32.77520000 &  8.85027644 &  7.86489648 &   22.58366000 &   50.0737450 & 1.0015827 & 3785.837 & 2885.094\\\\\n",
       "\t mu{[}12{]}     &   37.55914287 &   36.14990000 &  9.19467756 &  8.12190519 &   25.45357500 &   54.6139700 & 1.0012534 & 3955.045 & 2730.347\\\\\n",
       "\t mu{[}13{]}     &   53.40487437 &   49.53435000 & 19.28271346 & 16.21534446 &   29.40969000 &   89.4199600 & 1.0009355 & 3683.564 & 3385.772\\\\\n",
       "\t mu{[}14{]}     &   35.40661160 &   33.99480000 &  8.87247424 &  8.00692956 &   23.71441500 &   51.0817700 & 1.0016614 & 3869.026 & 2783.051\\\\\n",
       "\t mu{[}15{]}     &   32.91711943 &   31.46830000 &  8.95143721 &  7.96682523 &   21.19281500 &   49.2612850 & 1.0011682 & 3675.765 & 2965.541\\\\\n",
       "\t mu{[}16{]}     &   30.20519655 &   28.62840000 &  9.55559576 &  8.61012537 &   17.84824000 &   48.1576350 & 1.0005135 & 3481.270 & 2712.569\\\\\n",
       "\t mu{[}17{]}     &   32.75479738 &   31.35120000 &  8.97302347 &  8.02086600 &   21.01051000 &   49.1745750 & 1.0011316 & 3666.499 & 2951.395\\\\\n",
       "\t mu{[}18{]}     &   52.08018618 &   48.65205000 & 18.12286021 & 15.36166338 &   29.37354000 &   85.8633800 & 1.0010581 & 3701.682 & 3417.861\\\\\n",
       "\t mu{[}19{]}     &   52.59144640 &   48.96855000 & 18.56620048 & 15.68346171 &   29.42373000 &   87.1877850 & 1.0010798 & 3694.394 & 3417.861\\\\\n",
       "\t mu{[}20{]}     &   38.51408185 &   37.16215000 &  9.45021289 &  8.37357654 &   26.13543500 &   55.8325900 & 1.0008525 & 3964.791 & 2919.103\\\\\n",
       "\t mu{[}21{]}     &   33.35617655 &   31.87150000 &  8.90288853 &  7.95844854 &   21.63149500 &   49.5125300 & 1.0012951 & 3712.199 & 2864.291\\\\\n",
       "\t ⋮ & ⋮ & ⋮ & ⋮ & ⋮ & ⋮ & ⋮ & ⋮ & ⋮ & ⋮\\\\\n",
       "\t diff\\_23{[}121{]} & 0.7646761 & 0.7612910 & 0.3296340 & 0.3241527 & 0.218229500 & 1.308945 & 0.9998132 & 4502.333 & 3067.391\\\\\n",
       "\t diff\\_23{[}122{]} & 0.6437767 & 0.6406770 & 0.3214837 & 0.3143927 & 0.125059700 & 1.177729 & 0.9993844 & 4286.114 & 3172.233\\\\\n",
       "\t diff\\_23{[}123{]} & 0.6559546 & 0.6532760 & 0.3083766 & 0.2987298 & 0.162484500 & 1.161261 & 0.9995700 & 4382.987 & 2960.434\\\\\n",
       "\t diff\\_23{[}124{]} & 0.8065870 & 0.8001900 & 0.3947159 & 0.3947348 & 0.155448000 & 1.453930 & 0.9998485 & 4353.094 & 2751.515\\\\\n",
       "\t diff\\_23{[}125{]} & 0.8017012 & 0.7957915 & 0.3861399 & 0.3845079 & 0.165231400 & 1.436804 & 0.9998788 & 4372.411 & 2713.309\\\\\n",
       "\t diff\\_23{[}126{]} & 0.6550339 & 0.6525480 & 0.3092757 & 0.2994837 & 0.160103550 & 1.163058 & 0.9994898 & 4376.601 & 2981.961\\\\\n",
       "\t diff\\_23{[}127{]} & 0.6967565 & 0.6984690 & 0.2859847 & 0.2795212 & 0.230175500 & 1.183964 & 1.0008849 & 4620.187 & 3018.805\\\\\n",
       "\t diff\\_23{[}128{]} & 0.6084778 & 0.6093530 & 0.3720324 & 0.3718509 & 0.004137831 & 1.216992 & 0.9993966 & 4052.233 & 3106.690\\\\\n",
       "\t diff\\_23{[}129{]} & 0.7552707 & 0.7523175 & 0.3182510 & 0.3138205 & 0.232913000 & 1.279403 & 0.9998555 & 4533.313 & 2783.512\\\\\n",
       "\t diff\\_23{[}130{]} & 0.7472672 & 0.7443130 & 0.3097305 & 0.3043318 & 0.237142650 & 1.257385 & 1.0001784 & 4556.489 & 2642.231\\\\\n",
       "\t diff\\_23{[}131{]} & 0.6491647 & 0.6460850 & 0.3153669 & 0.3073319 & 0.139228650 & 1.168983 & 0.9993998 & 4339.096 & 3146.267\\\\\n",
       "\t diff\\_23{[}132{]} & 0.7151906 & 0.7175185 & 0.2881390 & 0.2781899 & 0.238528700 & 1.200296 & 1.0005334 & 4651.635 & 2834.372\\\\\n",
       "\t diff\\_23{[}133{]} & 0.7685051 & 0.7649485 & 0.3346603 & 0.3298622 & 0.216182200 & 1.321842 & 0.9999329 & 4486.690 & 3063.943\\\\\n",
       "\t diff\\_23{[}134{]} & 0.8149985 & 0.8112325 & 0.4099662 & 0.4118611 & 0.141890350 & 1.481972 & 0.9997660 & 4324.679 & 2927.309\\\\\n",
       "\t diff\\_23{[}135{]} & 0.7647493 & 0.7612510 & 0.3297281 & 0.3243187 & 0.218347050 & 1.309132 & 0.9998243 & 4502.161 & 3067.391\\\\\n",
       "\t diff\\_23{[}136{]} & 0.7707754 & 0.7680955 & 0.3377411 & 0.3328459 & 0.213807500 & 1.326074 & 0.9999440 & 4479.090 & 3030.841\\\\\n",
       "\t diff\\_23{[}137{]} & 0.7453527 & 0.7424290 & 0.3078622 & 0.3018789 & 0.235832950 & 1.254603 & 1.0002371 & 4561.520 & 2662.922\\\\\n",
       "\t diff\\_23{[}138{]} & 0.7845958 & 0.7835120 & 0.3579892 & 0.3534266 & 0.190827250 & 1.376200 & 0.9996827 & 4429.296 & 2997.043\\\\\n",
       "\t diff\\_23{[}139{]} & 0.7739454 & 0.7713205 & 0.3421639 & 0.3383345 & 0.211805400 & 1.336888 & 0.9999033 & 4466.491 & 2885.612\\\\\n",
       "\t diff\\_23{[}140{]} & 0.7268767 & 0.7273345 & 0.2935047 & 0.2875525 & 0.239797950 & 1.213486 & 1.0004931 & 4649.116 & 2695.565\\\\\n",
       "\t diff\\_23{[}141{]} & 0.8085538 & 0.8035635 & 0.3982285 & 0.3974065 & 0.151663300 & 1.458933 & 0.9997839 & 4347.508 & 2831.020\\\\\n",
       "\t diff\\_23{[}142{]} & 0.7571957 & 0.7545180 & 0.3204645 & 0.3168398 & 0.229994950 & 1.284784 & 0.9998595 & 4529.160 & 2803.665\\\\\n",
       "\t diff\\_23{[}143{]} & 0.8045364 & 0.7985605 & 0.3910902 & 0.3893841 & 0.159153350 & 1.448474 & 0.9998776 & 4361.352 & 2792.512\\\\\n",
       "\t diff\\_23{[}144{]} & 0.8151763 & 0.8113005 & 0.4102949 & 0.4121413 & 0.141899250 & 1.482444 & 0.9997672 & 4324.173 & 2927.309\\\\\n",
       "\t diff\\_23{[}145{]} & 0.8023498 & 0.7965625 & 0.3872659 & 0.3856873 & 0.164052650 & 1.439703 & 0.9998968 & 4370.359 & 2713.309\\\\\n",
       "\t diff\\_23{[}146{]} & 0.8124247 & 0.8075675 & 0.4052379 & 0.4052287 & 0.145517050 & 1.474814 & 0.9997679 & 4333.101 & 2906.438\\\\\n",
       "\t diff\\_23{[}147{]} & 0.7931223 & 0.7907955 & 0.3716349 & 0.3684105 & 0.179046050 & 1.404555 & 0.9998079 & 4402.495 & 2759.461\\\\\n",
       "\t diff\\_23{[}148{]} & 0.8041598 & 0.7984425 & 0.3904283 & 0.3889497 & 0.159717050 & 1.446260 & 0.9999008 & 4362.466 & 2732.033\\\\\n",
       "\t diff\\_23{[}149{]} & 0.8130107 & 0.8086890 & 0.4063096 & 0.4067528 & 0.144786450 & 1.476514 & 0.9997891 & 4331.418 & 2862.896\\\\\n",
       "\t diff\\_23{[}150{]} & 0.8221545 & 0.8191840 & 0.4233815 & 0.4212526 & 0.129729900 & 1.510774 & 0.9998959 & 4297.026 & 2872.787\\\\\n",
       "\\end{tabular}\n"
      ],
      "text/markdown": [
       "\n",
       "A draws_summary: 1359 × 10\n",
       "\n",
       "| variable &lt;chr&gt; | mean &lt;dbl&gt; | median &lt;dbl&gt; | sd &lt;dbl&gt; | mad &lt;dbl&gt; | q5 &lt;dbl&gt; | q95 &lt;dbl&gt; | rhat &lt;dbl&gt; | ess_bulk &lt;dbl&gt; | ess_tail &lt;dbl&gt; |\n",
       "|---|---|---|---|---|---|---|---|---|---|\n",
       "| lp__       | -478.11036975 | -477.78100000 |  2.06600044 |  1.93405170 | -482.00260000 | -475.3859500 | 1.0012105 | 1739.438 | 2117.443 |\n",
       "| a          |    2.04827251 |    2.05978000 |  0.52097080 |  0.52593752 |    1.17064200 |    2.8747280 | 1.0028065 | 1668.819 | 1994.100 |\n",
       "| a_group[1] |    1.07126617 |    1.07342500 |  0.61155446 |  0.61140941 |    0.05827491 |    2.0551700 | 1.0024235 | 1948.257 | 2258.673 |\n",
       "| a_group[2] |    0.79203835 |    0.78104350 |  0.53910733 |  0.54590666 |   -0.07134877 |    1.7012475 | 1.0027686 | 1732.366 | 2193.499 |\n",
       "| a_group[3] |    0.09438209 |    0.08495515 |  0.53762990 |  0.53127044 |   -0.75776765 |    1.0004130 | 1.0028118 | 1700.995 | 2189.473 |\n",
       "| b_group[1] |   -0.88388992 |   -0.88570400 |  0.69093209 |  0.68627478 |   -2.03485350 |    0.2533873 | 0.9999944 | 3225.187 | 2467.369 |\n",
       "| b_group[2] |   -0.15963014 |   -0.16158600 |  0.22947675 |  0.22590650 |   -0.52545860 |    0.2254015 | 1.0012341 | 3797.145 | 2901.932 |\n",
       "| b_group[3] |   -0.03408569 |   -0.04014805 |  0.23345906 |  0.23654520 |   -0.40978930 |    0.3520551 | 1.0043662 | 3819.887 | 2606.750 |\n",
       "| k          |    0.72499463 |    0.72475350 |  0.05182131 |  0.05248997 |    0.64100745 |    0.8104268 | 1.0006190 | 3267.997 | 2733.631 |\n",
       "| mu[1]      |   37.88338420 |   36.50935000 |  9.27394739 |  8.24577642 |   25.75414500 |   54.9252000 | 1.0012253 | 3963.484 | 2790.564 |\n",
       "| mu[2]      |   32.85333855 |   31.42830000 |  8.95968650 |  8.01167388 |   21.13748500 |   49.1646250 | 1.0011655 | 3672.497 | 2965.651 |\n",
       "| mu[3]      |   29.19461082 |   27.37280000 |  9.90405490 |  8.80019469 |   16.55082000 |   47.7219250 | 1.0006652 | 3430.197 | 2751.718 |\n",
       "| mu[4]      |   35.64509000 |   34.22735000 |  8.89034408 |  7.99922004 |   23.96075500 |   51.3765500 | 1.0015046 | 3880.765 | 2741.978 |\n",
       "| mu[5]      |   38.32281622 |   36.99545000 |  9.39372180 |  8.35986249 |   26.01651500 |   55.4015050 | 1.0009861 | 3965.811 | 2875.153 |\n",
       "| mu[6]      |   28.44730335 |   26.45765000 | 10.20120963 |  9.03674352 |   15.61671000 |   47.9407500 | 1.0009624 | 3392.863 | 2968.344 |\n",
       "| mu[7]      |   49.67545835 |   46.73420000 | 16.11665528 | 13.82872911 |   29.13146000 |   79.3783750 | 1.0009776 | 3744.738 | 3509.478 |\n",
       "| mu[8]      |   36.65274588 |   35.24135000 |  9.01519679 |  7.98298557 |   24.87021000 |   53.0205700 | 1.0011716 | 3937.515 | 2761.659 |\n",
       "| mu[9]      |   49.19230795 |   46.37705000 | 15.73067286 | 13.44088095 |   29.11186500 |   78.2422050 | 1.0011139 | 3812.878 | 3510.154 |\n",
       "| mu[10]     |   57.88540880 |   52.97975000 | 23.44900171 | 19.29351858 |   29.63451000 |  102.3935000 | 1.0005371 | 3642.234 | 3413.465 |\n",
       "| mu[11]     |   34.21583677 |   32.77520000 |  8.85027644 |  7.86489648 |   22.58366000 |   50.0737450 | 1.0015827 | 3785.837 | 2885.094 |\n",
       "| mu[12]     |   37.55914287 |   36.14990000 |  9.19467756 |  8.12190519 |   25.45357500 |   54.6139700 | 1.0012534 | 3955.045 | 2730.347 |\n",
       "| mu[13]     |   53.40487437 |   49.53435000 | 19.28271346 | 16.21534446 |   29.40969000 |   89.4199600 | 1.0009355 | 3683.564 | 3385.772 |\n",
       "| mu[14]     |   35.40661160 |   33.99480000 |  8.87247424 |  8.00692956 |   23.71441500 |   51.0817700 | 1.0016614 | 3869.026 | 2783.051 |\n",
       "| mu[15]     |   32.91711943 |   31.46830000 |  8.95143721 |  7.96682523 |   21.19281500 |   49.2612850 | 1.0011682 | 3675.765 | 2965.541 |\n",
       "| mu[16]     |   30.20519655 |   28.62840000 |  9.55559576 |  8.61012537 |   17.84824000 |   48.1576350 | 1.0005135 | 3481.270 | 2712.569 |\n",
       "| mu[17]     |   32.75479738 |   31.35120000 |  8.97302347 |  8.02086600 |   21.01051000 |   49.1745750 | 1.0011316 | 3666.499 | 2951.395 |\n",
       "| mu[18]     |   52.08018618 |   48.65205000 | 18.12286021 | 15.36166338 |   29.37354000 |   85.8633800 | 1.0010581 | 3701.682 | 3417.861 |\n",
       "| mu[19]     |   52.59144640 |   48.96855000 | 18.56620048 | 15.68346171 |   29.42373000 |   87.1877850 | 1.0010798 | 3694.394 | 3417.861 |\n",
       "| mu[20]     |   38.51408185 |   37.16215000 |  9.45021289 |  8.37357654 |   26.13543500 |   55.8325900 | 1.0008525 | 3964.791 | 2919.103 |\n",
       "| mu[21]     |   33.35617655 |   31.87150000 |  8.90288853 |  7.95844854 |   21.63149500 |   49.5125300 | 1.0012951 | 3712.199 | 2864.291 |\n",
       "| ⋮ | ⋮ | ⋮ | ⋮ | ⋮ | ⋮ | ⋮ | ⋮ | ⋮ | ⋮ |\n",
       "| diff_23[121] | 0.7646761 | 0.7612910 | 0.3296340 | 0.3241527 | 0.218229500 | 1.308945 | 0.9998132 | 4502.333 | 3067.391 |\n",
       "| diff_23[122] | 0.6437767 | 0.6406770 | 0.3214837 | 0.3143927 | 0.125059700 | 1.177729 | 0.9993844 | 4286.114 | 3172.233 |\n",
       "| diff_23[123] | 0.6559546 | 0.6532760 | 0.3083766 | 0.2987298 | 0.162484500 | 1.161261 | 0.9995700 | 4382.987 | 2960.434 |\n",
       "| diff_23[124] | 0.8065870 | 0.8001900 | 0.3947159 | 0.3947348 | 0.155448000 | 1.453930 | 0.9998485 | 4353.094 | 2751.515 |\n",
       "| diff_23[125] | 0.8017012 | 0.7957915 | 0.3861399 | 0.3845079 | 0.165231400 | 1.436804 | 0.9998788 | 4372.411 | 2713.309 |\n",
       "| diff_23[126] | 0.6550339 | 0.6525480 | 0.3092757 | 0.2994837 | 0.160103550 | 1.163058 | 0.9994898 | 4376.601 | 2981.961 |\n",
       "| diff_23[127] | 0.6967565 | 0.6984690 | 0.2859847 | 0.2795212 | 0.230175500 | 1.183964 | 1.0008849 | 4620.187 | 3018.805 |\n",
       "| diff_23[128] | 0.6084778 | 0.6093530 | 0.3720324 | 0.3718509 | 0.004137831 | 1.216992 | 0.9993966 | 4052.233 | 3106.690 |\n",
       "| diff_23[129] | 0.7552707 | 0.7523175 | 0.3182510 | 0.3138205 | 0.232913000 | 1.279403 | 0.9998555 | 4533.313 | 2783.512 |\n",
       "| diff_23[130] | 0.7472672 | 0.7443130 | 0.3097305 | 0.3043318 | 0.237142650 | 1.257385 | 1.0001784 | 4556.489 | 2642.231 |\n",
       "| diff_23[131] | 0.6491647 | 0.6460850 | 0.3153669 | 0.3073319 | 0.139228650 | 1.168983 | 0.9993998 | 4339.096 | 3146.267 |\n",
       "| diff_23[132] | 0.7151906 | 0.7175185 | 0.2881390 | 0.2781899 | 0.238528700 | 1.200296 | 1.0005334 | 4651.635 | 2834.372 |\n",
       "| diff_23[133] | 0.7685051 | 0.7649485 | 0.3346603 | 0.3298622 | 0.216182200 | 1.321842 | 0.9999329 | 4486.690 | 3063.943 |\n",
       "| diff_23[134] | 0.8149985 | 0.8112325 | 0.4099662 | 0.4118611 | 0.141890350 | 1.481972 | 0.9997660 | 4324.679 | 2927.309 |\n",
       "| diff_23[135] | 0.7647493 | 0.7612510 | 0.3297281 | 0.3243187 | 0.218347050 | 1.309132 | 0.9998243 | 4502.161 | 3067.391 |\n",
       "| diff_23[136] | 0.7707754 | 0.7680955 | 0.3377411 | 0.3328459 | 0.213807500 | 1.326074 | 0.9999440 | 4479.090 | 3030.841 |\n",
       "| diff_23[137] | 0.7453527 | 0.7424290 | 0.3078622 | 0.3018789 | 0.235832950 | 1.254603 | 1.0002371 | 4561.520 | 2662.922 |\n",
       "| diff_23[138] | 0.7845958 | 0.7835120 | 0.3579892 | 0.3534266 | 0.190827250 | 1.376200 | 0.9996827 | 4429.296 | 2997.043 |\n",
       "| diff_23[139] | 0.7739454 | 0.7713205 | 0.3421639 | 0.3383345 | 0.211805400 | 1.336888 | 0.9999033 | 4466.491 | 2885.612 |\n",
       "| diff_23[140] | 0.7268767 | 0.7273345 | 0.2935047 | 0.2875525 | 0.239797950 | 1.213486 | 1.0004931 | 4649.116 | 2695.565 |\n",
       "| diff_23[141] | 0.8085538 | 0.8035635 | 0.3982285 | 0.3974065 | 0.151663300 | 1.458933 | 0.9997839 | 4347.508 | 2831.020 |\n",
       "| diff_23[142] | 0.7571957 | 0.7545180 | 0.3204645 | 0.3168398 | 0.229994950 | 1.284784 | 0.9998595 | 4529.160 | 2803.665 |\n",
       "| diff_23[143] | 0.8045364 | 0.7985605 | 0.3910902 | 0.3893841 | 0.159153350 | 1.448474 | 0.9998776 | 4361.352 | 2792.512 |\n",
       "| diff_23[144] | 0.8151763 | 0.8113005 | 0.4102949 | 0.4121413 | 0.141899250 | 1.482444 | 0.9997672 | 4324.173 | 2927.309 |\n",
       "| diff_23[145] | 0.8023498 | 0.7965625 | 0.3872659 | 0.3856873 | 0.164052650 | 1.439703 | 0.9998968 | 4370.359 | 2713.309 |\n",
       "| diff_23[146] | 0.8124247 | 0.8075675 | 0.4052379 | 0.4052287 | 0.145517050 | 1.474814 | 0.9997679 | 4333.101 | 2906.438 |\n",
       "| diff_23[147] | 0.7931223 | 0.7907955 | 0.3716349 | 0.3684105 | 0.179046050 | 1.404555 | 0.9998079 | 4402.495 | 2759.461 |\n",
       "| diff_23[148] | 0.8041598 | 0.7984425 | 0.3904283 | 0.3889497 | 0.159717050 | 1.446260 | 0.9999008 | 4362.466 | 2732.033 |\n",
       "| diff_23[149] | 0.8130107 | 0.8086890 | 0.4063096 | 0.4067528 | 0.144786450 | 1.476514 | 0.9997891 | 4331.418 | 2862.896 |\n",
       "| diff_23[150] | 0.8221545 | 0.8191840 | 0.4233815 | 0.4212526 | 0.129729900 | 1.510774 | 0.9998959 | 4297.026 | 2872.787 |\n",
       "\n"
      ],
      "text/plain": [
       "     variable     mean          median        sd          mad        \n",
       "1    lp__         -478.11036975 -477.78100000  2.06600044  1.93405170\n",
       "2    a               2.04827251    2.05978000  0.52097080  0.52593752\n",
       "3    a_group[1]      1.07126617    1.07342500  0.61155446  0.61140941\n",
       "4    a_group[2]      0.79203835    0.78104350  0.53910733  0.54590666\n",
       "5    a_group[3]      0.09438209    0.08495515  0.53762990  0.53127044\n",
       "6    b_group[1]     -0.88388992   -0.88570400  0.69093209  0.68627478\n",
       "7    b_group[2]     -0.15963014   -0.16158600  0.22947675  0.22590650\n",
       "8    b_group[3]     -0.03408569   -0.04014805  0.23345906  0.23654520\n",
       "9    k               0.72499463    0.72475350  0.05182131  0.05248997\n",
       "10   mu[1]          37.88338420   36.50935000  9.27394739  8.24577642\n",
       "11   mu[2]          32.85333855   31.42830000  8.95968650  8.01167388\n",
       "12   mu[3]          29.19461082   27.37280000  9.90405490  8.80019469\n",
       "13   mu[4]          35.64509000   34.22735000  8.89034408  7.99922004\n",
       "14   mu[5]          38.32281622   36.99545000  9.39372180  8.35986249\n",
       "15   mu[6]          28.44730335   26.45765000 10.20120963  9.03674352\n",
       "16   mu[7]          49.67545835   46.73420000 16.11665528 13.82872911\n",
       "17   mu[8]          36.65274588   35.24135000  9.01519679  7.98298557\n",
       "18   mu[9]          49.19230795   46.37705000 15.73067286 13.44088095\n",
       "19   mu[10]         57.88540880   52.97975000 23.44900171 19.29351858\n",
       "20   mu[11]         34.21583677   32.77520000  8.85027644  7.86489648\n",
       "21   mu[12]         37.55914287   36.14990000  9.19467756  8.12190519\n",
       "22   mu[13]         53.40487437   49.53435000 19.28271346 16.21534446\n",
       "23   mu[14]         35.40661160   33.99480000  8.87247424  8.00692956\n",
       "24   mu[15]         32.91711943   31.46830000  8.95143721  7.96682523\n",
       "25   mu[16]         30.20519655   28.62840000  9.55559576  8.61012537\n",
       "26   mu[17]         32.75479738   31.35120000  8.97302347  8.02086600\n",
       "27   mu[18]         52.08018618   48.65205000 18.12286021 15.36166338\n",
       "28   mu[19]         52.59144640   48.96855000 18.56620048 15.68346171\n",
       "29   mu[20]         38.51408185   37.16215000  9.45021289  8.37357654\n",
       "30   mu[21]         33.35617655   31.87150000  8.90288853  7.95844854\n",
       "<U+22EE>    <U+22EE>     <U+22EE>      <U+22EE>      <U+22EE>    <U+22EE>   \n",
       "1330 diff_23[121] 0.7646761     0.7612910     0.3296340   0.3241527  \n",
       "1331 diff_23[122] 0.6437767     0.6406770     0.3214837   0.3143927  \n",
       "1332 diff_23[123] 0.6559546     0.6532760     0.3083766   0.2987298  \n",
       "1333 diff_23[124] 0.8065870     0.8001900     0.3947159   0.3947348  \n",
       "1334 diff_23[125] 0.8017012     0.7957915     0.3861399   0.3845079  \n",
       "1335 diff_23[126] 0.6550339     0.6525480     0.3092757   0.2994837  \n",
       "1336 diff_23[127] 0.6967565     0.6984690     0.2859847   0.2795212  \n",
       "1337 diff_23[128] 0.6084778     0.6093530     0.3720324   0.3718509  \n",
       "1338 diff_23[129] 0.7552707     0.7523175     0.3182510   0.3138205  \n",
       "1339 diff_23[130] 0.7472672     0.7443130     0.3097305   0.3043318  \n",
       "1340 diff_23[131] 0.6491647     0.6460850     0.3153669   0.3073319  \n",
       "1341 diff_23[132] 0.7151906     0.7175185     0.2881390   0.2781899  \n",
       "1342 diff_23[133] 0.7685051     0.7649485     0.3346603   0.3298622  \n",
       "1343 diff_23[134] 0.8149985     0.8112325     0.4099662   0.4118611  \n",
       "1344 diff_23[135] 0.7647493     0.7612510     0.3297281   0.3243187  \n",
       "1345 diff_23[136] 0.7707754     0.7680955     0.3377411   0.3328459  \n",
       "1346 diff_23[137] 0.7453527     0.7424290     0.3078622   0.3018789  \n",
       "1347 diff_23[138] 0.7845958     0.7835120     0.3579892   0.3534266  \n",
       "1348 diff_23[139] 0.7739454     0.7713205     0.3421639   0.3383345  \n",
       "1349 diff_23[140] 0.7268767     0.7273345     0.2935047   0.2875525  \n",
       "1350 diff_23[141] 0.8085538     0.8035635     0.3982285   0.3974065  \n",
       "1351 diff_23[142] 0.7571957     0.7545180     0.3204645   0.3168398  \n",
       "1352 diff_23[143] 0.8045364     0.7985605     0.3910902   0.3893841  \n",
       "1353 diff_23[144] 0.8151763     0.8113005     0.4102949   0.4121413  \n",
       "1354 diff_23[145] 0.8023498     0.7965625     0.3872659   0.3856873  \n",
       "1355 diff_23[146] 0.8124247     0.8075675     0.4052379   0.4052287  \n",
       "1356 diff_23[147] 0.7931223     0.7907955     0.3716349   0.3684105  \n",
       "1357 diff_23[148] 0.8041598     0.7984425     0.3904283   0.3889497  \n",
       "1358 diff_23[149] 0.8130107     0.8086890     0.4063096   0.4067528  \n",
       "1359 diff_23[150] 0.8221545     0.8191840     0.4233815   0.4212526  \n",
       "     q5            q95          rhat      ess_bulk ess_tail\n",
       "1    -482.00260000 -475.3859500 1.0012105 1739.438 2117.443\n",
       "2       1.17064200    2.8747280 1.0028065 1668.819 1994.100\n",
       "3       0.05827491    2.0551700 1.0024235 1948.257 2258.673\n",
       "4      -0.07134877    1.7012475 1.0027686 1732.366 2193.499\n",
       "5      -0.75776765    1.0004130 1.0028118 1700.995 2189.473\n",
       "6      -2.03485350    0.2533873 0.9999944 3225.187 2467.369\n",
       "7      -0.52545860    0.2254015 1.0012341 3797.145 2901.932\n",
       "8      -0.40978930    0.3520551 1.0043662 3819.887 2606.750\n",
       "9       0.64100745    0.8104268 1.0006190 3267.997 2733.631\n",
       "10     25.75414500   54.9252000 1.0012253 3963.484 2790.564\n",
       "11     21.13748500   49.1646250 1.0011655 3672.497 2965.651\n",
       "12     16.55082000   47.7219250 1.0006652 3430.197 2751.718\n",
       "13     23.96075500   51.3765500 1.0015046 3880.765 2741.978\n",
       "14     26.01651500   55.4015050 1.0009861 3965.811 2875.153\n",
       "15     15.61671000   47.9407500 1.0009624 3392.863 2968.344\n",
       "16     29.13146000   79.3783750 1.0009776 3744.738 3509.478\n",
       "17     24.87021000   53.0205700 1.0011716 3937.515 2761.659\n",
       "18     29.11186500   78.2422050 1.0011139 3812.878 3510.154\n",
       "19     29.63451000  102.3935000 1.0005371 3642.234 3413.465\n",
       "20     22.58366000   50.0737450 1.0015827 3785.837 2885.094\n",
       "21     25.45357500   54.6139700 1.0012534 3955.045 2730.347\n",
       "22     29.40969000   89.4199600 1.0009355 3683.564 3385.772\n",
       "23     23.71441500   51.0817700 1.0016614 3869.026 2783.051\n",
       "24     21.19281500   49.2612850 1.0011682 3675.765 2965.541\n",
       "25     17.84824000   48.1576350 1.0005135 3481.270 2712.569\n",
       "26     21.01051000   49.1745750 1.0011316 3666.499 2951.395\n",
       "27     29.37354000   85.8633800 1.0010581 3701.682 3417.861\n",
       "28     29.42373000   87.1877850 1.0010798 3694.394 3417.861\n",
       "29     26.13543500   55.8325900 1.0008525 3964.791 2919.103\n",
       "30     21.63149500   49.5125300 1.0012951 3712.199 2864.291\n",
       "<U+22EE>    <U+22EE>      <U+22EE>     <U+22EE>  <U+22EE> <U+22EE>\n",
       "1330 0.218229500   1.308945     0.9998132 4502.333 3067.391\n",
       "1331 0.125059700   1.177729     0.9993844 4286.114 3172.233\n",
       "1332 0.162484500   1.161261     0.9995700 4382.987 2960.434\n",
       "1333 0.155448000   1.453930     0.9998485 4353.094 2751.515\n",
       "1334 0.165231400   1.436804     0.9998788 4372.411 2713.309\n",
       "1335 0.160103550   1.163058     0.9994898 4376.601 2981.961\n",
       "1336 0.230175500   1.183964     1.0008849 4620.187 3018.805\n",
       "1337 0.004137831   1.216992     0.9993966 4052.233 3106.690\n",
       "1338 0.232913000   1.279403     0.9998555 4533.313 2783.512\n",
       "1339 0.237142650   1.257385     1.0001784 4556.489 2642.231\n",
       "1340 0.139228650   1.168983     0.9993998 4339.096 3146.267\n",
       "1341 0.238528700   1.200296     1.0005334 4651.635 2834.372\n",
       "1342 0.216182200   1.321842     0.9999329 4486.690 3063.943\n",
       "1343 0.141890350   1.481972     0.9997660 4324.679 2927.309\n",
       "1344 0.218347050   1.309132     0.9998243 4502.161 3067.391\n",
       "1345 0.213807500   1.326074     0.9999440 4479.090 3030.841\n",
       "1346 0.235832950   1.254603     1.0002371 4561.520 2662.922\n",
       "1347 0.190827250   1.376200     0.9996827 4429.296 2997.043\n",
       "1348 0.211805400   1.336888     0.9999033 4466.491 2885.612\n",
       "1349 0.239797950   1.213486     1.0004931 4649.116 2695.565\n",
       "1350 0.151663300   1.458933     0.9997839 4347.508 2831.020\n",
       "1351 0.229994950   1.284784     0.9998595 4529.160 2803.665\n",
       "1352 0.159153350   1.448474     0.9998776 4361.352 2792.512\n",
       "1353 0.141899250   1.482444     0.9997672 4324.173 2927.309\n",
       "1354 0.164052650   1.439703     0.9998968 4370.359 2713.309\n",
       "1355 0.145517050   1.474814     0.9997679 4333.101 2906.438\n",
       "1356 0.179046050   1.404555     0.9998079 4402.495 2759.461\n",
       "1357 0.159717050   1.446260     0.9999008 4362.466 2732.033\n",
       "1358 0.144786450   1.476514     0.9997891 4331.418 2862.896\n",
       "1359 0.129729900   1.510774     0.9998959 4297.026 2872.787"
      ]
     },
     "metadata": {},
     "output_type": "display_data"
    }
   ],
   "source": [
    "fit$summary()"
   ]
  },
  {
   "cell_type": "code",
   "execution_count": null,
   "metadata": {
    "vscode": {
     "languageId": "r"
    }
   },
   "outputs": [],
   "source": [
    "fit$diagnostic_summary()"
   ]
  },
  {
   "cell_type": "markdown",
   "metadata": {},
   "source": [
    "## Posterior Checks"
   ]
  },
  {
   "cell_type": "code",
   "execution_count": null,
   "metadata": {
    "vscode": {
     "languageId": "r"
    }
   },
   "outputs": [],
   "source": [
    "library(rstan)"
   ]
  },
  {
   "cell_type": "code",
   "execution_count": null,
   "metadata": {
    "vscode": {
     "languageId": "r"
    }
   },
   "outputs": [],
   "source": [
    "fit$save_object(file=\"cmd_fit_full.RDS\")"
   ]
  },
  {
   "cell_type": "code",
   "execution_count": null,
   "metadata": {
    "vscode": {
     "languageId": "r"
    }
   },
   "outputs": [],
   "source": [
    "fit <- readRDS(\"cmd_fit_full.RDS\")"
   ]
  },
  {
   "cell_type": "code",
   "execution_count": null,
   "metadata": {
    "vscode": {
     "languageId": "r"
    }
   },
   "outputs": [],
   "source": [
    "stanfit <- rstan::read_stan_csv(fit$output_files())"
   ]
  },
  {
   "cell_type": "code",
   "execution_count": null,
   "metadata": {
    "vscode": {
     "languageId": "r"
    }
   },
   "outputs": [],
   "source": [
    "traceplot(stanfit, pars=c(\"a\"))"
   ]
  },
  {
   "cell_type": "code",
   "execution_count": null,
   "metadata": {
    "vscode": {
     "languageId": "r"
    }
   },
   "outputs": [],
   "source": [
    "theme_Posterior = theme(\n",
    "  axis.line.x = element_line(arrow=arrow(length=unit(0.05, \"cm\")), lineend = \"butt\"),\n",
    "  panel.background = element_rect(fill=\"transparent\"), \n",
    "  panel.border = element_rect(fill=\"transparent\"),\n",
    "  plot.background = element_rect(fill = \"transparent\"),\n",
    "  #panel.spacing.y = unit(1,\"lines\"),\n",
    "  plot.margin = unit(c(1,1,1,1), \"cm\"), \n",
    "  #\n",
    "  axis.title.y = element_blank(), \n",
    "  axis.text.y = element_text(color = \"grey20\", size = 8, angle = 0, hjust = 1, vjust = 0, face = \"plain\"),\n",
    "  axis.text.x = element_text(color=\"grey20\",hjust=1, vjust=1, size=8, angle=50, face=\"plain\"), \n",
    "  axis.ticks.y = element_blank()\n",
    ")"
   ]
  },
  {
   "cell_type": "code",
   "execution_count": 14,
   "metadata": {
    "vscode": {
     "languageId": "r"
    }
   },
   "outputs": [
    {
     "ename": "ERROR",
     "evalue": "Error in plot(stanfit, pars = names(stanfit)[c(1, 2)], show_density = TRUE, : object 'stanfit' not found\n",
     "output_type": "error",
     "traceback": [
      "Error in plot(stanfit, pars = names(stanfit)[c(1, 2)], show_density = TRUE, : object 'stanfit' not found\nTraceback:\n",
      "1. plot(stanfit, pars = names(stanfit)[c(1, 2)], show_density = TRUE, \n .     fill_color = \"#998811\", est_color = \"#ffffff\", ci_level = 0.9, \n .     outer_level = 0.95)"
     ]
    }
   ],
   "source": [
    "plot(stanfit, \n",
    "     pars=names(stanfit)[c(1,2)], \n",
    "     show_density=TRUE,\n",
    "     fill_color=\"#998811\",\n",
    "     est_color=\"#ffffff\",\n",
    "     ci_level=0.9, outer_level=0.95) +\n",
    "geom_vline(xintercept = 0, linetype=3, size=0.5) + \n",
    "theme_Posterior"
   ]
  },
  {
   "cell_type": "code",
   "execution_count": null,
   "metadata": {
    "vscode": {
     "languageId": "r"
    }
   },
   "outputs": [],
   "source": [
    "library(bayesplot)"
   ]
  },
  {
   "cell_type": "code",
   "execution_count": null,
   "metadata": {
    "vscode": {
     "languageId": "r"
    }
   },
   "outputs": [],
   "source": [
    "draws <- extract(stanfit)"
   ]
  },
  {
   "cell_type": "code",
   "execution_count": null,
   "metadata": {
    "vscode": {
     "languageId": "r"
    }
   },
   "outputs": [],
   "source": [
    "str(draws)"
   ]
  },
  {
   "cell_type": "code",
   "execution_count": null,
   "metadata": {
    "vscode": {
     "languageId": "r"
    }
   },
   "outputs": [],
   "source": [
    "draws$pred"
   ]
  },
  {
   "cell_type": "code",
   "execution_count": null,
   "metadata": {
    "vscode": {
     "languageId": "r"
    }
   },
   "outputs": [],
   "source": [
    "ppc_dens_overlay(y=dl$time, yrep = draws$pred) +\n",
    "xlim(c(0,60))"
   ]
  },
  {
   "cell_type": "markdown",
   "metadata": {},
   "source": [
    "## ECCD: Empirical Complementary Cumulative Distribution "
   ]
  },
  {
   "cell_type": "code",
   "execution_count": null,
   "metadata": {
    "vscode": {
     "languageId": "r"
    }
   },
   "outputs": [],
   "source": [
    "library(tidybayes)\n",
    "library(mltools)"
   ]
  },
  {
   "cell_type": "code",
   "execution_count": null,
   "metadata": {
    "vscode": {
     "languageId": "r"
    }
   },
   "outputs": [],
   "source": [
    "a <-  posterior::as_draws_rvars(fit$draws())\n",
    "post_draws <- posterior::draws_of(a$pred)[1:4000,]"
   ]
  },
  {
   "cell_type": "code",
   "execution_count": null,
   "metadata": {
    "vscode": {
     "languageId": "r"
    }
   },
   "outputs": [],
   "source": [
    "N = 1000\n",
    "dat <- data.frame(id=as.numeric(), pred=as.numeric())"
   ]
  },
  {
   "cell_type": "code",
   "execution_count": null,
   "metadata": {
    "vscode": {
     "languageId": "r"
    }
   },
   "outputs": [],
   "source": [
    "for (i in 1:N){\n",
    "    obj <- empirical_cdf(post_draws[i,], ubounds = 1:50)\n",
    "    obj <-  1 - obj$CDF\n",
    "    obj <- data.frame(id=rep(i,50), x=seq(1,50), y=obj)\n",
    "    dat <- rbind(dat, obj)\n",
    "}"
   ]
  },
  {
   "cell_type": "code",
   "execution_count": null,
   "metadata": {
    "vscode": {
     "languageId": "r"
    }
   },
   "outputs": [],
   "source": [
    "library(survminer)\n",
    "library(survival)"
   ]
  },
  {
   "cell_type": "code",
   "execution_count": null,
   "metadata": {
    "vscode": {
     "languageId": "r"
    }
   },
   "outputs": [],
   "source": [
    "df_survfit <-  data.frame(time=dl$time, event = dl$event)"
   ]
  },
  {
   "cell_type": "code",
   "execution_count": null,
   "metadata": {
    "vscode": {
     "languageId": "r"
    }
   },
   "outputs": [],
   "source": [
    "surf <- survfit(Surv(time, event)~1, data=df_survfit)"
   ]
  },
  {
   "cell_type": "code",
   "execution_count": null,
   "metadata": {
    "vscode": {
     "languageId": "r"
    }
   },
   "outputs": [],
   "source": [
    "p <- ggsurvplot(surf)"
   ]
  },
  {
   "cell_type": "code",
   "execution_count": null,
   "metadata": {
    "vscode": {
     "languageId": "r"
    }
   },
   "outputs": [],
   "source": [
    "data_obs <- p$data.survplot"
   ]
  },
  {
   "cell_type": "code",
   "execution_count": null,
   "metadata": {
    "vscode": {
     "languageId": "r"
    }
   },
   "outputs": [],
   "source": [
    "data_obs <- data.frame(surv=c(1, data_obs$surv), time=c(0, data_obs$time))"
   ]
  },
  {
   "cell_type": "code",
   "execution_count": null,
   "metadata": {
    "vscode": {
     "languageId": "r"
    }
   },
   "outputs": [],
   "source": [
    "data_obs"
   ]
  },
  {
   "cell_type": "code",
   "execution_count": null,
   "metadata": {
    "vscode": {
     "languageId": "r"
    }
   },
   "outputs": [],
   "source": [
    "dat %>%\n",
    "    ggplot(aes(x=x, y=y)) +\n",
    "    stat_lineribbon(aes(y=y), .width=c(.95), color=\"#08519C\") +\n",
    "    labs(x=\"Time (months)\", y=\"Survivial Probability\") +\n",
    "    scale_fill_brewer() + \n",
    "    theme_bw() +\n",
    "    geom_step(data = data_obs, mapping=aes(y=surv, x = time)) +\n",
    "    theme(legend.position = \"none\") + xlim(0,50)"
   ]
  },
  {
   "cell_type": "markdown",
   "metadata": {},
   "source": [
    "### Parameters Estimate"
   ]
  },
  {
   "cell_type": "code",
   "execution_count": null,
   "metadata": {
    "vscode": {
     "languageId": "r"
    }
   },
   "outputs": [],
   "source": [
    "mcmc_intervals(fit$draws(c(\"a_group\", \"b_group\")), prob=0.95) +\n",
    "vline_0() +\n",
    "theme_bw() +\n",
    "theme(axis.text=element_text(size=14)) +\n",
    "labs(x=\"Parameters Estimate\")\n"
   ]
  },
  {
   "cell_type": "markdown",
   "metadata": {},
   "source": [
    "## Interactions"
   ]
  },
  {
   "cell_type": "code",
   "execution_count": null,
   "metadata": {
    "vscode": {
     "languageId": "r"
    }
   },
   "outputs": [],
   "source": [
    "fit <- readRDS(\"cmd_fit_full.RDS\")"
   ]
  },
  {
   "cell_type": "code",
   "execution_count": null,
   "metadata": {
    "vscode": {
     "languageId": "r"
    }
   },
   "outputs": [],
   "source": [
    "pred <- fit$draws(c(\"pred\"), format=\"matrix\")\n",
    "pred_mean <- apply(pred, 2, mean)\n",
    "weight <- dl$weight\n",
    "group <- dl$gid"
   ]
  },
  {
   "cell_type": "code",
   "execution_count": null,
   "metadata": {
    "vscode": {
     "languageId": "r"
    }
   },
   "outputs": [],
   "source": [
    "ppc_ribbon_grouped(pred_mean, pred, x=weight, group=group, prob = 0.95, y_draw = \"both\") +\n",
    "labs(y=\"Survival Time in months\", x=\"Weight\") +\n",
    "theme_bw() +\n",
    "legend_none() +\n",
    "hline_0() +\n",
    "theme(axis.title = element_text(size=20)) +\n",
    "theme(text=element_text(size=20))"
   ]
  },
  {
   "cell_type": "code",
   "execution_count": null,
   "metadata": {
    "vscode": {
     "languageId": "r"
    }
   },
   "outputs": [],
   "source": [
    "diff13 <- fit$draws(c(\"diff_13\"), format=\"matrix\")\n",
    "diff12 <- fit$draws(c(\"diff_12\"), format=\"matrix\")\n",
    "diff23 <- fit$draws(c(\"diff_23\"), format=\"matrix\")"
   ]
  },
  {
   "cell_type": "code",
   "execution_count": null,
   "metadata": {
    "vscode": {
     "languageId": "r"
    }
   },
   "outputs": [],
   "source": [
    "diff13_mean <- apply(diff13, 2, mean)\n",
    "diff12_mean <- apply(diff12, 2, mean)\n",
    "diff23_mean <- apply(diff23, 2, mean)"
   ]
  },
  {
   "cell_type": "code",
   "execution_count": null,
   "metadata": {
    "vscode": {
     "languageId": "r"
    }
   },
   "outputs": [],
   "source": [
    "library(ggpubr)"
   ]
  },
  {
   "cell_type": "code",
   "execution_count": null,
   "metadata": {
    "vscode": {
     "languageId": "r"
    }
   },
   "outputs": [],
   "source": [
    "ggarrange(\n",
    "    ppc_ribbon(\n",
    "        diff12_mean, diff12, x=weight, prob=0.95, y_draw = \"both\"\n",
    "    ) +\n",
    "    labs(y=\"Difference between Treatment A and B\", x=\"Weight\") +\n",
    "    theme_light() +\n",
    "    legend_none() +\n",
    "    hline_0() +\n",
    "    scale_y_continuous(0,600, 50) +\n",
    "    ggtitle(\"A vs. B\"),\n",
    "\n",
    "    ppc_ribbon(\n",
    "        diff13_mean, diff13, x=weight, prob=0.95, y_draw = \"both\"\n",
    "    ) +\n",
    "    labs(y=\"Difference between Treatment A and C\", x=\"Weight\") +\n",
    "    theme_light() +\n",
    "    legend_none() +\n",
    "    hline_0() +\n",
    "    scale_y_continuous(0,600, 50) +\n",
    "    ggtitle(\"A vs. C\"),    \n",
    "\n",
    "    ppc_ribbon(\n",
    "        diff23_mean, diff23, x=weight, prob=0.95, y_draw = \"both\"\n",
    "    ) +\n",
    "    labs(y=\"Difference between Treatment B and C\", x=\"Weight\") +\n",
    "    theme_light() +\n",
    "    legend_none() +\n",
    "    hline_0() +\n",
    "    scale_y_continuous(0,600, 50) +\n",
    "    ggtitle(\"C vs. B\"),\n",
    "    ncol=2, nrow=2\n",
    ")"
   ]
  }
 ],
 "metadata": {
  "kernelspec": {
   "display_name": "R",
   "language": "R",
   "name": "ir"
  },
  "language_info": {
   "codemirror_mode": "r",
   "file_extension": ".r",
   "mimetype": "text/x-r-source",
   "name": "R",
   "pygments_lexer": "r",
   "version": "4.2.2"
  },
  "orig_nbformat": 4
 },
 "nbformat": 4,
 "nbformat_minor": 2
}
