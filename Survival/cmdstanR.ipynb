{
 "cells": [
  {
   "cell_type": "code",
   "execution_count": 1,
   "metadata": {
    "vscode": {
     "languageId": "r"
    }
   },
   "outputs": [
    {
     "name": "stderr",
     "output_type": "stream",
     "text": [
      "This is cmdstanr version 0.5.3\n",
      "\n",
      "- CmdStanR documentation and vignettes: mc-stan.org/cmdstanr\n",
      "\n",
      "- CmdStan path: /home/dulunche/.cmdstan/cmdstan-2.30.1\n",
      "\n",
      "- CmdStan version: 2.30.1\n",
      "\n"
     ]
    }
   ],
   "source": [
    "library(cmdstanr)"
   ]
  },
  {
   "cell_type": "code",
   "execution_count": 2,
   "metadata": {
    "vscode": {
     "languageId": "r"
    }
   },
   "outputs": [
    {
     "name": "stderr",
     "output_type": "stream",
     "text": [
      "The C++ toolchain required for CmdStan is setup properly!\n",
      "\n",
      "* Latest CmdStan release is v2.30.1\n",
      "\n",
      "* Installing CmdStan v2.30.1 in /home/dulunche/.cmdstan/cmdstan-2.30.1\n",
      "\n",
      "* Downloading cmdstan-2.30.1.tar.gz from GitHub...\n",
      "\n",
      "Warning message:\n",
      "“An installation already exists at /home/dulunche/.cmdstan/cmdstan-2.30.1. Please remove or rename the installation folder or set overwrite=TRUE.”\n"
     ]
    }
   ],
   "source": [
    "install_cmdstan()"
   ]
  },
  {
   "cell_type": "code",
   "execution_count": 3,
   "metadata": {
    "vscode": {
     "languageId": "r"
    }
   },
   "outputs": [],
   "source": [
    "model = cmdstan_model(\"goat_cmd.stan\")"
   ]
  },
  {
   "cell_type": "code",
   "execution_count": 4,
   "metadata": {
    "vscode": {
     "languageId": "r"
    }
   },
   "outputs": [],
   "source": [
    "df = readRDS(\"goat.rds\")"
   ]
  },
  {
   "cell_type": "code",
   "execution_count": 5,
   "metadata": {
    "vscode": {
     "languageId": "r"
    }
   },
   "outputs": [
    {
     "name": "stdout",
     "output_type": "stream",
     "text": [
      "'data.frame':\t150 obs. of  4 variables:\n",
      " $ death : int  20 34 1 2 3 3 50 26 1 50 ...\n",
      " $ status: int  1 1 1 1 1 1 0 1 1 0 ...\n",
      " $ weight: num  5.38 7.41 9.27 6.23 5.23 ...\n",
      " $ group : chr  \"A\" \"A\" \"A\" \"A\" ...\n"
     ]
    }
   ],
   "source": [
    "str(df)"
   ]
  },
  {
   "cell_type": "code",
   "execution_count": 6,
   "metadata": {
    "vscode": {
     "languageId": "r"
    }
   },
   "outputs": [
    {
     "name": "stderr",
     "output_type": "stream",
     "text": [
      "Warning message in system(\"timedatectl\", intern = TRUE):\n",
      "“running command 'timedatectl' had status 1”\n",
      "── \u001b[1mAttaching packages\u001b[22m ─────────────────────────────────────── tidyverse 1.3.2 ──\n",
      "\u001b[32m✔\u001b[39m \u001b[34mggplot2\u001b[39m 3.3.6      \u001b[32m✔\u001b[39m \u001b[34mpurrr  \u001b[39m 0.3.4 \n",
      "\u001b[32m✔\u001b[39m \u001b[34mtibble \u001b[39m 3.1.8      \u001b[32m✔\u001b[39m \u001b[34mdplyr  \u001b[39m 1.0.10\n",
      "\u001b[32m✔\u001b[39m \u001b[34mtidyr  \u001b[39m 1.2.1      \u001b[32m✔\u001b[39m \u001b[34mstringr\u001b[39m 1.4.1 \n",
      "\u001b[32m✔\u001b[39m \u001b[34mreadr  \u001b[39m 2.1.2      \u001b[32m✔\u001b[39m \u001b[34mforcats\u001b[39m 0.5.2 \n",
      "── \u001b[1mConflicts\u001b[22m ────────────────────────────────────────── tidyverse_conflicts() ──\n",
      "\u001b[31m✖\u001b[39m \u001b[34mdplyr\u001b[39m::\u001b[32mfilter()\u001b[39m masks \u001b[34mstats\u001b[39m::filter()\n",
      "\u001b[31m✖\u001b[39m \u001b[34mdplyr\u001b[39m::\u001b[32mlag()\u001b[39m    masks \u001b[34mstats\u001b[39m::lag()\n"
     ]
    }
   ],
   "source": [
    "library(\"tidyverse\")"
   ]
  },
  {
   "cell_type": "code",
   "execution_count": 7,
   "metadata": {
    "vscode": {
     "languageId": "r"
    }
   },
   "outputs": [],
   "source": [
    "df <- df %>% group_by(group)"
   ]
  },
  {
   "cell_type": "code",
   "execution_count": 8,
   "metadata": {
    "vscode": {
     "languageId": "r"
    }
   },
   "outputs": [],
   "source": [
    "dl <- list(\n",
    "  N = nrow(df),\n",
    "  G = length(unique(df$group)),\n",
    "  time = df$death,\n",
    "  weight = (df$weight-12)/12,\n",
    "  event = df$status,\n",
    "  gid = df %>% group_indices()\n",
    ")"
   ]
  },
  {
   "cell_type": "code",
   "execution_count": 9,
   "metadata": {
    "vscode": {
     "languageId": "r"
    }
   },
   "outputs": [
    {
     "name": "stdout",
     "output_type": "stream",
     "text": [
      "Running MCMC with 4 parallel chains...\n",
      "\n",
      "Chain 1 Iteration:    1 / 2000 [  0%]  (Warmup) \n",
      "Chain 1 Iteration:  100 / 2000 [  5%]  (Warmup) \n",
      "Chain 1 Iteration:  200 / 2000 [ 10%]  (Warmup) \n",
      "Chain 1 Iteration:  300 / 2000 [ 15%]  (Warmup) \n",
      "Chain 1 Iteration:  400 / 2000 [ 20%]  (Warmup) \n",
      "Chain 1 Iteration:  500 / 2000 [ 25%]  (Warmup) \n",
      "Chain 1 Iteration:  600 / 2000 [ 30%]  (Warmup) \n",
      "Chain 1 Iteration:  700 / 2000 [ 35%]  (Warmup) \n",
      "Chain 1 Iteration:  800 / 2000 [ 40%]  (Warmup) \n",
      "Chain 1 Iteration:  900 / 2000 [ 45%]  (Warmup) \n",
      "Chain 1 Iteration: 1000 / 2000 [ 50%]  (Warmup) \n",
      "Chain 1 Iteration: 1001 / 2000 [ 50%]  (Sampling) \n",
      "Chain 1 Iteration: 1100 / 2000 [ 55%]  (Sampling) \n",
      "Chain 1 Iteration: 1200 / 2000 [ 60%]  (Sampling) \n",
      "Chain 1 Iteration: 1300 / 2000 [ 65%]  (Sampling) \n",
      "Chain 1 Iteration: 1400 / 2000 [ 70%]  (Sampling) \n",
      "Chain 1 Iteration: 1500 / 2000 [ 75%]  (Sampling) \n",
      "Chain 1 Iteration: 1600 / 2000 [ 80%]  (Sampling) \n",
      "Chain 1 Iteration: 1700 / 2000 [ 85%]  (Sampling) \n",
      "Chain 1 Iteration: 1800 / 2000 [ 90%]  (Sampling) \n",
      "Chain 1 Iteration: 1900 / 2000 [ 95%]  (Sampling) \n",
      "Chain 1 Iteration: 2000 / 2000 [100%]  (Sampling) \n",
      "Chain 2 Iteration:    1 / 2000 [  0%]  (Warmup) \n",
      "Chain 2 Iteration:  100 / 2000 [  5%]  (Warmup) \n",
      "Chain 2 Iteration:  200 / 2000 [ 10%]  (Warmup) \n",
      "Chain 2 Iteration:  300 / 2000 [ 15%]  (Warmup) \n",
      "Chain 2 Iteration:  400 / 2000 [ 20%]  (Warmup) \n",
      "Chain 2 Iteration:  500 / 2000 [ 25%]  (Warmup) \n",
      "Chain 2 Iteration:  600 / 2000 [ 30%]  (Warmup) \n",
      "Chain 2 Iteration:  700 / 2000 [ 35%]  (Warmup) \n",
      "Chain 2 Iteration:  800 / 2000 [ 40%]  (Warmup) \n",
      "Chain 2 Iteration:  900 / 2000 [ 45%]  (Warmup) \n",
      "Chain 2 Iteration: 1000 / 2000 [ 50%]  (Warmup) \n",
      "Chain 2 Iteration: 1001 / 2000 [ 50%]  (Sampling) \n",
      "Chain 2 Iteration: 1100 / 2000 [ 55%]  (Sampling) \n",
      "Chain 2 Iteration: 1200 / 2000 [ 60%]  (Sampling) \n",
      "Chain 2 Iteration: 1300 / 2000 [ 65%]  (Sampling) \n",
      "Chain 2 Iteration: 1400 / 2000 [ 70%]  (Sampling) \n",
      "Chain 2 Iteration: 1500 / 2000 [ 75%]  (Sampling) \n",
      "Chain 2 Iteration: 1600 / 2000 [ 80%]  (Sampling) \n",
      "Chain 2 Iteration: 1700 / 2000 [ 85%]  (Sampling) \n",
      "Chain 2 Iteration: 1800 / 2000 [ 90%]  (Sampling) \n",
      "Chain 2 Iteration: 1900 / 2000 [ 95%]  (Sampling) \n",
      "Chain 2 Iteration: 2000 / 2000 [100%]  (Sampling) \n",
      "Chain 3 Iteration:    1 / 2000 [  0%]  (Warmup) \n",
      "Chain 3 Iteration:  100 / 2000 [  5%]  (Warmup) \n",
      "Chain 3 Iteration:  200 / 2000 [ 10%]  (Warmup) \n",
      "Chain 3 Iteration:  300 / 2000 [ 15%]  (Warmup) \n",
      "Chain 3 Iteration:  400 / 2000 [ 20%]  (Warmup) \n",
      "Chain 3 Iteration:  500 / 2000 [ 25%]  (Warmup) \n",
      "Chain 3 Iteration:  600 / 2000 [ 30%]  (Warmup) \n",
      "Chain 3 Iteration:  700 / 2000 [ 35%]  (Warmup) \n",
      "Chain 3 Iteration:  800 / 2000 [ 40%]  (Warmup) \n",
      "Chain 3 Iteration:  900 / 2000 [ 45%]  (Warmup) \n",
      "Chain 3 Iteration: 1000 / 2000 [ 50%]  (Warmup) \n",
      "Chain 3 Iteration: 1001 / 2000 [ 50%]  (Sampling) \n",
      "Chain 3 Iteration: 1100 / 2000 [ 55%]  (Sampling) \n",
      "Chain 3 Iteration: 1200 / 2000 [ 60%]  (Sampling) \n",
      "Chain 3 Iteration: 1300 / 2000 [ 65%]  (Sampling) \n",
      "Chain 3 Iteration: 1400 / 2000 [ 70%]  (Sampling) \n",
      "Chain 3 Iteration: 1500 / 2000 [ 75%]  (Sampling) \n",
      "Chain 3 Iteration: 1600 / 2000 [ 80%]  (Sampling) \n",
      "Chain 3 Iteration: 1700 / 2000 [ 85%]  (Sampling) \n",
      "Chain 3 Iteration: 1800 / 2000 [ 90%]  (Sampling) \n",
      "Chain 3 Iteration: 1900 / 2000 [ 95%]  (Sampling) \n",
      "Chain 3 Iteration: 2000 / 2000 [100%]  (Sampling) \n",
      "Chain 4 Iteration:    1 / 2000 [  0%]  (Warmup) \n",
      "Chain 4 Iteration:  100 / 2000 [  5%]  (Warmup) \n",
      "Chain 4 Iteration:  200 / 2000 [ 10%]  (Warmup) \n",
      "Chain 4 Iteration:  300 / 2000 [ 15%]  (Warmup) \n",
      "Chain 4 Iteration:  400 / 2000 [ 20%]  (Warmup) \n",
      "Chain 4 Iteration:  500 / 2000 [ 25%]  (Warmup) \n",
      "Chain 4 Iteration:  600 / 2000 [ 30%]  (Warmup) \n",
      "Chain 4 Iteration:  700 / 2000 [ 35%]  (Warmup) \n",
      "Chain 4 Iteration:  800 / 2000 [ 40%]  (Warmup) \n",
      "Chain 4 Iteration:  900 / 2000 [ 45%]  (Warmup) \n",
      "Chain 4 Iteration: 1000 / 2000 [ 50%]  (Warmup) \n",
      "Chain 4 Iteration: 1001 / 2000 [ 50%]  (Sampling) \n",
      "Chain 4 Iteration: 1100 / 2000 [ 55%]  (Sampling) \n",
      "Chain 4 Iteration: 1200 / 2000 [ 60%]  (Sampling) \n",
      "Chain 4 Iteration: 1300 / 2000 [ 65%]  (Sampling) \n",
      "Chain 4 Iteration: 1400 / 2000 [ 70%]  (Sampling) \n",
      "Chain 4 Iteration: 1500 / 2000 [ 75%]  (Sampling) \n",
      "Chain 4 Iteration: 1600 / 2000 [ 80%]  (Sampling) \n",
      "Chain 4 Iteration: 1700 / 2000 [ 85%]  (Sampling) \n",
      "Chain 4 Iteration: 1800 / 2000 [ 90%]  (Sampling) \n",
      "Chain 1 finished in 0.3 seconds.\n",
      "Chain 2 finished in 0.4 seconds.\n",
      "Chain 3 finished in 0.3 seconds.\n",
      "Chain 4 Iteration: 1900 / 2000 [ 95%]  (Sampling) \n",
      "Chain 4 Iteration: 2000 / 2000 [100%]  (Sampling) \n",
      "Chain 4 finished in 0.3 seconds.\n",
      "\n",
      "All 4 chains finished successfully.\n",
      "Mean chain execution time: 0.3 seconds.\n",
      "Total execution time: 0.8 seconds.\n",
      "\n"
     ]
    },
    {
     "name": "stderr",
     "output_type": "stream",
     "text": [
      "Warning: 1 of 4000 (0.0%) transitions ended with a divergence.\n",
      "See https://mc-stan.org/misc/warnings for details.\n",
      "\n",
      "\n"
     ]
    }
   ],
   "source": [
    "fit_prior = model$sample(\n",
    "    data = dl,\n",
    "    chains = 4,\n",
    "    parallel_chains = 4\n",
    ")"
   ]
  },
  {
   "cell_type": "code",
   "execution_count": 10,
   "metadata": {
    "vscode": {
     "languageId": "r"
    }
   },
   "outputs": [
    {
     "name": "stderr",
     "output_type": "stream",
     "text": [
      "This is bayesplot version 1.9.0\n",
      "\n",
      "- Online documentation and vignettes at mc-stan.org/bayesplot\n",
      "\n",
      "- bayesplot theme set to bayesplot::theme_default()\n",
      "\n",
      "   * Does _not_ affect other ggplot2 plots\n",
      "\n",
      "   * See ?bayesplot_theme_set for details on theme setting\n",
      "\n"
     ]
    }
   ],
   "source": [
    "library(bayesplot)"
   ]
  },
  {
   "cell_type": "code",
   "execution_count": 11,
   "metadata": {
    "vscode": {
     "languageId": "r"
    }
   },
   "outputs": [
    {
     "ename": "ERROR",
     "evalue": "Error in library(tidybase): there is no package called ‘tidybase’\n",
     "output_type": "error",
     "traceback": [
      "Error in library(tidybase): there is no package called ‘tidybase’\nTraceback:\n",
      "1. library(tidybase)"
     ]
    }
   ],
   "source": [
    "library(tidybase)"
   ]
  },
  {
   "cell_type": "code",
   "execution_count": 12,
   "metadata": {
    "vscode": {
     "languageId": "r"
    }
   },
   "outputs": [],
   "source": [
    "a <- posterior::as_draws_rvars(fit_prior$draws())"
   ]
  },
  {
   "cell_type": "code",
   "execution_count": 13,
   "metadata": {
    "vscode": {
     "languageId": "r"
    }
   },
   "outputs": [
    {
     "data": {
      "text/plain": [
       "# A draws_rvars: 1000 iterations, 4 chains, and 8 variables\n",
       "$lp__: rvar<1000,4>[1] \u001b[90mmean ± sd:\u001b[39m\n",
       "[1] -3.3 ± 2.1 \n",
       "\n",
       "$a: rvar<1000,4>[1] \u001b[90mmean ± sd:\u001b[39m\n",
       "[1] -0.022 ± 0.98 \n",
       "\n",
       "$a_group: rvar<1000,4>[3] \u001b[90mmean ± sd:\u001b[39m\n",
       "[1] 0.0095 ± 1.02  0.0059 ± 0.99  0.0026 ± 1.00 \n",
       "\n",
       "$b_group: rvar<1000,4>[3] \u001b[90mmean ± sd:\u001b[39m\n",
       "[1]  0.0268 ± 1.02  -0.0141 ± 1.02   0.0078 ± 0.99 \n",
       "\n",
       "$k: rvar<1000,4>[1] \u001b[90mmean ± sd:\u001b[39m\n",
       "[1] 4 ± 2.8 \n",
       "\n",
       "$mu: rvar<1000,4>[150] \u001b[90mmean ± sd:\u001b[39m\n",
       "  [1]  3.0 ± 9.5     2.8 ± 7.8     2.7 ± 6.9     2.9 ± 8.7     3.0 ± 9.7   \n",
       "  [6]  2.7 ± 6.8     3.7 ± 14.8    2.9 ± 9.1     3.6 ± 14.6    4.2 ± 19.4  \n",
       " [11]  2.8 ± 8.2     3.0 ± 9.4     3.9 ± 16.8    2.9 ± 8.6     2.8 ± 7.8   \n",
       " [16]  2.7 ± 7.1     2.8 ± 7.8     3.8 ± 16.1    3.8 ± 16.4    3.0 ± 9.8   \n",
       " [21]  2.8 ± 8.0     3.1 ± 10.3    2.9 ± 8.5     2.9 ± 9.0     3.6 ± 14.5  \n",
       " [26]  2.8 ± 7.7     3.3 ± 11.6    2.7 ± 7.0     2.9 ± 8.5     3.6 ± 14.4  \n",
       " [31]  3.1 ± 10.1    2.9 ± 8.5     3.7 ± 15.5    2.8 ± 8.3     3.5 ± 13.4  \n",
       " [36]  3.1 ± 10.0    3.1 ± 10.2    3.0 ± 9.9     3.3 ± 11.9    3.1 ± 10.7  \n",
       " [41]  2.9 ± 8.7     3.0 ± 9.4     3.6 ± 14.2    3.0 ± 9.7     2.7 ± 6.8   \n",
       " [46]  3.0 ± 9.3     3.2 ± 10.8    3.4 ± 12.5    2.8 ± 8.3     4.1 ± 18.7  \n",
       " [51]  4.4 ± 26.6    4.2 ± 24.3    4.6 ± 28.7    4.5 ± 27.8    3.8 ± 20.7  \n",
       " [56]  4.5 ± 28.0    3.5 ± 17.4    2.9 ± 10.4    3.2 ± 14.3    3.1 ± 13.3  \n",
       " [61]  3.0 ± 11.8    4.2 ± 24.5    2.6 ± 6.6     2.6 ± 6.8     2.8 ± 9.3   \n",
       " [66]  4.6 ± 29.0    2.6 ± 7.4     2.7 ± 8.2     2.6 ± 6.2     2.6 ± 7.7   \n",
       " [71]  2.7 ± 6.0     2.6 ± 5.9     2.7 ± 6.0     2.9 ± 6.5     2.9 ± 6.6   \n",
       " [76]  2.9 ± 6.6     2.7 ± 8.1     4.1 ± 23.1    2.6 ± 7.3     3.4 ± 15.9  \n",
       " [81]  3.9 ± 21.0    2.8 ± 10.1    2.6 ± 5.9     4.9 ± 14.7    4.5 ± 27.3  \n",
       " [86]  2.8 ± 6.3     2.9 ± 11.1    2.7 ± 5.9    22.7 ± 147.4   6.6 ± 23.5  \n",
       " [91]  2.6 ± 5.9     4.1 ± 23.0    4.5 ± 27.7   12.0 ± 58.1    6.4 ± 22.7  \n",
       " [96] 22.6 ± 146.1   5.1 ± 16.0   28.3 ± 201.0   2.7 ± 8.4     3.7 ± 9.4   \n",
       "[101]  6.2 ± 25.7   16.3 ± 111.5   3.1 ± 8.7    47.5 ± 466.4  52.7 ± 532.0 \n",
       "[106]  4.9 ± 17.4    2.7 ± 6.5     4.4 ± 14.4    4.2 ± 14.3    3.4 ± 9.0   \n",
       "[111]  2.9 ± 7.2     2.8 ± 7.0     3.6 ± 11.2    3.1 ± 8.3     3.2 ± 8.4   \n",
       "[116]  3.2 ± 8.2     3.4 ± 10.1    5.9 ± 23.5    3.6 ± 11.2    3.8 ± 11.1  \n",
       "[121]  3.1 ± 8.2     3.0 ± 7.4     2.9 ± 7.0     3.8 ± 12.3    3.7 ± 11.6  \n",
       "[126]  2.9 ± 7.0     2.7 ± 6.3     3.5 ± 9.9     2.9 ± 7.7     2.9 ± 7.3   \n",
       "[131]  2.9 ± 7.2     2.7 ± 6.4     3.1 ± 8.5     4.0 ± 13.6    3.1 ± 8.2   \n",
       "[136]  3.1 ± 8.6     2.9 ± 7.2     3.3 ± 9.8     3.2 ± 8.9     2.8 ± 6.6   \n",
       "[141]  3.9 ± 12.6    3.0 ± 7.8     3.8 ± 12.0    4.0 ± 13.6    3.7 ± 11.7  \n",
       "[146]  4.0 ± 13.1    3.5 ± 10.6    3.7 ± 12.0    4.0 ± 13.2    4.2 ± 14.8  \n",
       "\n",
       "$lambda: rvar<1000,4>[150] \u001b[90mmean ± sd:\u001b[39m\n",
       "  [1]  3.1 ± 10.2    2.9 ± 8.3     2.8 ± 7.3     3.0 ± 9.3     3.2 ± 10.4  \n",
       "  [6]  2.8 ± 7.2     3.8 ± 15.8    3.1 ± 9.7     3.8 ± 15.6    4.4 ± 20.8  \n",
       " [11]  3.0 ± 8.8     3.1 ± 10.0    4.1 ± 18.0    3.0 ± 9.2     2.9 ± 8.4   \n",
       " [16]  2.8 ± 7.6     2.9 ± 8.3     4.0 ± 17.2    4.0 ± 17.5    3.2 ± 10.4  \n",
       " [21]  2.9 ± 8.5     3.2 ± 11.0    3.0 ± 9.0     3.1 ± 9.6     3.8 ± 15.5  \n",
       " [26]  2.9 ± 8.2     3.4 ± 12.4    2.8 ± 7.4     3.0 ± 9.0     3.8 ± 15.4  \n",
       " [31]  3.2 ± 10.8    3.0 ± 9.0     3.9 ± 16.6    3.0 ± 8.9     3.6 ± 14.3  \n",
       " [36]  3.2 ± 10.7    3.2 ± 10.9    3.2 ± 10.5    3.5 ± 12.7    3.3 ± 11.4  \n",
       " [41]  3.0 ± 9.3     3.1 ± 10.0    3.8 ± 15.2    3.2 ± 10.3    2.8 ± 7.2   \n",
       " [46]  3.1 ± 9.9     3.3 ± 11.6    3.5 ± 13.4    3.0 ± 8.8     4.3 ± 20.0  \n",
       " [51]  4.7 ± 29.3    4.4 ± 26.8    4.9 ± 31.7    4.8 ± 30.7    4.1 ± 22.8  \n",
       " [56]  4.8 ± 30.9    3.7 ± 19.2    3.0 ± 11.4    3.4 ± 15.7    3.3 ± 14.6  \n",
       " [61]  3.2 ± 12.9    4.5 ± 27.0    2.7 ± 7.1     2.7 ± 7.4     2.9 ± 10.1  \n",
       " [66]  4.9 ± 32.0    2.8 ± 8.1     2.8 ± 8.9     2.7 ± 6.7     2.8 ± 8.4   \n",
       " [71]  2.9 ± 6.5     2.8 ± 6.4     2.9 ± 6.4     3.1 ± 7.1     3.1 ± 7.1   \n",
       " [76]  3.1 ± 7.1     2.8 ± 8.8     4.3 ± 25.5    2.7 ± 7.9     3.6 ± 17.5  \n",
       " [81]  4.1 ± 23.1    3.0 ± 11.1    2.7 ± 6.4     5.2 ± 15.8    4.8 ± 30.2  \n",
       " [86]  3.0 ± 6.8     3.1 ± 12.2    2.9 ± 6.4    23.9 ± 157.8   6.9 ± 25.1  \n",
       " [91]  2.7 ± 6.4     4.3 ± 25.4    4.8 ± 30.6   12.6 ± 62.1    6.8 ± 24.3  \n",
       " [96] 23.7 ± 156.4   5.4 ± 17.2   29.7 ± 215.5   2.8 ± 9.2     3.9 ± 10.1  \n",
       "[101]  6.5 ± 26.5   17.0 ± 117.7   3.2 ± 8.9    49.9 ± 501.8  55.5 ± 573.1 \n",
       "[106]  5.1 ± 17.8    2.8 ± 6.7     4.6 ± 14.7    4.3 ± 14.9    3.5 ± 9.2   \n",
       "[111]  2.9 ± 7.4     2.9 ± 7.2     3.7 ± 11.6    3.1 ± 8.5     3.3 ± 8.6   \n",
       "[116]  3.3 ± 8.4     3.5 ± 10.4    6.1 ± 24.1    3.7 ± 11.6    3.9 ± 11.3  \n",
       "[121]  3.1 ± 8.4     3.1 ± 7.6     3.0 ± 7.1     3.9 ± 12.8    3.8 ± 12.1  \n",
       "[126]  3.0 ± 7.1     2.8 ± 6.4     3.7 ± 10.1    3.0 ± 7.9     3.0 ± 7.5   \n",
       "[131]  3.0 ± 7.4     2.8 ± 6.5     3.2 ± 8.7     4.1 ± 14.1    3.1 ± 8.4   \n",
       "[136]  3.2 ± 8.9     2.9 ± 7.4     3.4 ± 10.1    3.3 ± 9.1     2.8 ± 6.8   \n",
       "[141]  4.0 ± 13.0    3.1 ± 8.0     3.9 ± 12.5    4.1 ± 14.1    3.8 ± 12.2  \n",
       "[146]  4.1 ± 13.7    3.6 ± 11.0    3.8 ± 12.4    4.1 ± 13.8    4.4 ± 15.4  \n",
       "\n",
       "$pred: rvar<1000,4>[150] \u001b[90mmean ± sd:\u001b[39m\n",
       "  [1]  3.1 ± 18.7    2.8 ± 8.9     2.7 ± 10.3    3.3 ± 29.3    3.2 ± 11.7  \n",
       "  [6]  2.8 ± 13.9    3.5 ± 14.2    3.0 ± 13.1    3.4 ± 13.0    4.1 ± 20.0  \n",
       " [11]  2.8 ± 9.4     2.9 ± 9.1     4.3 ± 34.4    2.9 ± 10.9    2.9 ± 11.2  \n",
       " [16]  2.7 ± 8.5     3.5 ± 40.1    3.9 ± 21.7    3.5 ± 14.4    2.9 ± 8.9   \n",
       " [21]  2.7 ± 7.1     3.0 ± 9.1     2.8 ± 9.2     2.8 ± 8.5     3.6 ± 15.9  \n",
       " [26]  2.8 ± 9.9     3.2 ± 13.9    2.6 ± 7.9     2.9 ± 10.5    3.4 ± 12.2  \n",
       " [31]  3.2 ± 21.3    2.8 ± 11.6    3.6 ± 16.7    2.7 ± 8.3     3.5 ± 17.7  \n",
       " [36]  3.0 ± 9.9     3.1 ± 13.9    3.3 ± 19.7    3.5 ± 32.7    3.2 ± 13.6  \n",
       " [41]  3.0 ± 10.3    2.8 ± 8.9     3.4 ± 11.6    3.1 ± 14.3    2.6 ± 6.8   \n",
       " [46]  3.1 ± 23.8    3.2 ± 13.2    3.3 ± 12.1    2.8 ± 8.1     4.3 ± 30.3  \n",
       " [51]  4.2 ± 18.2    4.3 ± 29.3    4.9 ± 41.4    4.4 ± 25.8    4.2 ± 28.1  \n",
       " [56]  4.6 ± 29.2    3.6 ± 25.5    3.0 ± 16.1    3.4 ± 21.1    3.3 ± 20.4  \n",
       " [61]  2.9 ± 12.0    4.0 ± 13.8    2.6 ± 7.2     2.5 ± 6.8     2.8 ± 10.7  \n",
       " [66]  4.4 ± 23.2    2.7 ± 10.8    2.7 ± 8.9     2.6 ± 6.9     2.9 ± 13.7  \n",
       " [71]  2.8 ± 7.9     2.6 ± 6.5     2.8 ± 6.9     3.0 ± 7.9     3.0 ± 8.0   \n",
       " [76]  2.9 ± 7.5     2.6 ± 9.6     3.7 ± 15.5    2.5 ± 8.1     3.4 ± 15.3  \n",
       " [81]  3.9 ± 24.9    2.9 ± 13.7    2.5 ± 5.8     4.8 ± 15.9    4.3 ± 30.7  \n",
       " [86]  2.8 ± 7.2     2.9 ± 10.4    2.6 ± 5.7    21.9 ± 133.2   6.5 ± 26.2  \n",
       " [91]  2.5 ± 6.7     4.0 ± 26.2    5.1 ± 48.8   11.6 ± 59.0    6.6 ± 28.2  \n",
       " [96] 21.0 ± 133.8   5.2 ± 18.0   27.4 ± 210.2   2.7 ± 8.2     3.6 ± 10.8  \n",
       "[101]  7.8 ± 118.9  15.4 ± 110.5   3.0 ± 8.4    48.5 ± 489.8  54.0 ± 597.2 \n",
       "[106]  4.8 ± 17.8    2.8 ± 14.2    4.3 ± 15.2    4.0 ± 13.5    3.2 ± 8.7   \n",
       "[111]  2.8 ± 7.5     2.8 ± 9.6     3.5 ± 11.2    3.1 ± 12.9    3.3 ± 11.4  \n",
       "[116]  3.0 ± 8.5     3.2 ± 11.3    5.7 ± 26.8    3.5 ± 11.2    3.5 ± 10.7  \n",
       "[121]  2.9 ± 7.2     3.0 ± 9.1     2.8 ± 8.1     4.1 ± 26.0    3.4 ± 9.8   \n",
       "[126]  2.8 ± 8.6     2.7 ± 8.3     3.3 ± 9.5     2.9 ± 8.3     2.8 ± 7.2   \n",
       "[131]  2.9 ± 9.0     2.8 ± 12.8    4.0 ± 70.4    4.0 ± 14.4    2.9 ± 8.0   \n",
       "[136]  2.9 ± 8.3     2.8 ± 8.6     3.1 ± 7.8     3.1 ± 9.9     2.6 ± 6.3   \n",
       "[141]  3.9 ± 16.6    3.0 ± 10.0    3.5 ± 12.3    3.8 ± 14.1    3.5 ± 12.6  \n",
       "[146]  3.8 ± 12.7    3.6 ± 15.3    3.8 ± 16.8    3.8 ± 15.3    5.9 ± 111.2 \n"
      ]
     },
     "metadata": {},
     "output_type": "display_data"
    }
   ],
   "source": [
    "a"
   ]
  },
  {
   "cell_type": "code",
   "execution_count": 16,
   "metadata": {
    "vscode": {
     "languageId": "r"
    }
   },
   "outputs": [],
   "source": [
    "post_draws <- posterior::draws_of(a$pred)[1:4000,]"
   ]
  },
  {
   "cell_type": "code",
   "execution_count": 17,
   "metadata": {
    "vscode": {
     "languageId": "r"
    }
   },
   "outputs": [
    {
     "data": {
      "text/html": [
       "<table class=\"dataframe\">\n",
       "<caption>A matrix: 4000 × 150 of type dbl</caption>\n",
       "<tbody>\n",
       "\t<tr><th scope=row>1</th><td> 0.36629600</td><td> 0.32035600</td><td> 0.32147100</td><td>3.60960e-01</td><td>3.56925e-01</td><td>0.22726200</td><td> 0.40025000</td><td> 0.35983000</td><td> 0.34334500</td><td>4.11151e-01</td><td>⋯</td><td>  0.1191490</td><td> 0.17005300</td><td>7.49095e-02</td><td> 0.1261430</td><td> 0.1378540</td><td> 0.08651550</td><td> 0.1271200</td><td> 0.165835</td><td>1.44682e-01</td><td> 0.1410110</td></tr>\n",
       "\t<tr><th scope=row>2</th><td> 0.15328500</td><td>30.08620000</td><td>12.99280000</td><td>2.10500e+00</td><td>1.89803e-01</td><td>0.97033300</td><td> 0.31472400</td><td> 0.12487300</td><td> 0.98323100</td><td>9.51927e+00</td><td>⋯</td><td>  1.3482700</td><td> 0.12767400</td><td>1.87957e+00</td><td> 0.0423962</td><td> 0.3732790</td><td> 9.17706000</td><td> 3.6197300</td><td> 0.454305</td><td>5.80874e-02</td><td>15.3991000</td></tr>\n",
       "\t<tr><th scope=row>3</th><td> 0.34006900</td><td> 0.28883800</td><td> 0.25636100</td><td>3.22820e-01</td><td>3.34713e-01</td><td>0.22588300</td><td> 0.34691300</td><td> 0.18297500</td><td> 0.41541800</td><td>3.60793e-01</td><td>⋯</td><td>  0.1314310</td><td> 0.14668400</td><td>8.71124e-02</td><td> 0.1190030</td><td> 0.1064270</td><td> 0.13779800</td><td> 0.1000270</td><td> 0.141129</td><td>1.39910e-01</td><td> 0.1886360</td></tr>\n",
       "\t<tr><th scope=row>4</th><td> 1.39000000</td><td> 0.96247100</td><td> 1.63194000</td><td>1.36572e+00</td><td>1.36228e+00</td><td>1.63308000</td><td> 2.11710000</td><td> 1.63184000</td><td> 1.13027000</td><td>1.32276e+00</td><td>⋯</td><td>  3.6777400</td><td> 3.30177000</td><td>2.49368e+00</td><td> 3.1400700</td><td> 1.7334000</td><td> 2.66997000</td><td> 2.4107300</td><td> 3.006680</td><td>1.25171e+00</td><td> 2.2657800</td></tr>\n",
       "\t<tr><th scope=row>5</th><td> 2.98456000</td><td> 2.07429000</td><td> 2.25722000</td><td>3.13952e+00</td><td>2.91823e+00</td><td>2.15126000</td><td> 2.00166000</td><td> 2.32762000</td><td> 3.63098000</td><td>4.03717e+00</td><td>⋯</td><td>  0.1306350</td><td> 0.08252660</td><td>5.64126e-01</td><td> 0.2389670</td><td> 0.4804310</td><td> 0.45783700</td><td> 0.2255850</td><td> 0.342022</td><td>4.29637e-01</td><td> 0.3567880</td></tr>\n",
       "\t<tr><th scope=row>6</th><td> 0.19226300</td><td> 0.15610400</td><td> 0.11005600</td><td>1.75116e-01</td><td>1.71135e-01</td><td>0.14561400</td><td> 0.17909300</td><td> 0.15131100</td><td> 0.23517800</td><td>1.92875e-01</td><td>⋯</td><td>  0.9259750</td><td> 1.49705000</td><td>1.07655e+00</td><td> 1.3024700</td><td> 0.6612760</td><td> 1.46767000</td><td> 0.9679520</td><td> 1.353980</td><td>1.35424e+00</td><td> 0.8419360</td></tr>\n",
       "\t<tr><th scope=row>7</th><td> 0.16747500</td><td> 0.09853340</td><td> 0.04008030</td><td>3.29839e-01</td><td>6.42644e-02</td><td>0.25559700</td><td> 0.15948100</td><td> 0.07891870</td><td> 0.30552000</td><td>2.85114e-01</td><td>⋯</td><td>  0.2469580</td><td> 0.97840400</td><td>1.05786e-01</td><td> 0.9994720</td><td> 1.0705500</td><td> 1.14918000</td><td> 1.2990400</td><td> 0.308944</td><td>6.54926e-01</td><td> 2.1406800</td></tr>\n",
       "\t<tr><th scope=row>8</th><td> 3.65739000</td><td> 4.91052000</td><td> 4.28169000</td><td>4.67410e+00</td><td>4.13747e+00</td><td>6.80848000</td><td> 3.75598000</td><td> 4.28570000</td><td> 2.52935000</td><td>3.35689e+00</td><td>⋯</td><td>  1.8660600</td><td> 1.10601000</td><td>1.42998e+00</td><td> 2.0936800</td><td> 1.8374700</td><td> 1.77327000</td><td> 1.0125400</td><td> 1.614590</td><td>1.91275e+00</td><td> 2.2079100</td></tr>\n",
       "\t<tr><th scope=row>9</th><td> 0.86743700</td><td> 1.53308000</td><td> 1.05564000</td><td>1.28882e+00</td><td>4.89657e-01</td><td>0.87900000</td><td> 0.52284100</td><td> 1.00150000</td><td> 0.85412800</td><td>1.18050e+00</td><td>⋯</td><td>  0.6879110</td><td> 0.85536200</td><td>9.86906e-01</td><td> 1.0916500</td><td> 0.4470510</td><td> 1.44719000</td><td> 1.5025100</td><td> 0.323291</td><td>1.47856e+00</td><td> 1.7211300</td></tr>\n",
       "\t<tr><th scope=row>10</th><td> 1.57821000</td><td> 2.45967000</td><td> 0.88369500</td><td>2.37624e+00</td><td>3.52726e+00</td><td>1.31940000</td><td> 3.87702000</td><td> 3.42062000</td><td> 4.04848000</td><td>3.64190e+00</td><td>⋯</td><td>  0.1048510</td><td> 0.28724600</td><td>1.68938e-01</td><td> 0.1741080</td><td> 0.1509510</td><td> 0.16482600</td><td> 0.1707520</td><td> 0.108523</td><td>1.78860e-01</td><td> 0.1309900</td></tr>\n",
       "\t<tr><th scope=row>11</th><td> 0.90746900</td><td> 0.86945100</td><td> 1.30502000</td><td>1.17898e+00</td><td>9.97727e-01</td><td>0.96287300</td><td> 0.41493400</td><td> 0.90438000</td><td> 0.79453500</td><td>1.24880e+00</td><td>⋯</td><td>  2.0813600</td><td> 3.95326000</td><td>3.54659e+00</td><td> 3.1074900</td><td> 4.0696700</td><td> 3.05116000</td><td> 2.9562400</td><td> 2.289290</td><td>3.21602e+00</td><td> 2.1492800</td></tr>\n",
       "\t<tr><th scope=row>12</th><td> 0.12344800</td><td> 0.13721700</td><td> 0.24423000</td><td>1.73090e-01</td><td>3.28162e-01</td><td>0.21605700</td><td> 0.13289100</td><td> 0.24897800</td><td> 0.33110000</td><td>1.80357e-01</td><td>⋯</td><td>  0.3256580</td><td> 0.32203800</td><td>1.02815e-01</td><td> 0.2746190</td><td> 0.1997910</td><td> 0.19725500</td><td> 0.1854330</td><td> 0.506044</td><td>4.38802e-01</td><td> 0.5738080</td></tr>\n",
       "\t<tr><th scope=row>13</th><td> 0.57030800</td><td> 1.71434000</td><td> 5.03837000</td><td>2.89482e-01</td><td>1.92912e+00</td><td>4.55573000</td><td> 2.85375000</td><td> 2.22881000</td><td> 0.88192900</td><td>2.10172e+00</td><td>⋯</td><td>  0.5639360</td><td> 0.60057200</td><td>7.50235e-01</td><td> 0.5418490</td><td> 0.1399810</td><td> 0.41654600</td><td> 0.4410090</td><td> 0.116216</td><td>5.23768e-01</td><td> 0.4158720</td></tr>\n",
       "\t<tr><th scope=row>14</th><td> 0.90099600</td><td> 0.70633400</td><td> 0.63502000</td><td>8.41589e-01</td><td>5.70077e-01</td><td>0.73457500</td><td> 1.40346000</td><td> 1.03305000</td><td> 0.95126600</td><td>1.10193e+00</td><td>⋯</td><td>  3.2098500</td><td> 1.76117000</td><td>1.44287e+00</td><td> 3.1764800</td><td> 4.0181900</td><td> 2.94075000</td><td> 3.2451700</td><td> 3.373690</td><td>3.24430e+00</td><td> 4.8806000</td></tr>\n",
       "\t<tr><th scope=row>15</th><td> 1.49047000</td><td> 1.35230000</td><td> 1.40312000</td><td>1.31656e+00</td><td>1.16107e+00</td><td>1.47083000</td><td> 1.36843000</td><td> 1.53940000</td><td> 1.21628000</td><td>6.72066e-01</td><td>⋯</td><td> 15.6280000</td><td>11.35070000</td><td>9.12072e+00</td><td>14.2686000</td><td>11.8858000</td><td>12.87230000</td><td>14.3841000</td><td>11.211900</td><td>1.31310e+01</td><td>14.4648000</td></tr>\n",
       "\t<tr><th scope=row>16</th><td> 0.32962200</td><td> 0.58551700</td><td> 0.52973300</td><td>3.27369e-01</td><td>9.74404e-01</td><td>1.05964000</td><td> 1.04742000</td><td> 0.88473200</td><td> 0.72512300</td><td>3.49919e-01</td><td>⋯</td><td>  0.0783703</td><td> 0.02789640</td><td>5.35906e-02</td><td> 0.0702662</td><td> 0.0644822</td><td> 0.10163400</td><td> 0.0318218</td><td> 0.137205</td><td>5.24307e-02</td><td> 0.0340901</td></tr>\n",
       "\t<tr><th scope=row>17</th><td> 1.47789000</td><td> 1.11830000</td><td> 1.14426000</td><td>1.21896e+00</td><td>1.28724e+00</td><td>1.23628000</td><td> 1.17065000</td><td> 1.13013000</td><td> 1.41615000</td><td>1.50638e+00</td><td>⋯</td><td>  1.8039900</td><td> 1.84125000</td><td>1.89411e+00</td><td> 1.7021400</td><td> 1.4573900</td><td> 1.81036000</td><td> 1.6443200</td><td> 1.931900</td><td>1.88831e+00</td><td> 1.5126500</td></tr>\n",
       "\t<tr><th scope=row>18</th><td> 0.18553800</td><td> 0.25751200</td><td> 0.13657600</td><td>1.61165e-01</td><td>1.39285e-01</td><td>0.12009400</td><td> 0.26689500</td><td> 0.09097630</td><td> 0.08188550</td><td>8.67110e-02</td><td>⋯</td><td>  1.0612300</td><td> 2.90420000</td><td>1.64754e+00</td><td> 1.4256700</td><td> 2.1748000</td><td> 0.87779800</td><td> 0.8194510</td><td> 1.493990</td><td>9.54587e-01</td><td> 0.4138000</td></tr>\n",
       "\t<tr><th scope=row>19</th><td> 1.17970000</td><td> 0.79112700</td><td> 0.89600400</td><td>9.79551e-01</td><td>9.06453e-01</td><td>1.03260000</td><td> 0.77256000</td><td> 0.44265000</td><td> 0.53102100</td><td>4.36806e-01</td><td>⋯</td><td>  0.2136480</td><td> 0.30925100</td><td>4.13646e-01</td><td> 0.3879600</td><td> 0.4509610</td><td> 0.30534100</td><td> 0.3397260</td><td> 0.388557</td><td>3.70751e-01</td><td> 0.2693070</td></tr>\n",
       "\t<tr><th scope=row>20</th><td>14.21010000</td><td>10.96540000</td><td> 9.46769000</td><td>5.39912e+00</td><td>1.14645e+01</td><td>7.03737000</td><td>12.45500000</td><td> 9.45810000</td><td>19.62980000</td><td>1.57996e+01</td><td>⋯</td><td>  0.6515460</td><td> 0.88456300</td><td>1.12310e+00</td><td> 1.1685400</td><td> 1.0441900</td><td> 0.34193100</td><td> 0.6792710</td><td> 0.505460</td><td>1.12443e+00</td><td> 0.6935040</td></tr>\n",
       "\t<tr><th scope=row>21</th><td> 0.00843940</td><td> 0.00126021</td><td> 0.00315423</td><td>3.89929e-02</td><td>5.13424e-03</td><td>0.00393671</td><td> 0.00660063</td><td> 0.00702821</td><td> 0.01672000</td><td>1.39785e-02</td><td>⋯</td><td>  0.5773000</td><td> 0.04989850</td><td>1.23983e+00</td><td> 0.2608320</td><td> 0.4783150</td><td> 0.02130410</td><td> 0.4280000</td><td> 0.237252</td><td>3.73180e-01</td><td> 0.4678830</td></tr>\n",
       "\t<tr><th scope=row>22</th><td> 6.79544000</td><td> 6.10442000</td><td> 6.30269000</td><td>7.64363e+00</td><td>5.87168e+00</td><td>4.45512000</td><td> 6.86981000</td><td> 6.07669000</td><td> 4.73871000</td><td>2.41510e+00</td><td>⋯</td><td>  0.7547230</td><td> 0.55933200</td><td>3.53037e-01</td><td> 0.9790560</td><td> 0.3007430</td><td> 0.55631200</td><td> 0.7223010</td><td> 0.578047</td><td>6.53827e-01</td><td> 0.9143990</td></tr>\n",
       "\t<tr><th scope=row>23</th><td> 0.11972200</td><td> 0.11264500</td><td> 0.16373300</td><td>1.33500e-01</td><td>1.23426e-01</td><td>0.15670100</td><td> 0.08094840</td><td> 0.14045900</td><td> 0.12426800</td><td>7.10326e-02</td><td>⋯</td><td>  0.3547510</td><td> 0.45012200</td><td>3.90401e-01</td><td> 0.4142090</td><td> 0.3546340</td><td> 0.36489700</td><td> 0.3049830</td><td> 0.412995</td><td>4.30317e-01</td><td> 0.4157510</td></tr>\n",
       "\t<tr><th scope=row>24</th><td> 0.10830000</td><td> 0.15232400</td><td> 0.17939400</td><td>7.34550e-02</td><td>1.18754e-01</td><td>0.18930300</td><td> 0.07331720</td><td> 0.09175590</td><td> 0.05560400</td><td>5.10613e-02</td><td>⋯</td><td>  0.0459195</td><td> 0.08509270</td><td>1.96832e-02</td><td> 0.0442028</td><td> 0.0460000</td><td> 0.05153770</td><td> 0.0377016</td><td> 0.046119</td><td>3.63042e-02</td><td> 0.0424339</td></tr>\n",
       "\t<tr><th scope=row>25</th><td> 1.16340000</td><td>72.21030000</td><td> 0.10445100</td><td>3.17358e+00</td><td>8.30528e+00</td><td>0.07869010</td><td> 1.19639000</td><td> 4.89765000</td><td> 5.93577000</td><td>1.08960e-02</td><td>⋯</td><td>154.5350000</td><td> 8.21345000</td><td>1.42482e+02</td><td>26.5227000</td><td> 5.2500300</td><td> 0.00177695</td><td>18.2586000</td><td>21.621300</td><td>9.59951e+00</td><td>44.6577000</td></tr>\n",
       "\t<tr><th scope=row>26</th><td> 5.79574000</td><td> 0.84916900</td><td> 5.86303000</td><td>2.62896e-05</td><td>1.89478e-05</td><td>0.06265220</td><td> 0.11688800</td><td>15.68030000</td><td> 0.00820831</td><td>5.03976e+01</td><td>⋯</td><td>  0.0560299</td><td> 0.00862782</td><td>1.42254e-05</td><td> 4.8744400</td><td> 0.1069750</td><td>69.93440000</td><td> 0.3714210</td><td>19.393600</td><td>1.81460e-05</td><td> 0.0136089</td></tr>\n",
       "\t<tr><th scope=row>27</th><td> 2.55192000</td><td> 3.38961000</td><td> 2.50133000</td><td>2.74472e+00</td><td>1.35109e+00</td><td>1.94079000</td><td> 2.35750000</td><td> 0.96683700</td><td> 7.56316000</td><td>7.99210e-01</td><td>⋯</td><td>  9.3239700</td><td> 3.71146000</td><td>3.51877e+00</td><td> 6.2783400</td><td> 4.5389700</td><td> 2.02654000</td><td> 5.4193100</td><td> 3.409420</td><td>8.72475e+00</td><td>10.3600000</td></tr>\n",
       "\t<tr><th scope=row>28</th><td> 5.11077000</td><td> 6.60302000</td><td> 7.61774000</td><td>4.69429e+00</td><td>5.44028e+00</td><td>7.14518000</td><td> 3.90706000</td><td> 5.78582000</td><td> 4.04194000</td><td>3.93753e+00</td><td>⋯</td><td>  0.8477330</td><td> 0.81861900</td><td>6.97920e-01</td><td> 0.6701220</td><td> 0.8197810</td><td> 0.77539500</td><td> 0.5974890</td><td> 0.667676</td><td>7.09676e-01</td><td> 0.7708010</td></tr>\n",
       "\t<tr><th scope=row>29</th><td> 0.00865507</td><td> 0.02475970</td><td> 0.05146630</td><td>4.36898e-02</td><td>2.99712e-02</td><td>0.00616587</td><td> 0.00108490</td><td> 0.00662760</td><td> 0.00454882</td><td>6.23156e-04</td><td>⋯</td><td>  0.3800280</td><td> 0.23672400</td><td>2.94568e-02</td><td> 0.0733895</td><td> 1.2231600</td><td> 0.17644100</td><td> 0.0641566</td><td> 0.248172</td><td>5.86237e-01</td><td> 0.0958958</td></tr>\n",
       "\t<tr><th scope=row>30</th><td> 3.92258000</td><td> 5.22776000</td><td> 5.88383000</td><td>4.25505e+00</td><td>4.19234e+00</td><td>6.70750000</td><td> 3.42970000</td><td> 4.94331000</td><td> 3.15085000</td><td>2.48598e+00</td><td>⋯</td><td>  9.8170900</td><td>18.73900000</td><td>1.20863e+01</td><td>11.3349000</td><td>12.0752000</td><td>11.21490000</td><td>11.0724000</td><td>12.363300</td><td>6.91227e+00</td><td> 9.9567600</td></tr>\n",
       "\t<tr><th scope=row>⋮</th><td>⋮</td><td>⋮</td><td>⋮</td><td>⋮</td><td>⋮</td><td>⋮</td><td>⋮</td><td>⋮</td><td>⋮</td><td>⋮</td><td>⋱</td><td>⋮</td><td>⋮</td><td>⋮</td><td>⋮</td><td>⋮</td><td>⋮</td><td>⋮</td><td>⋮</td><td>⋮</td><td>⋮</td></tr>\n",
       "\t<tr><th scope=row>3971</th><td> 0.5389370</td><td> 0.2942920</td><td> 0.5237360</td><td> 0.3571220</td><td> 0.3670240</td><td> 0.3134740</td><td> 0.3804330</td><td> 0.3782080</td><td> 0.3425740</td><td>  0.3553370</td><td>⋯</td><td> 0.4179040</td><td> 0.8982160</td><td> 0.73803000</td><td> 0.44952200</td><td> 0.5428810</td><td> 0.3465310</td><td> 0.6208480</td><td>0.5403960</td><td> 0.7087280</td><td>0.32456000</td></tr>\n",
       "\t<tr><th scope=row>3972</th><td> 8.4870100</td><td> 9.7855200</td><td> 7.0446200</td><td>14.2932000</td><td> 6.2139700</td><td> 7.3005400</td><td> 6.1529500</td><td> 9.9496200</td><td> 5.8573400</td><td>  6.3775100</td><td>⋯</td><td> 1.8183800</td><td> 1.2769000</td><td> 0.79464200</td><td> 1.69507000</td><td> 1.0034600</td><td> 2.2204900</td><td> 2.3975400</td><td>2.0871800</td><td> 3.1035200</td><td>2.33993000</td></tr>\n",
       "\t<tr><th scope=row>3973</th><td> 0.1078100</td><td> 0.0547506</td><td> 0.0573760</td><td> 0.1274770</td><td> 0.0943878</td><td> 0.1052350</td><td> 0.0739555</td><td> 0.0684872</td><td> 0.0827165</td><td>  0.0761512</td><td>⋯</td><td> 0.4389990</td><td> 0.5667440</td><td> 0.34630800</td><td> 0.38473300</td><td> 0.2808150</td><td> 0.4998060</td><td> 0.4578520</td><td>0.3426330</td><td> 0.3624220</td><td>0.53805000</td></tr>\n",
       "\t<tr><th scope=row>3974</th><td> 0.0737231</td><td> 0.0707713</td><td> 0.0829591</td><td> 0.0489803</td><td> 0.0488692</td><td> 0.0854520</td><td> 0.0733102</td><td> 0.0477580</td><td> 0.0961911</td><td>  0.0695935</td><td>⋯</td><td> 0.0845330</td><td> 0.0486858</td><td> 0.05196350</td><td> 0.07403930</td><td> 0.0679313</td><td> 0.0611307</td><td> 0.0704399</td><td>0.0570832</td><td> 0.0469378</td><td>0.07566700</td></tr>\n",
       "\t<tr><th scope=row>3975</th><td> 5.3027300</td><td>16.4007000</td><td>13.0051000</td><td> 8.8661800</td><td> 5.0913300</td><td>22.3397000</td><td> 9.8197700</td><td>11.3697000</td><td>10.7607000</td><td>  9.7330300</td><td>⋯</td><td> 3.2920100</td><td> 1.9209900</td><td> 4.73482000</td><td> 4.27097000</td><td> 2.6933000</td><td> 5.1033800</td><td> 2.2786100</td><td>3.8231000</td><td> 3.6152000</td><td>5.62475000</td></tr>\n",
       "\t<tr><th scope=row>3976</th><td>19.2841000</td><td>13.1956000</td><td>30.0427000</td><td>14.8103000</td><td>24.0527000</td><td>28.0159000</td><td>11.2861000</td><td>18.2526000</td><td>14.7791000</td><td> 17.8634000</td><td>⋯</td><td> 3.2086900</td><td> 3.5103800</td><td> 1.75876000</td><td> 3.29074000</td><td> 1.8971800</td><td> 4.1091700</td><td> 3.5198800</td><td>2.5552300</td><td> 2.4638700</td><td>0.89191300</td></tr>\n",
       "\t<tr><th scope=row>3977</th><td> 0.1379660</td><td> 0.1751930</td><td> 0.2738230</td><td> 0.2318110</td><td> 0.2180460</td><td> 0.2511430</td><td> 0.1274810</td><td> 0.2118770</td><td> 0.0903983</td><td>  0.0743812</td><td>⋯</td><td> 0.4393990</td><td> 0.5068270</td><td> 0.70745300</td><td> 0.83421800</td><td> 0.4479970</td><td> 0.6809450</td><td> 0.3749140</td><td>0.5180170</td><td> 0.1722980</td><td>0.37497000</td></tr>\n",
       "\t<tr><th scope=row>3978</th><td> 2.0745300</td><td> 1.8420900</td><td> 2.8889000</td><td> 1.6550000</td><td> 0.9717750</td><td> 1.2086000</td><td> 5.0596200</td><td> 3.1113000</td><td> 3.3761200</td><td>  5.3936900</td><td>⋯</td><td> 0.5149290</td><td> 0.6982500</td><td> 0.71880100</td><td> 0.85210400</td><td> 0.4718560</td><td> 1.0561300</td><td> 0.9232410</td><td>0.6855390</td><td> 0.4839840</td><td>0.40806200</td></tr>\n",
       "\t<tr><th scope=row>3979</th><td> 0.4443920</td><td> 0.4366210</td><td> 0.7852020</td><td> 0.4768670</td><td> 0.2831950</td><td> 0.8136910</td><td> 0.2505770</td><td> 0.4100870</td><td> 0.2982330</td><td>  0.1921330</td><td>⋯</td><td> 4.6515900</td><td> 2.1898900</td><td> 3.99070000</td><td> 5.15938000</td><td> 3.9491600</td><td> 4.8876700</td><td> 4.4541200</td><td>5.7367900</td><td> 4.3360000</td><td>5.12792000</td></tr>\n",
       "\t<tr><th scope=row>3980</th><td> 1.3087600</td><td> 1.3667300</td><td> 1.2469500</td><td> 0.4308850</td><td> 1.7017900</td><td> 0.6315030</td><td> 7.2010000</td><td> 2.7235800</td><td> 6.0116400</td><td>  6.3773800</td><td>⋯</td><td> 0.5166940</td><td> 1.0552100</td><td> 0.21570000</td><td> 0.79861600</td><td> 0.7422940</td><td> 0.5408110</td><td> 0.2579040</td><td>0.4099100</td><td> 0.3992340</td><td>0.64575100</td></tr>\n",
       "\t<tr><th scope=row>3981</th><td> 2.5679400</td><td> 3.4975500</td><td> 1.8618800</td><td> 2.8173800</td><td> 3.4263100</td><td> 2.7356300</td><td> 2.4334800</td><td> 2.4127900</td><td> 3.7465200</td><td>  3.1591800</td><td>⋯</td><td> 1.4395200</td><td> 2.5385800</td><td> 1.81098000</td><td> 0.92666400</td><td> 1.8306200</td><td> 1.2489100</td><td> 1.8487900</td><td>1.2424500</td><td> 1.9876700</td><td>1.58214000</td></tr>\n",
       "\t<tr><th scope=row>3982</th><td> 5.3007500</td><td> 7.4654300</td><td> 5.2752800</td><td> 7.7313300</td><td> 6.1037800</td><td> 7.8786900</td><td>11.7702000</td><td> 7.2962000</td><td>11.0145000</td><td> 13.8529000</td><td>⋯</td><td> 3.1889600</td><td> 4.2805300</td><td> 2.31819000</td><td> 2.51608000</td><td> 2.4207800</td><td> 2.4745600</td><td> 1.9076700</td><td>2.7956500</td><td> 2.3165100</td><td>2.03920000</td></tr>\n",
       "\t<tr><th scope=row>3983</th><td> 0.1455270</td><td> 0.3098110</td><td> 0.2398650</td><td> 0.2894940</td><td> 0.1493370</td><td> 0.1297110</td><td> 0.0362153</td><td> 0.2454450</td><td> 0.1395500</td><td>  0.0741855</td><td>⋯</td><td> 0.5016060</td><td> 0.0857757</td><td> 0.44484600</td><td> 0.62930100</td><td> 0.4469300</td><td> 0.3167670</td><td> 0.1305520</td><td>0.4861380</td><td> 0.5209710</td><td>0.58888600</td></tr>\n",
       "\t<tr><th scope=row>3984</th><td> 0.9934840</td><td> 2.0629800</td><td> 1.4201700</td><td> 3.2520100</td><td> 4.6230100</td><td> 0.7400480</td><td> 1.9647100</td><td> 1.0354800</td><td> 3.3057000</td><td>  2.5087200</td><td>⋯</td><td> 0.4531440</td><td> 0.2882830</td><td> 0.26071600</td><td> 0.93262400</td><td> 0.4569190</td><td> 0.2527450</td><td> 1.3534600</td><td>0.9009460</td><td> 0.1999220</td><td>0.13745700</td></tr>\n",
       "\t<tr><th scope=row>3985</th><td> 4.2554000</td><td>25.2991000</td><td>18.2105000</td><td> 2.0523000</td><td>26.8549000</td><td> 9.4388800</td><td>12.8681000</td><td> 3.7966300</td><td> 9.9106100</td><td>155.3580000</td><td>⋯</td><td> 2.8435800</td><td> 1.6101800</td><td> 0.71354100</td><td> 1.28941000</td><td> 0.0109910</td><td> 0.3306950</td><td> 0.1074310</td><td>0.9767120</td><td> 0.3974020</td><td>0.09508210</td></tr>\n",
       "\t<tr><th scope=row>3986</th><td> 0.1179330</td><td> 0.1140340</td><td> 0.6040470</td><td> 0.0404460</td><td> 0.3995040</td><td> 0.0227045</td><td> 2.2609600</td><td> 1.1329300</td><td> 0.3578850</td><td>  2.8276600</td><td>⋯</td><td> 0.0614937</td><td> 0.0161173</td><td> 0.01072460</td><td> 0.12423300</td><td> 0.0101474</td><td> 0.0107017</td><td> 0.1199720</td><td>0.7520120</td><td> 0.0153141</td><td>0.03227290</td></tr>\n",
       "\t<tr><th scope=row>3987</th><td> 0.0620445</td><td> 0.2779260</td><td> 0.2635910</td><td> 0.1609560</td><td> 0.4554870</td><td> 0.1951910</td><td> 0.2656880</td><td> 0.2315500</td><td> 0.2445090</td><td>  0.0588480</td><td>⋯</td><td> 0.0277733</td><td> 0.0727268</td><td> 0.00743577</td><td> 0.00334271</td><td> 0.0289149</td><td> 0.0164807</td><td> 0.0265398</td><td>0.0150722</td><td> 0.0133504</td><td>0.00811101</td></tr>\n",
       "\t<tr><th scope=row>3988</th><td> 0.4733800</td><td> 0.3275020</td><td> 0.1662680</td><td> 0.2172000</td><td> 0.3906070</td><td> 0.3328850</td><td> 0.1398020</td><td> 0.2701370</td><td> 0.4470550</td><td>  0.3125050</td><td>⋯</td><td> 2.1023100</td><td> 1.1734300</td><td> 2.16039000</td><td> 1.39788000</td><td> 0.5465640</td><td> 1.3691000</td><td> 0.6442580</td><td>1.2070500</td><td> 2.2993300</td><td>1.32367000</td></tr>\n",
       "\t<tr><th scope=row>3989</th><td> 0.6185700</td><td> 0.4059700</td><td> 0.4334500</td><td> 0.4828850</td><td> 0.7007950</td><td> 0.4434690</td><td> 0.9425630</td><td> 0.5354830</td><td> 0.6450500</td><td>  1.5562400</td><td>⋯</td><td> 0.3637850</td><td> 0.4302560</td><td> 0.40385100</td><td> 0.44757600</td><td> 0.4848020</td><td> 0.4371110</td><td> 0.4603670</td><td>0.4170970</td><td> 0.2470350</td><td>0.33161100</td></tr>\n",
       "\t<tr><th scope=row>3990</th><td> 2.4299900</td><td> 2.7848900</td><td> 2.3903500</td><td> 2.3626100</td><td> 2.1670600</td><td> 2.9493800</td><td> 1.9505300</td><td> 2.8982800</td><td> 2.2268600</td><td>  2.2182400</td><td>⋯</td><td> 0.7888980</td><td> 0.6649390</td><td> 0.79913300</td><td> 0.74046500</td><td> 0.9030050</td><td> 0.8017030</td><td> 0.8691220</td><td>0.7921460</td><td> 0.6791880</td><td>0.91627200</td></tr>\n",
       "\t<tr><th scope=row>3991</th><td> 1.4109200</td><td> 0.8349180</td><td> 4.2422000</td><td> 2.4885000</td><td> 4.1868400</td><td> 2.0928700</td><td> 3.2033800</td><td> 3.4205300</td><td> 2.0139700</td><td>  3.7839300</td><td>⋯</td><td> 0.2478510</td><td> 2.0612000</td><td> 0.95839800</td><td> 0.21227800</td><td> 0.2485310</td><td> 0.7807370</td><td> 0.1902830</td><td>0.6678440</td><td> 0.7847240</td><td>0.73016600</td></tr>\n",
       "\t<tr><th scope=row>3992</th><td> 1.9716100</td><td> 1.3726300</td><td> 0.4175510</td><td> 1.1015200</td><td> 0.6512950</td><td> 0.5357980</td><td> 0.5513140</td><td> 2.5394900</td><td> 0.8817460</td><td>  1.8331900</td><td>⋯</td><td> 1.0457300</td><td> 1.3632100</td><td> 0.33088400</td><td> 0.64653700</td><td> 0.2960600</td><td> 0.6423980</td><td> 0.2248970</td><td>0.1557840</td><td> 0.4387900</td><td>0.14299500</td></tr>\n",
       "\t<tr><th scope=row>3993</th><td> 0.6050450</td><td> 0.8857510</td><td> 0.9381000</td><td> 0.4710560</td><td> 0.6214250</td><td> 1.3055600</td><td> 0.3181080</td><td> 0.7621650</td><td> 0.4504600</td><td>  0.4689910</td><td>⋯</td><td> 0.0283788</td><td> 0.0305743</td><td> 0.03390660</td><td> 0.07148670</td><td> 0.0718073</td><td> 0.0798895</td><td> 0.0403967</td><td>0.0760493</td><td> 0.0308786</td><td>0.07324230</td></tr>\n",
       "\t<tr><th scope=row>3994</th><td> 4.6802200</td><td> 4.5480100</td><td> 7.8153300</td><td> 1.1742600</td><td> 4.7997200</td><td> 4.1556900</td><td> 1.6673600</td><td> 4.4939000</td><td> 1.6400100</td><td>  0.7143000</td><td>⋯</td><td>14.4880000</td><td>14.7524000</td><td>21.13380000</td><td>21.49440000</td><td>24.9582000</td><td>17.3198000</td><td>24.0736000</td><td>7.3894500</td><td>12.3544000</td><td>3.10993000</td></tr>\n",
       "\t<tr><th scope=row>3995</th><td> 3.6981400</td><td> 3.8847400</td><td> 3.2826800</td><td> 4.1363400</td><td> 4.8142100</td><td> 4.2696000</td><td> 3.3409500</td><td> 2.9594600</td><td> 3.9219000</td><td>  3.5309900</td><td>⋯</td><td> 6.8726100</td><td> 9.7798200</td><td> 7.12369000</td><td> 5.81963000</td><td> 6.4027500</td><td> 4.8978100</td><td> 6.8982300</td><td>6.3879000</td><td> 6.1980100</td><td>5.40698000</td></tr>\n",
       "\t<tr><th scope=row>3996</th><td> 0.4633390</td><td> 0.3524840</td><td> 0.4773230</td><td> 0.1600940</td><td> 0.2994970</td><td> 0.4805710</td><td> 0.2163350</td><td> 0.6457580</td><td> 0.4487720</td><td>  0.5514520</td><td>⋯</td><td> 0.2715730</td><td> 0.0856019</td><td> 0.15783500</td><td> 0.09399500</td><td> 0.1853990</td><td> 0.1262520</td><td> 0.2229780</td><td>0.2777800</td><td> 0.0688352</td><td>0.20460200</td></tr>\n",
       "\t<tr><th scope=row>3997</th><td> 1.6739000</td><td> 1.7492000</td><td> 1.4745000</td><td> 1.3224800</td><td> 2.0095900</td><td> 1.6306400</td><td> 1.7915100</td><td> 1.7221100</td><td> 1.4515900</td><td>  1.6876800</td><td>⋯</td><td> 5.4966400</td><td> 8.3775500</td><td> 8.29606000</td><td> 2.98947000</td><td> 7.2285700</td><td> 3.1153700</td><td>11.3776000</td><td>5.0364900</td><td> 8.4735100</td><td>5.46782000</td></tr>\n",
       "\t<tr><th scope=row>3998</th><td> 0.0739456</td><td> 0.0989574</td><td> 0.0606626</td><td> 0.0767330</td><td> 0.0631294</td><td> 0.0521663</td><td> 0.0483369</td><td> 0.0715703</td><td> 0.0449360</td><td>  0.0586531</td><td>⋯</td><td> 0.1842700</td><td> 0.0856482</td><td> 0.21692100</td><td> 0.17393400</td><td> 0.2150240</td><td> 0.1226320</td><td> 0.1307510</td><td>0.1274870</td><td> 0.1907590</td><td>0.11896400</td></tr>\n",
       "\t<tr><th scope=row>3999</th><td> 5.7029700</td><td> 9.0977000</td><td> 7.1298400</td><td>10.8015000</td><td>10.8343000</td><td> 3.4378400</td><td> 6.6393100</td><td>13.8113000</td><td>10.1064000</td><td>  3.1217300</td><td>⋯</td><td> 5.7963900</td><td> 5.9089900</td><td> 1.97878000</td><td> 4.81328000</td><td> 4.0168700</td><td> 5.4371200</td><td> 4.1900000</td><td>4.2891600</td><td> 3.1771600</td><td>4.93624000</td></tr>\n",
       "\t<tr><th scope=row>4000</th><td> 0.2115450</td><td> 0.2439300</td><td> 0.3500250</td><td> 0.2514480</td><td> 0.1075150</td><td> 0.2677960</td><td> 0.1091410</td><td> 0.3396030</td><td> 0.3304750</td><td>  0.2728110</td><td>⋯</td><td> 2.7190000</td><td> 1.9152400</td><td> 1.96288000</td><td> 1.36328000</td><td> 2.4062200</td><td> 4.7071400</td><td> 2.0743900</td><td>3.3214000</td><td> 3.6575400</td><td>5.00329000</td></tr>\n",
       "</tbody>\n",
       "</table>\n"
      ],
      "text/latex": [
       "A matrix: 4000 × 150 of type dbl\n",
       "\\begin{tabular}{r|lllllllllllllllllllll}\n",
       "\t1 &  0.36629600 &  0.32035600 &  0.32147100 & 3.60960e-01 & 3.56925e-01 & 0.22726200 &  0.40025000 &  0.35983000 &  0.34334500 & 4.11151e-01 & ⋯ &   0.1191490 &  0.17005300 & 7.49095e-02 &  0.1261430 &  0.1378540 &  0.08651550 &  0.1271200 &  0.165835 & 1.44682e-01 &  0.1410110\\\\\n",
       "\t2 &  0.15328500 & 30.08620000 & 12.99280000 & 2.10500e+00 & 1.89803e-01 & 0.97033300 &  0.31472400 &  0.12487300 &  0.98323100 & 9.51927e+00 & ⋯ &   1.3482700 &  0.12767400 & 1.87957e+00 &  0.0423962 &  0.3732790 &  9.17706000 &  3.6197300 &  0.454305 & 5.80874e-02 & 15.3991000\\\\\n",
       "\t3 &  0.34006900 &  0.28883800 &  0.25636100 & 3.22820e-01 & 3.34713e-01 & 0.22588300 &  0.34691300 &  0.18297500 &  0.41541800 & 3.60793e-01 & ⋯ &   0.1314310 &  0.14668400 & 8.71124e-02 &  0.1190030 &  0.1064270 &  0.13779800 &  0.1000270 &  0.141129 & 1.39910e-01 &  0.1886360\\\\\n",
       "\t4 &  1.39000000 &  0.96247100 &  1.63194000 & 1.36572e+00 & 1.36228e+00 & 1.63308000 &  2.11710000 &  1.63184000 &  1.13027000 & 1.32276e+00 & ⋯ &   3.6777400 &  3.30177000 & 2.49368e+00 &  3.1400700 &  1.7334000 &  2.66997000 &  2.4107300 &  3.006680 & 1.25171e+00 &  2.2657800\\\\\n",
       "\t5 &  2.98456000 &  2.07429000 &  2.25722000 & 3.13952e+00 & 2.91823e+00 & 2.15126000 &  2.00166000 &  2.32762000 &  3.63098000 & 4.03717e+00 & ⋯ &   0.1306350 &  0.08252660 & 5.64126e-01 &  0.2389670 &  0.4804310 &  0.45783700 &  0.2255850 &  0.342022 & 4.29637e-01 &  0.3567880\\\\\n",
       "\t6 &  0.19226300 &  0.15610400 &  0.11005600 & 1.75116e-01 & 1.71135e-01 & 0.14561400 &  0.17909300 &  0.15131100 &  0.23517800 & 1.92875e-01 & ⋯ &   0.9259750 &  1.49705000 & 1.07655e+00 &  1.3024700 &  0.6612760 &  1.46767000 &  0.9679520 &  1.353980 & 1.35424e+00 &  0.8419360\\\\\n",
       "\t7 &  0.16747500 &  0.09853340 &  0.04008030 & 3.29839e-01 & 6.42644e-02 & 0.25559700 &  0.15948100 &  0.07891870 &  0.30552000 & 2.85114e-01 & ⋯ &   0.2469580 &  0.97840400 & 1.05786e-01 &  0.9994720 &  1.0705500 &  1.14918000 &  1.2990400 &  0.308944 & 6.54926e-01 &  2.1406800\\\\\n",
       "\t8 &  3.65739000 &  4.91052000 &  4.28169000 & 4.67410e+00 & 4.13747e+00 & 6.80848000 &  3.75598000 &  4.28570000 &  2.52935000 & 3.35689e+00 & ⋯ &   1.8660600 &  1.10601000 & 1.42998e+00 &  2.0936800 &  1.8374700 &  1.77327000 &  1.0125400 &  1.614590 & 1.91275e+00 &  2.2079100\\\\\n",
       "\t9 &  0.86743700 &  1.53308000 &  1.05564000 & 1.28882e+00 & 4.89657e-01 & 0.87900000 &  0.52284100 &  1.00150000 &  0.85412800 & 1.18050e+00 & ⋯ &   0.6879110 &  0.85536200 & 9.86906e-01 &  1.0916500 &  0.4470510 &  1.44719000 &  1.5025100 &  0.323291 & 1.47856e+00 &  1.7211300\\\\\n",
       "\t10 &  1.57821000 &  2.45967000 &  0.88369500 & 2.37624e+00 & 3.52726e+00 & 1.31940000 &  3.87702000 &  3.42062000 &  4.04848000 & 3.64190e+00 & ⋯ &   0.1048510 &  0.28724600 & 1.68938e-01 &  0.1741080 &  0.1509510 &  0.16482600 &  0.1707520 &  0.108523 & 1.78860e-01 &  0.1309900\\\\\n",
       "\t11 &  0.90746900 &  0.86945100 &  1.30502000 & 1.17898e+00 & 9.97727e-01 & 0.96287300 &  0.41493400 &  0.90438000 &  0.79453500 & 1.24880e+00 & ⋯ &   2.0813600 &  3.95326000 & 3.54659e+00 &  3.1074900 &  4.0696700 &  3.05116000 &  2.9562400 &  2.289290 & 3.21602e+00 &  2.1492800\\\\\n",
       "\t12 &  0.12344800 &  0.13721700 &  0.24423000 & 1.73090e-01 & 3.28162e-01 & 0.21605700 &  0.13289100 &  0.24897800 &  0.33110000 & 1.80357e-01 & ⋯ &   0.3256580 &  0.32203800 & 1.02815e-01 &  0.2746190 &  0.1997910 &  0.19725500 &  0.1854330 &  0.506044 & 4.38802e-01 &  0.5738080\\\\\n",
       "\t13 &  0.57030800 &  1.71434000 &  5.03837000 & 2.89482e-01 & 1.92912e+00 & 4.55573000 &  2.85375000 &  2.22881000 &  0.88192900 & 2.10172e+00 & ⋯ &   0.5639360 &  0.60057200 & 7.50235e-01 &  0.5418490 &  0.1399810 &  0.41654600 &  0.4410090 &  0.116216 & 5.23768e-01 &  0.4158720\\\\\n",
       "\t14 &  0.90099600 &  0.70633400 &  0.63502000 & 8.41589e-01 & 5.70077e-01 & 0.73457500 &  1.40346000 &  1.03305000 &  0.95126600 & 1.10193e+00 & ⋯ &   3.2098500 &  1.76117000 & 1.44287e+00 &  3.1764800 &  4.0181900 &  2.94075000 &  3.2451700 &  3.373690 & 3.24430e+00 &  4.8806000\\\\\n",
       "\t15 &  1.49047000 &  1.35230000 &  1.40312000 & 1.31656e+00 & 1.16107e+00 & 1.47083000 &  1.36843000 &  1.53940000 &  1.21628000 & 6.72066e-01 & ⋯ &  15.6280000 & 11.35070000 & 9.12072e+00 & 14.2686000 & 11.8858000 & 12.87230000 & 14.3841000 & 11.211900 & 1.31310e+01 & 14.4648000\\\\\n",
       "\t16 &  0.32962200 &  0.58551700 &  0.52973300 & 3.27369e-01 & 9.74404e-01 & 1.05964000 &  1.04742000 &  0.88473200 &  0.72512300 & 3.49919e-01 & ⋯ &   0.0783703 &  0.02789640 & 5.35906e-02 &  0.0702662 &  0.0644822 &  0.10163400 &  0.0318218 &  0.137205 & 5.24307e-02 &  0.0340901\\\\\n",
       "\t17 &  1.47789000 &  1.11830000 &  1.14426000 & 1.21896e+00 & 1.28724e+00 & 1.23628000 &  1.17065000 &  1.13013000 &  1.41615000 & 1.50638e+00 & ⋯ &   1.8039900 &  1.84125000 & 1.89411e+00 &  1.7021400 &  1.4573900 &  1.81036000 &  1.6443200 &  1.931900 & 1.88831e+00 &  1.5126500\\\\\n",
       "\t18 &  0.18553800 &  0.25751200 &  0.13657600 & 1.61165e-01 & 1.39285e-01 & 0.12009400 &  0.26689500 &  0.09097630 &  0.08188550 & 8.67110e-02 & ⋯ &   1.0612300 &  2.90420000 & 1.64754e+00 &  1.4256700 &  2.1748000 &  0.87779800 &  0.8194510 &  1.493990 & 9.54587e-01 &  0.4138000\\\\\n",
       "\t19 &  1.17970000 &  0.79112700 &  0.89600400 & 9.79551e-01 & 9.06453e-01 & 1.03260000 &  0.77256000 &  0.44265000 &  0.53102100 & 4.36806e-01 & ⋯ &   0.2136480 &  0.30925100 & 4.13646e-01 &  0.3879600 &  0.4509610 &  0.30534100 &  0.3397260 &  0.388557 & 3.70751e-01 &  0.2693070\\\\\n",
       "\t20 & 14.21010000 & 10.96540000 &  9.46769000 & 5.39912e+00 & 1.14645e+01 & 7.03737000 & 12.45500000 &  9.45810000 & 19.62980000 & 1.57996e+01 & ⋯ &   0.6515460 &  0.88456300 & 1.12310e+00 &  1.1685400 &  1.0441900 &  0.34193100 &  0.6792710 &  0.505460 & 1.12443e+00 &  0.6935040\\\\\n",
       "\t21 &  0.00843940 &  0.00126021 &  0.00315423 & 3.89929e-02 & 5.13424e-03 & 0.00393671 &  0.00660063 &  0.00702821 &  0.01672000 & 1.39785e-02 & ⋯ &   0.5773000 &  0.04989850 & 1.23983e+00 &  0.2608320 &  0.4783150 &  0.02130410 &  0.4280000 &  0.237252 & 3.73180e-01 &  0.4678830\\\\\n",
       "\t22 &  6.79544000 &  6.10442000 &  6.30269000 & 7.64363e+00 & 5.87168e+00 & 4.45512000 &  6.86981000 &  6.07669000 &  4.73871000 & 2.41510e+00 & ⋯ &   0.7547230 &  0.55933200 & 3.53037e-01 &  0.9790560 &  0.3007430 &  0.55631200 &  0.7223010 &  0.578047 & 6.53827e-01 &  0.9143990\\\\\n",
       "\t23 &  0.11972200 &  0.11264500 &  0.16373300 & 1.33500e-01 & 1.23426e-01 & 0.15670100 &  0.08094840 &  0.14045900 &  0.12426800 & 7.10326e-02 & ⋯ &   0.3547510 &  0.45012200 & 3.90401e-01 &  0.4142090 &  0.3546340 &  0.36489700 &  0.3049830 &  0.412995 & 4.30317e-01 &  0.4157510\\\\\n",
       "\t24 &  0.10830000 &  0.15232400 &  0.17939400 & 7.34550e-02 & 1.18754e-01 & 0.18930300 &  0.07331720 &  0.09175590 &  0.05560400 & 5.10613e-02 & ⋯ &   0.0459195 &  0.08509270 & 1.96832e-02 &  0.0442028 &  0.0460000 &  0.05153770 &  0.0377016 &  0.046119 & 3.63042e-02 &  0.0424339\\\\\n",
       "\t25 &  1.16340000 & 72.21030000 &  0.10445100 & 3.17358e+00 & 8.30528e+00 & 0.07869010 &  1.19639000 &  4.89765000 &  5.93577000 & 1.08960e-02 & ⋯ & 154.5350000 &  8.21345000 & 1.42482e+02 & 26.5227000 &  5.2500300 &  0.00177695 & 18.2586000 & 21.621300 & 9.59951e+00 & 44.6577000\\\\\n",
       "\t26 &  5.79574000 &  0.84916900 &  5.86303000 & 2.62896e-05 & 1.89478e-05 & 0.06265220 &  0.11688800 & 15.68030000 &  0.00820831 & 5.03976e+01 & ⋯ &   0.0560299 &  0.00862782 & 1.42254e-05 &  4.8744400 &  0.1069750 & 69.93440000 &  0.3714210 & 19.393600 & 1.81460e-05 &  0.0136089\\\\\n",
       "\t27 &  2.55192000 &  3.38961000 &  2.50133000 & 2.74472e+00 & 1.35109e+00 & 1.94079000 &  2.35750000 &  0.96683700 &  7.56316000 & 7.99210e-01 & ⋯ &   9.3239700 &  3.71146000 & 3.51877e+00 &  6.2783400 &  4.5389700 &  2.02654000 &  5.4193100 &  3.409420 & 8.72475e+00 & 10.3600000\\\\\n",
       "\t28 &  5.11077000 &  6.60302000 &  7.61774000 & 4.69429e+00 & 5.44028e+00 & 7.14518000 &  3.90706000 &  5.78582000 &  4.04194000 & 3.93753e+00 & ⋯ &   0.8477330 &  0.81861900 & 6.97920e-01 &  0.6701220 &  0.8197810 &  0.77539500 &  0.5974890 &  0.667676 & 7.09676e-01 &  0.7708010\\\\\n",
       "\t29 &  0.00865507 &  0.02475970 &  0.05146630 & 4.36898e-02 & 2.99712e-02 & 0.00616587 &  0.00108490 &  0.00662760 &  0.00454882 & 6.23156e-04 & ⋯ &   0.3800280 &  0.23672400 & 2.94568e-02 &  0.0733895 &  1.2231600 &  0.17644100 &  0.0641566 &  0.248172 & 5.86237e-01 &  0.0958958\\\\\n",
       "\t30 &  3.92258000 &  5.22776000 &  5.88383000 & 4.25505e+00 & 4.19234e+00 & 6.70750000 &  3.42970000 &  4.94331000 &  3.15085000 & 2.48598e+00 & ⋯ &   9.8170900 & 18.73900000 & 1.20863e+01 & 11.3349000 & 12.0752000 & 11.21490000 & 11.0724000 & 12.363300 & 6.91227e+00 &  9.9567600\\\\\n",
       "\t⋮ & ⋮ & ⋮ & ⋮ & ⋮ & ⋮ & ⋮ & ⋮ & ⋮ & ⋮ & ⋮ & ⋱ & ⋮ & ⋮ & ⋮ & ⋮ & ⋮ & ⋮ & ⋮ & ⋮ & ⋮ & ⋮\\\\\n",
       "\t3971 &  0.5389370 &  0.2942920 &  0.5237360 &  0.3571220 &  0.3670240 &  0.3134740 &  0.3804330 &  0.3782080 &  0.3425740 &   0.3553370 & ⋯ &  0.4179040 &  0.8982160 &  0.73803000 &  0.44952200 &  0.5428810 &  0.3465310 &  0.6208480 & 0.5403960 &  0.7087280 & 0.32456000\\\\\n",
       "\t3972 &  8.4870100 &  9.7855200 &  7.0446200 & 14.2932000 &  6.2139700 &  7.3005400 &  6.1529500 &  9.9496200 &  5.8573400 &   6.3775100 & ⋯ &  1.8183800 &  1.2769000 &  0.79464200 &  1.69507000 &  1.0034600 &  2.2204900 &  2.3975400 & 2.0871800 &  3.1035200 & 2.33993000\\\\\n",
       "\t3973 &  0.1078100 &  0.0547506 &  0.0573760 &  0.1274770 &  0.0943878 &  0.1052350 &  0.0739555 &  0.0684872 &  0.0827165 &   0.0761512 & ⋯ &  0.4389990 &  0.5667440 &  0.34630800 &  0.38473300 &  0.2808150 &  0.4998060 &  0.4578520 & 0.3426330 &  0.3624220 & 0.53805000\\\\\n",
       "\t3974 &  0.0737231 &  0.0707713 &  0.0829591 &  0.0489803 &  0.0488692 &  0.0854520 &  0.0733102 &  0.0477580 &  0.0961911 &   0.0695935 & ⋯ &  0.0845330 &  0.0486858 &  0.05196350 &  0.07403930 &  0.0679313 &  0.0611307 &  0.0704399 & 0.0570832 &  0.0469378 & 0.07566700\\\\\n",
       "\t3975 &  5.3027300 & 16.4007000 & 13.0051000 &  8.8661800 &  5.0913300 & 22.3397000 &  9.8197700 & 11.3697000 & 10.7607000 &   9.7330300 & ⋯ &  3.2920100 &  1.9209900 &  4.73482000 &  4.27097000 &  2.6933000 &  5.1033800 &  2.2786100 & 3.8231000 &  3.6152000 & 5.62475000\\\\\n",
       "\t3976 & 19.2841000 & 13.1956000 & 30.0427000 & 14.8103000 & 24.0527000 & 28.0159000 & 11.2861000 & 18.2526000 & 14.7791000 &  17.8634000 & ⋯ &  3.2086900 &  3.5103800 &  1.75876000 &  3.29074000 &  1.8971800 &  4.1091700 &  3.5198800 & 2.5552300 &  2.4638700 & 0.89191300\\\\\n",
       "\t3977 &  0.1379660 &  0.1751930 &  0.2738230 &  0.2318110 &  0.2180460 &  0.2511430 &  0.1274810 &  0.2118770 &  0.0903983 &   0.0743812 & ⋯ &  0.4393990 &  0.5068270 &  0.70745300 &  0.83421800 &  0.4479970 &  0.6809450 &  0.3749140 & 0.5180170 &  0.1722980 & 0.37497000\\\\\n",
       "\t3978 &  2.0745300 &  1.8420900 &  2.8889000 &  1.6550000 &  0.9717750 &  1.2086000 &  5.0596200 &  3.1113000 &  3.3761200 &   5.3936900 & ⋯ &  0.5149290 &  0.6982500 &  0.71880100 &  0.85210400 &  0.4718560 &  1.0561300 &  0.9232410 & 0.6855390 &  0.4839840 & 0.40806200\\\\\n",
       "\t3979 &  0.4443920 &  0.4366210 &  0.7852020 &  0.4768670 &  0.2831950 &  0.8136910 &  0.2505770 &  0.4100870 &  0.2982330 &   0.1921330 & ⋯ &  4.6515900 &  2.1898900 &  3.99070000 &  5.15938000 &  3.9491600 &  4.8876700 &  4.4541200 & 5.7367900 &  4.3360000 & 5.12792000\\\\\n",
       "\t3980 &  1.3087600 &  1.3667300 &  1.2469500 &  0.4308850 &  1.7017900 &  0.6315030 &  7.2010000 &  2.7235800 &  6.0116400 &   6.3773800 & ⋯ &  0.5166940 &  1.0552100 &  0.21570000 &  0.79861600 &  0.7422940 &  0.5408110 &  0.2579040 & 0.4099100 &  0.3992340 & 0.64575100\\\\\n",
       "\t3981 &  2.5679400 &  3.4975500 &  1.8618800 &  2.8173800 &  3.4263100 &  2.7356300 &  2.4334800 &  2.4127900 &  3.7465200 &   3.1591800 & ⋯ &  1.4395200 &  2.5385800 &  1.81098000 &  0.92666400 &  1.8306200 &  1.2489100 &  1.8487900 & 1.2424500 &  1.9876700 & 1.58214000\\\\\n",
       "\t3982 &  5.3007500 &  7.4654300 &  5.2752800 &  7.7313300 &  6.1037800 &  7.8786900 & 11.7702000 &  7.2962000 & 11.0145000 &  13.8529000 & ⋯ &  3.1889600 &  4.2805300 &  2.31819000 &  2.51608000 &  2.4207800 &  2.4745600 &  1.9076700 & 2.7956500 &  2.3165100 & 2.03920000\\\\\n",
       "\t3983 &  0.1455270 &  0.3098110 &  0.2398650 &  0.2894940 &  0.1493370 &  0.1297110 &  0.0362153 &  0.2454450 &  0.1395500 &   0.0741855 & ⋯ &  0.5016060 &  0.0857757 &  0.44484600 &  0.62930100 &  0.4469300 &  0.3167670 &  0.1305520 & 0.4861380 &  0.5209710 & 0.58888600\\\\\n",
       "\t3984 &  0.9934840 &  2.0629800 &  1.4201700 &  3.2520100 &  4.6230100 &  0.7400480 &  1.9647100 &  1.0354800 &  3.3057000 &   2.5087200 & ⋯ &  0.4531440 &  0.2882830 &  0.26071600 &  0.93262400 &  0.4569190 &  0.2527450 &  1.3534600 & 0.9009460 &  0.1999220 & 0.13745700\\\\\n",
       "\t3985 &  4.2554000 & 25.2991000 & 18.2105000 &  2.0523000 & 26.8549000 &  9.4388800 & 12.8681000 &  3.7966300 &  9.9106100 & 155.3580000 & ⋯ &  2.8435800 &  1.6101800 &  0.71354100 &  1.28941000 &  0.0109910 &  0.3306950 &  0.1074310 & 0.9767120 &  0.3974020 & 0.09508210\\\\\n",
       "\t3986 &  0.1179330 &  0.1140340 &  0.6040470 &  0.0404460 &  0.3995040 &  0.0227045 &  2.2609600 &  1.1329300 &  0.3578850 &   2.8276600 & ⋯ &  0.0614937 &  0.0161173 &  0.01072460 &  0.12423300 &  0.0101474 &  0.0107017 &  0.1199720 & 0.7520120 &  0.0153141 & 0.03227290\\\\\n",
       "\t3987 &  0.0620445 &  0.2779260 &  0.2635910 &  0.1609560 &  0.4554870 &  0.1951910 &  0.2656880 &  0.2315500 &  0.2445090 &   0.0588480 & ⋯ &  0.0277733 &  0.0727268 &  0.00743577 &  0.00334271 &  0.0289149 &  0.0164807 &  0.0265398 & 0.0150722 &  0.0133504 & 0.00811101\\\\\n",
       "\t3988 &  0.4733800 &  0.3275020 &  0.1662680 &  0.2172000 &  0.3906070 &  0.3328850 &  0.1398020 &  0.2701370 &  0.4470550 &   0.3125050 & ⋯ &  2.1023100 &  1.1734300 &  2.16039000 &  1.39788000 &  0.5465640 &  1.3691000 &  0.6442580 & 1.2070500 &  2.2993300 & 1.32367000\\\\\n",
       "\t3989 &  0.6185700 &  0.4059700 &  0.4334500 &  0.4828850 &  0.7007950 &  0.4434690 &  0.9425630 &  0.5354830 &  0.6450500 &   1.5562400 & ⋯ &  0.3637850 &  0.4302560 &  0.40385100 &  0.44757600 &  0.4848020 &  0.4371110 &  0.4603670 & 0.4170970 &  0.2470350 & 0.33161100\\\\\n",
       "\t3990 &  2.4299900 &  2.7848900 &  2.3903500 &  2.3626100 &  2.1670600 &  2.9493800 &  1.9505300 &  2.8982800 &  2.2268600 &   2.2182400 & ⋯ &  0.7888980 &  0.6649390 &  0.79913300 &  0.74046500 &  0.9030050 &  0.8017030 &  0.8691220 & 0.7921460 &  0.6791880 & 0.91627200\\\\\n",
       "\t3991 &  1.4109200 &  0.8349180 &  4.2422000 &  2.4885000 &  4.1868400 &  2.0928700 &  3.2033800 &  3.4205300 &  2.0139700 &   3.7839300 & ⋯ &  0.2478510 &  2.0612000 &  0.95839800 &  0.21227800 &  0.2485310 &  0.7807370 &  0.1902830 & 0.6678440 &  0.7847240 & 0.73016600\\\\\n",
       "\t3992 &  1.9716100 &  1.3726300 &  0.4175510 &  1.1015200 &  0.6512950 &  0.5357980 &  0.5513140 &  2.5394900 &  0.8817460 &   1.8331900 & ⋯ &  1.0457300 &  1.3632100 &  0.33088400 &  0.64653700 &  0.2960600 &  0.6423980 &  0.2248970 & 0.1557840 &  0.4387900 & 0.14299500\\\\\n",
       "\t3993 &  0.6050450 &  0.8857510 &  0.9381000 &  0.4710560 &  0.6214250 &  1.3055600 &  0.3181080 &  0.7621650 &  0.4504600 &   0.4689910 & ⋯ &  0.0283788 &  0.0305743 &  0.03390660 &  0.07148670 &  0.0718073 &  0.0798895 &  0.0403967 & 0.0760493 &  0.0308786 & 0.07324230\\\\\n",
       "\t3994 &  4.6802200 &  4.5480100 &  7.8153300 &  1.1742600 &  4.7997200 &  4.1556900 &  1.6673600 &  4.4939000 &  1.6400100 &   0.7143000 & ⋯ & 14.4880000 & 14.7524000 & 21.13380000 & 21.49440000 & 24.9582000 & 17.3198000 & 24.0736000 & 7.3894500 & 12.3544000 & 3.10993000\\\\\n",
       "\t3995 &  3.6981400 &  3.8847400 &  3.2826800 &  4.1363400 &  4.8142100 &  4.2696000 &  3.3409500 &  2.9594600 &  3.9219000 &   3.5309900 & ⋯ &  6.8726100 &  9.7798200 &  7.12369000 &  5.81963000 &  6.4027500 &  4.8978100 &  6.8982300 & 6.3879000 &  6.1980100 & 5.40698000\\\\\n",
       "\t3996 &  0.4633390 &  0.3524840 &  0.4773230 &  0.1600940 &  0.2994970 &  0.4805710 &  0.2163350 &  0.6457580 &  0.4487720 &   0.5514520 & ⋯ &  0.2715730 &  0.0856019 &  0.15783500 &  0.09399500 &  0.1853990 &  0.1262520 &  0.2229780 & 0.2777800 &  0.0688352 & 0.20460200\\\\\n",
       "\t3997 &  1.6739000 &  1.7492000 &  1.4745000 &  1.3224800 &  2.0095900 &  1.6306400 &  1.7915100 &  1.7221100 &  1.4515900 &   1.6876800 & ⋯ &  5.4966400 &  8.3775500 &  8.29606000 &  2.98947000 &  7.2285700 &  3.1153700 & 11.3776000 & 5.0364900 &  8.4735100 & 5.46782000\\\\\n",
       "\t3998 &  0.0739456 &  0.0989574 &  0.0606626 &  0.0767330 &  0.0631294 &  0.0521663 &  0.0483369 &  0.0715703 &  0.0449360 &   0.0586531 & ⋯ &  0.1842700 &  0.0856482 &  0.21692100 &  0.17393400 &  0.2150240 &  0.1226320 &  0.1307510 & 0.1274870 &  0.1907590 & 0.11896400\\\\\n",
       "\t3999 &  5.7029700 &  9.0977000 &  7.1298400 & 10.8015000 & 10.8343000 &  3.4378400 &  6.6393100 & 13.8113000 & 10.1064000 &   3.1217300 & ⋯ &  5.7963900 &  5.9089900 &  1.97878000 &  4.81328000 &  4.0168700 &  5.4371200 &  4.1900000 & 4.2891600 &  3.1771600 & 4.93624000\\\\\n",
       "\t4000 &  0.2115450 &  0.2439300 &  0.3500250 &  0.2514480 &  0.1075150 &  0.2677960 &  0.1091410 &  0.3396030 &  0.3304750 &   0.2728110 & ⋯ &  2.7190000 &  1.9152400 &  1.96288000 &  1.36328000 &  2.4062200 &  4.7071400 &  2.0743900 & 3.3214000 &  3.6575400 & 5.00329000\\\\\n",
       "\\end{tabular}\n"
      ],
      "text/markdown": [
       "\n",
       "A matrix: 4000 × 150 of type dbl\n",
       "\n",
       "| 1 |  0.36629600 |  0.32035600 |  0.32147100 | 3.60960e-01 | 3.56925e-01 | 0.22726200 |  0.40025000 |  0.35983000 |  0.34334500 | 4.11151e-01 | ⋯ |   0.1191490 |  0.17005300 | 7.49095e-02 |  0.1261430 |  0.1378540 |  0.08651550 |  0.1271200 |  0.165835 | 1.44682e-01 |  0.1410110 |\n",
       "| 2 |  0.15328500 | 30.08620000 | 12.99280000 | 2.10500e+00 | 1.89803e-01 | 0.97033300 |  0.31472400 |  0.12487300 |  0.98323100 | 9.51927e+00 | ⋯ |   1.3482700 |  0.12767400 | 1.87957e+00 |  0.0423962 |  0.3732790 |  9.17706000 |  3.6197300 |  0.454305 | 5.80874e-02 | 15.3991000 |\n",
       "| 3 |  0.34006900 |  0.28883800 |  0.25636100 | 3.22820e-01 | 3.34713e-01 | 0.22588300 |  0.34691300 |  0.18297500 |  0.41541800 | 3.60793e-01 | ⋯ |   0.1314310 |  0.14668400 | 8.71124e-02 |  0.1190030 |  0.1064270 |  0.13779800 |  0.1000270 |  0.141129 | 1.39910e-01 |  0.1886360 |\n",
       "| 4 |  1.39000000 |  0.96247100 |  1.63194000 | 1.36572e+00 | 1.36228e+00 | 1.63308000 |  2.11710000 |  1.63184000 |  1.13027000 | 1.32276e+00 | ⋯ |   3.6777400 |  3.30177000 | 2.49368e+00 |  3.1400700 |  1.7334000 |  2.66997000 |  2.4107300 |  3.006680 | 1.25171e+00 |  2.2657800 |\n",
       "| 5 |  2.98456000 |  2.07429000 |  2.25722000 | 3.13952e+00 | 2.91823e+00 | 2.15126000 |  2.00166000 |  2.32762000 |  3.63098000 | 4.03717e+00 | ⋯ |   0.1306350 |  0.08252660 | 5.64126e-01 |  0.2389670 |  0.4804310 |  0.45783700 |  0.2255850 |  0.342022 | 4.29637e-01 |  0.3567880 |\n",
       "| 6 |  0.19226300 |  0.15610400 |  0.11005600 | 1.75116e-01 | 1.71135e-01 | 0.14561400 |  0.17909300 |  0.15131100 |  0.23517800 | 1.92875e-01 | ⋯ |   0.9259750 |  1.49705000 | 1.07655e+00 |  1.3024700 |  0.6612760 |  1.46767000 |  0.9679520 |  1.353980 | 1.35424e+00 |  0.8419360 |\n",
       "| 7 |  0.16747500 |  0.09853340 |  0.04008030 | 3.29839e-01 | 6.42644e-02 | 0.25559700 |  0.15948100 |  0.07891870 |  0.30552000 | 2.85114e-01 | ⋯ |   0.2469580 |  0.97840400 | 1.05786e-01 |  0.9994720 |  1.0705500 |  1.14918000 |  1.2990400 |  0.308944 | 6.54926e-01 |  2.1406800 |\n",
       "| 8 |  3.65739000 |  4.91052000 |  4.28169000 | 4.67410e+00 | 4.13747e+00 | 6.80848000 |  3.75598000 |  4.28570000 |  2.52935000 | 3.35689e+00 | ⋯ |   1.8660600 |  1.10601000 | 1.42998e+00 |  2.0936800 |  1.8374700 |  1.77327000 |  1.0125400 |  1.614590 | 1.91275e+00 |  2.2079100 |\n",
       "| 9 |  0.86743700 |  1.53308000 |  1.05564000 | 1.28882e+00 | 4.89657e-01 | 0.87900000 |  0.52284100 |  1.00150000 |  0.85412800 | 1.18050e+00 | ⋯ |   0.6879110 |  0.85536200 | 9.86906e-01 |  1.0916500 |  0.4470510 |  1.44719000 |  1.5025100 |  0.323291 | 1.47856e+00 |  1.7211300 |\n",
       "| 10 |  1.57821000 |  2.45967000 |  0.88369500 | 2.37624e+00 | 3.52726e+00 | 1.31940000 |  3.87702000 |  3.42062000 |  4.04848000 | 3.64190e+00 | ⋯ |   0.1048510 |  0.28724600 | 1.68938e-01 |  0.1741080 |  0.1509510 |  0.16482600 |  0.1707520 |  0.108523 | 1.78860e-01 |  0.1309900 |\n",
       "| 11 |  0.90746900 |  0.86945100 |  1.30502000 | 1.17898e+00 | 9.97727e-01 | 0.96287300 |  0.41493400 |  0.90438000 |  0.79453500 | 1.24880e+00 | ⋯ |   2.0813600 |  3.95326000 | 3.54659e+00 |  3.1074900 |  4.0696700 |  3.05116000 |  2.9562400 |  2.289290 | 3.21602e+00 |  2.1492800 |\n",
       "| 12 |  0.12344800 |  0.13721700 |  0.24423000 | 1.73090e-01 | 3.28162e-01 | 0.21605700 |  0.13289100 |  0.24897800 |  0.33110000 | 1.80357e-01 | ⋯ |   0.3256580 |  0.32203800 | 1.02815e-01 |  0.2746190 |  0.1997910 |  0.19725500 |  0.1854330 |  0.506044 | 4.38802e-01 |  0.5738080 |\n",
       "| 13 |  0.57030800 |  1.71434000 |  5.03837000 | 2.89482e-01 | 1.92912e+00 | 4.55573000 |  2.85375000 |  2.22881000 |  0.88192900 | 2.10172e+00 | ⋯ |   0.5639360 |  0.60057200 | 7.50235e-01 |  0.5418490 |  0.1399810 |  0.41654600 |  0.4410090 |  0.116216 | 5.23768e-01 |  0.4158720 |\n",
       "| 14 |  0.90099600 |  0.70633400 |  0.63502000 | 8.41589e-01 | 5.70077e-01 | 0.73457500 |  1.40346000 |  1.03305000 |  0.95126600 | 1.10193e+00 | ⋯ |   3.2098500 |  1.76117000 | 1.44287e+00 |  3.1764800 |  4.0181900 |  2.94075000 |  3.2451700 |  3.373690 | 3.24430e+00 |  4.8806000 |\n",
       "| 15 |  1.49047000 |  1.35230000 |  1.40312000 | 1.31656e+00 | 1.16107e+00 | 1.47083000 |  1.36843000 |  1.53940000 |  1.21628000 | 6.72066e-01 | ⋯ |  15.6280000 | 11.35070000 | 9.12072e+00 | 14.2686000 | 11.8858000 | 12.87230000 | 14.3841000 | 11.211900 | 1.31310e+01 | 14.4648000 |\n",
       "| 16 |  0.32962200 |  0.58551700 |  0.52973300 | 3.27369e-01 | 9.74404e-01 | 1.05964000 |  1.04742000 |  0.88473200 |  0.72512300 | 3.49919e-01 | ⋯ |   0.0783703 |  0.02789640 | 5.35906e-02 |  0.0702662 |  0.0644822 |  0.10163400 |  0.0318218 |  0.137205 | 5.24307e-02 |  0.0340901 |\n",
       "| 17 |  1.47789000 |  1.11830000 |  1.14426000 | 1.21896e+00 | 1.28724e+00 | 1.23628000 |  1.17065000 |  1.13013000 |  1.41615000 | 1.50638e+00 | ⋯ |   1.8039900 |  1.84125000 | 1.89411e+00 |  1.7021400 |  1.4573900 |  1.81036000 |  1.6443200 |  1.931900 | 1.88831e+00 |  1.5126500 |\n",
       "| 18 |  0.18553800 |  0.25751200 |  0.13657600 | 1.61165e-01 | 1.39285e-01 | 0.12009400 |  0.26689500 |  0.09097630 |  0.08188550 | 8.67110e-02 | ⋯ |   1.0612300 |  2.90420000 | 1.64754e+00 |  1.4256700 |  2.1748000 |  0.87779800 |  0.8194510 |  1.493990 | 9.54587e-01 |  0.4138000 |\n",
       "| 19 |  1.17970000 |  0.79112700 |  0.89600400 | 9.79551e-01 | 9.06453e-01 | 1.03260000 |  0.77256000 |  0.44265000 |  0.53102100 | 4.36806e-01 | ⋯ |   0.2136480 |  0.30925100 | 4.13646e-01 |  0.3879600 |  0.4509610 |  0.30534100 |  0.3397260 |  0.388557 | 3.70751e-01 |  0.2693070 |\n",
       "| 20 | 14.21010000 | 10.96540000 |  9.46769000 | 5.39912e+00 | 1.14645e+01 | 7.03737000 | 12.45500000 |  9.45810000 | 19.62980000 | 1.57996e+01 | ⋯ |   0.6515460 |  0.88456300 | 1.12310e+00 |  1.1685400 |  1.0441900 |  0.34193100 |  0.6792710 |  0.505460 | 1.12443e+00 |  0.6935040 |\n",
       "| 21 |  0.00843940 |  0.00126021 |  0.00315423 | 3.89929e-02 | 5.13424e-03 | 0.00393671 |  0.00660063 |  0.00702821 |  0.01672000 | 1.39785e-02 | ⋯ |   0.5773000 |  0.04989850 | 1.23983e+00 |  0.2608320 |  0.4783150 |  0.02130410 |  0.4280000 |  0.237252 | 3.73180e-01 |  0.4678830 |\n",
       "| 22 |  6.79544000 |  6.10442000 |  6.30269000 | 7.64363e+00 | 5.87168e+00 | 4.45512000 |  6.86981000 |  6.07669000 |  4.73871000 | 2.41510e+00 | ⋯ |   0.7547230 |  0.55933200 | 3.53037e-01 |  0.9790560 |  0.3007430 |  0.55631200 |  0.7223010 |  0.578047 | 6.53827e-01 |  0.9143990 |\n",
       "| 23 |  0.11972200 |  0.11264500 |  0.16373300 | 1.33500e-01 | 1.23426e-01 | 0.15670100 |  0.08094840 |  0.14045900 |  0.12426800 | 7.10326e-02 | ⋯ |   0.3547510 |  0.45012200 | 3.90401e-01 |  0.4142090 |  0.3546340 |  0.36489700 |  0.3049830 |  0.412995 | 4.30317e-01 |  0.4157510 |\n",
       "| 24 |  0.10830000 |  0.15232400 |  0.17939400 | 7.34550e-02 | 1.18754e-01 | 0.18930300 |  0.07331720 |  0.09175590 |  0.05560400 | 5.10613e-02 | ⋯ |   0.0459195 |  0.08509270 | 1.96832e-02 |  0.0442028 |  0.0460000 |  0.05153770 |  0.0377016 |  0.046119 | 3.63042e-02 |  0.0424339 |\n",
       "| 25 |  1.16340000 | 72.21030000 |  0.10445100 | 3.17358e+00 | 8.30528e+00 | 0.07869010 |  1.19639000 |  4.89765000 |  5.93577000 | 1.08960e-02 | ⋯ | 154.5350000 |  8.21345000 | 1.42482e+02 | 26.5227000 |  5.2500300 |  0.00177695 | 18.2586000 | 21.621300 | 9.59951e+00 | 44.6577000 |\n",
       "| 26 |  5.79574000 |  0.84916900 |  5.86303000 | 2.62896e-05 | 1.89478e-05 | 0.06265220 |  0.11688800 | 15.68030000 |  0.00820831 | 5.03976e+01 | ⋯ |   0.0560299 |  0.00862782 | 1.42254e-05 |  4.8744400 |  0.1069750 | 69.93440000 |  0.3714210 | 19.393600 | 1.81460e-05 |  0.0136089 |\n",
       "| 27 |  2.55192000 |  3.38961000 |  2.50133000 | 2.74472e+00 | 1.35109e+00 | 1.94079000 |  2.35750000 |  0.96683700 |  7.56316000 | 7.99210e-01 | ⋯ |   9.3239700 |  3.71146000 | 3.51877e+00 |  6.2783400 |  4.5389700 |  2.02654000 |  5.4193100 |  3.409420 | 8.72475e+00 | 10.3600000 |\n",
       "| 28 |  5.11077000 |  6.60302000 |  7.61774000 | 4.69429e+00 | 5.44028e+00 | 7.14518000 |  3.90706000 |  5.78582000 |  4.04194000 | 3.93753e+00 | ⋯ |   0.8477330 |  0.81861900 | 6.97920e-01 |  0.6701220 |  0.8197810 |  0.77539500 |  0.5974890 |  0.667676 | 7.09676e-01 |  0.7708010 |\n",
       "| 29 |  0.00865507 |  0.02475970 |  0.05146630 | 4.36898e-02 | 2.99712e-02 | 0.00616587 |  0.00108490 |  0.00662760 |  0.00454882 | 6.23156e-04 | ⋯ |   0.3800280 |  0.23672400 | 2.94568e-02 |  0.0733895 |  1.2231600 |  0.17644100 |  0.0641566 |  0.248172 | 5.86237e-01 |  0.0958958 |\n",
       "| 30 |  3.92258000 |  5.22776000 |  5.88383000 | 4.25505e+00 | 4.19234e+00 | 6.70750000 |  3.42970000 |  4.94331000 |  3.15085000 | 2.48598e+00 | ⋯ |   9.8170900 | 18.73900000 | 1.20863e+01 | 11.3349000 | 12.0752000 | 11.21490000 | 11.0724000 | 12.363300 | 6.91227e+00 |  9.9567600 |\n",
       "| ⋮ | ⋮ | ⋮ | ⋮ | ⋮ | ⋮ | ⋮ | ⋮ | ⋮ | ⋮ | ⋮ | ⋱ | ⋮ | ⋮ | ⋮ | ⋮ | ⋮ | ⋮ | ⋮ | ⋮ | ⋮ | ⋮ |\n",
       "| 3971 |  0.5389370 |  0.2942920 |  0.5237360 |  0.3571220 |  0.3670240 |  0.3134740 |  0.3804330 |  0.3782080 |  0.3425740 |   0.3553370 | ⋯ |  0.4179040 |  0.8982160 |  0.73803000 |  0.44952200 |  0.5428810 |  0.3465310 |  0.6208480 | 0.5403960 |  0.7087280 | 0.32456000 |\n",
       "| 3972 |  8.4870100 |  9.7855200 |  7.0446200 | 14.2932000 |  6.2139700 |  7.3005400 |  6.1529500 |  9.9496200 |  5.8573400 |   6.3775100 | ⋯ |  1.8183800 |  1.2769000 |  0.79464200 |  1.69507000 |  1.0034600 |  2.2204900 |  2.3975400 | 2.0871800 |  3.1035200 | 2.33993000 |\n",
       "| 3973 |  0.1078100 |  0.0547506 |  0.0573760 |  0.1274770 |  0.0943878 |  0.1052350 |  0.0739555 |  0.0684872 |  0.0827165 |   0.0761512 | ⋯ |  0.4389990 |  0.5667440 |  0.34630800 |  0.38473300 |  0.2808150 |  0.4998060 |  0.4578520 | 0.3426330 |  0.3624220 | 0.53805000 |\n",
       "| 3974 |  0.0737231 |  0.0707713 |  0.0829591 |  0.0489803 |  0.0488692 |  0.0854520 |  0.0733102 |  0.0477580 |  0.0961911 |   0.0695935 | ⋯ |  0.0845330 |  0.0486858 |  0.05196350 |  0.07403930 |  0.0679313 |  0.0611307 |  0.0704399 | 0.0570832 |  0.0469378 | 0.07566700 |\n",
       "| 3975 |  5.3027300 | 16.4007000 | 13.0051000 |  8.8661800 |  5.0913300 | 22.3397000 |  9.8197700 | 11.3697000 | 10.7607000 |   9.7330300 | ⋯ |  3.2920100 |  1.9209900 |  4.73482000 |  4.27097000 |  2.6933000 |  5.1033800 |  2.2786100 | 3.8231000 |  3.6152000 | 5.62475000 |\n",
       "| 3976 | 19.2841000 | 13.1956000 | 30.0427000 | 14.8103000 | 24.0527000 | 28.0159000 | 11.2861000 | 18.2526000 | 14.7791000 |  17.8634000 | ⋯ |  3.2086900 |  3.5103800 |  1.75876000 |  3.29074000 |  1.8971800 |  4.1091700 |  3.5198800 | 2.5552300 |  2.4638700 | 0.89191300 |\n",
       "| 3977 |  0.1379660 |  0.1751930 |  0.2738230 |  0.2318110 |  0.2180460 |  0.2511430 |  0.1274810 |  0.2118770 |  0.0903983 |   0.0743812 | ⋯ |  0.4393990 |  0.5068270 |  0.70745300 |  0.83421800 |  0.4479970 |  0.6809450 |  0.3749140 | 0.5180170 |  0.1722980 | 0.37497000 |\n",
       "| 3978 |  2.0745300 |  1.8420900 |  2.8889000 |  1.6550000 |  0.9717750 |  1.2086000 |  5.0596200 |  3.1113000 |  3.3761200 |   5.3936900 | ⋯ |  0.5149290 |  0.6982500 |  0.71880100 |  0.85210400 |  0.4718560 |  1.0561300 |  0.9232410 | 0.6855390 |  0.4839840 | 0.40806200 |\n",
       "| 3979 |  0.4443920 |  0.4366210 |  0.7852020 |  0.4768670 |  0.2831950 |  0.8136910 |  0.2505770 |  0.4100870 |  0.2982330 |   0.1921330 | ⋯ |  4.6515900 |  2.1898900 |  3.99070000 |  5.15938000 |  3.9491600 |  4.8876700 |  4.4541200 | 5.7367900 |  4.3360000 | 5.12792000 |\n",
       "| 3980 |  1.3087600 |  1.3667300 |  1.2469500 |  0.4308850 |  1.7017900 |  0.6315030 |  7.2010000 |  2.7235800 |  6.0116400 |   6.3773800 | ⋯ |  0.5166940 |  1.0552100 |  0.21570000 |  0.79861600 |  0.7422940 |  0.5408110 |  0.2579040 | 0.4099100 |  0.3992340 | 0.64575100 |\n",
       "| 3981 |  2.5679400 |  3.4975500 |  1.8618800 |  2.8173800 |  3.4263100 |  2.7356300 |  2.4334800 |  2.4127900 |  3.7465200 |   3.1591800 | ⋯ |  1.4395200 |  2.5385800 |  1.81098000 |  0.92666400 |  1.8306200 |  1.2489100 |  1.8487900 | 1.2424500 |  1.9876700 | 1.58214000 |\n",
       "| 3982 |  5.3007500 |  7.4654300 |  5.2752800 |  7.7313300 |  6.1037800 |  7.8786900 | 11.7702000 |  7.2962000 | 11.0145000 |  13.8529000 | ⋯ |  3.1889600 |  4.2805300 |  2.31819000 |  2.51608000 |  2.4207800 |  2.4745600 |  1.9076700 | 2.7956500 |  2.3165100 | 2.03920000 |\n",
       "| 3983 |  0.1455270 |  0.3098110 |  0.2398650 |  0.2894940 |  0.1493370 |  0.1297110 |  0.0362153 |  0.2454450 |  0.1395500 |   0.0741855 | ⋯ |  0.5016060 |  0.0857757 |  0.44484600 |  0.62930100 |  0.4469300 |  0.3167670 |  0.1305520 | 0.4861380 |  0.5209710 | 0.58888600 |\n",
       "| 3984 |  0.9934840 |  2.0629800 |  1.4201700 |  3.2520100 |  4.6230100 |  0.7400480 |  1.9647100 |  1.0354800 |  3.3057000 |   2.5087200 | ⋯ |  0.4531440 |  0.2882830 |  0.26071600 |  0.93262400 |  0.4569190 |  0.2527450 |  1.3534600 | 0.9009460 |  0.1999220 | 0.13745700 |\n",
       "| 3985 |  4.2554000 | 25.2991000 | 18.2105000 |  2.0523000 | 26.8549000 |  9.4388800 | 12.8681000 |  3.7966300 |  9.9106100 | 155.3580000 | ⋯ |  2.8435800 |  1.6101800 |  0.71354100 |  1.28941000 |  0.0109910 |  0.3306950 |  0.1074310 | 0.9767120 |  0.3974020 | 0.09508210 |\n",
       "| 3986 |  0.1179330 |  0.1140340 |  0.6040470 |  0.0404460 |  0.3995040 |  0.0227045 |  2.2609600 |  1.1329300 |  0.3578850 |   2.8276600 | ⋯ |  0.0614937 |  0.0161173 |  0.01072460 |  0.12423300 |  0.0101474 |  0.0107017 |  0.1199720 | 0.7520120 |  0.0153141 | 0.03227290 |\n",
       "| 3987 |  0.0620445 |  0.2779260 |  0.2635910 |  0.1609560 |  0.4554870 |  0.1951910 |  0.2656880 |  0.2315500 |  0.2445090 |   0.0588480 | ⋯ |  0.0277733 |  0.0727268 |  0.00743577 |  0.00334271 |  0.0289149 |  0.0164807 |  0.0265398 | 0.0150722 |  0.0133504 | 0.00811101 |\n",
       "| 3988 |  0.4733800 |  0.3275020 |  0.1662680 |  0.2172000 |  0.3906070 |  0.3328850 |  0.1398020 |  0.2701370 |  0.4470550 |   0.3125050 | ⋯ |  2.1023100 |  1.1734300 |  2.16039000 |  1.39788000 |  0.5465640 |  1.3691000 |  0.6442580 | 1.2070500 |  2.2993300 | 1.32367000 |\n",
       "| 3989 |  0.6185700 |  0.4059700 |  0.4334500 |  0.4828850 |  0.7007950 |  0.4434690 |  0.9425630 |  0.5354830 |  0.6450500 |   1.5562400 | ⋯ |  0.3637850 |  0.4302560 |  0.40385100 |  0.44757600 |  0.4848020 |  0.4371110 |  0.4603670 | 0.4170970 |  0.2470350 | 0.33161100 |\n",
       "| 3990 |  2.4299900 |  2.7848900 |  2.3903500 |  2.3626100 |  2.1670600 |  2.9493800 |  1.9505300 |  2.8982800 |  2.2268600 |   2.2182400 | ⋯ |  0.7888980 |  0.6649390 |  0.79913300 |  0.74046500 |  0.9030050 |  0.8017030 |  0.8691220 | 0.7921460 |  0.6791880 | 0.91627200 |\n",
       "| 3991 |  1.4109200 |  0.8349180 |  4.2422000 |  2.4885000 |  4.1868400 |  2.0928700 |  3.2033800 |  3.4205300 |  2.0139700 |   3.7839300 | ⋯ |  0.2478510 |  2.0612000 |  0.95839800 |  0.21227800 |  0.2485310 |  0.7807370 |  0.1902830 | 0.6678440 |  0.7847240 | 0.73016600 |\n",
       "| 3992 |  1.9716100 |  1.3726300 |  0.4175510 |  1.1015200 |  0.6512950 |  0.5357980 |  0.5513140 |  2.5394900 |  0.8817460 |   1.8331900 | ⋯ |  1.0457300 |  1.3632100 |  0.33088400 |  0.64653700 |  0.2960600 |  0.6423980 |  0.2248970 | 0.1557840 |  0.4387900 | 0.14299500 |\n",
       "| 3993 |  0.6050450 |  0.8857510 |  0.9381000 |  0.4710560 |  0.6214250 |  1.3055600 |  0.3181080 |  0.7621650 |  0.4504600 |   0.4689910 | ⋯ |  0.0283788 |  0.0305743 |  0.03390660 |  0.07148670 |  0.0718073 |  0.0798895 |  0.0403967 | 0.0760493 |  0.0308786 | 0.07324230 |\n",
       "| 3994 |  4.6802200 |  4.5480100 |  7.8153300 |  1.1742600 |  4.7997200 |  4.1556900 |  1.6673600 |  4.4939000 |  1.6400100 |   0.7143000 | ⋯ | 14.4880000 | 14.7524000 | 21.13380000 | 21.49440000 | 24.9582000 | 17.3198000 | 24.0736000 | 7.3894500 | 12.3544000 | 3.10993000 |\n",
       "| 3995 |  3.6981400 |  3.8847400 |  3.2826800 |  4.1363400 |  4.8142100 |  4.2696000 |  3.3409500 |  2.9594600 |  3.9219000 |   3.5309900 | ⋯ |  6.8726100 |  9.7798200 |  7.12369000 |  5.81963000 |  6.4027500 |  4.8978100 |  6.8982300 | 6.3879000 |  6.1980100 | 5.40698000 |\n",
       "| 3996 |  0.4633390 |  0.3524840 |  0.4773230 |  0.1600940 |  0.2994970 |  0.4805710 |  0.2163350 |  0.6457580 |  0.4487720 |   0.5514520 | ⋯ |  0.2715730 |  0.0856019 |  0.15783500 |  0.09399500 |  0.1853990 |  0.1262520 |  0.2229780 | 0.2777800 |  0.0688352 | 0.20460200 |\n",
       "| 3997 |  1.6739000 |  1.7492000 |  1.4745000 |  1.3224800 |  2.0095900 |  1.6306400 |  1.7915100 |  1.7221100 |  1.4515900 |   1.6876800 | ⋯ |  5.4966400 |  8.3775500 |  8.29606000 |  2.98947000 |  7.2285700 |  3.1153700 | 11.3776000 | 5.0364900 |  8.4735100 | 5.46782000 |\n",
       "| 3998 |  0.0739456 |  0.0989574 |  0.0606626 |  0.0767330 |  0.0631294 |  0.0521663 |  0.0483369 |  0.0715703 |  0.0449360 |   0.0586531 | ⋯ |  0.1842700 |  0.0856482 |  0.21692100 |  0.17393400 |  0.2150240 |  0.1226320 |  0.1307510 | 0.1274870 |  0.1907590 | 0.11896400 |\n",
       "| 3999 |  5.7029700 |  9.0977000 |  7.1298400 | 10.8015000 | 10.8343000 |  3.4378400 |  6.6393100 | 13.8113000 | 10.1064000 |   3.1217300 | ⋯ |  5.7963900 |  5.9089900 |  1.97878000 |  4.81328000 |  4.0168700 |  5.4371200 |  4.1900000 | 4.2891600 |  3.1771600 | 4.93624000 |\n",
       "| 4000 |  0.2115450 |  0.2439300 |  0.3500250 |  0.2514480 |  0.1075150 |  0.2677960 |  0.1091410 |  0.3396030 |  0.3304750 |   0.2728110 | ⋯ |  2.7190000 |  1.9152400 |  1.96288000 |  1.36328000 |  2.4062200 |  4.7071400 |  2.0743900 | 3.3214000 |  3.6575400 | 5.00329000 |\n",
       "\n"
      ],
      "text/plain": [
       "     [,1]        [,2]        [,3]        [,4]        [,5]        [,6]      \n",
       "1     0.36629600  0.32035600  0.32147100 3.60960e-01 3.56925e-01 0.22726200\n",
       "2     0.15328500 30.08620000 12.99280000 2.10500e+00 1.89803e-01 0.97033300\n",
       "3     0.34006900  0.28883800  0.25636100 3.22820e-01 3.34713e-01 0.22588300\n",
       "4     1.39000000  0.96247100  1.63194000 1.36572e+00 1.36228e+00 1.63308000\n",
       "5     2.98456000  2.07429000  2.25722000 3.13952e+00 2.91823e+00 2.15126000\n",
       "6     0.19226300  0.15610400  0.11005600 1.75116e-01 1.71135e-01 0.14561400\n",
       "7     0.16747500  0.09853340  0.04008030 3.29839e-01 6.42644e-02 0.25559700\n",
       "8     3.65739000  4.91052000  4.28169000 4.67410e+00 4.13747e+00 6.80848000\n",
       "9     0.86743700  1.53308000  1.05564000 1.28882e+00 4.89657e-01 0.87900000\n",
       "10    1.57821000  2.45967000  0.88369500 2.37624e+00 3.52726e+00 1.31940000\n",
       "11    0.90746900  0.86945100  1.30502000 1.17898e+00 9.97727e-01 0.96287300\n",
       "12    0.12344800  0.13721700  0.24423000 1.73090e-01 3.28162e-01 0.21605700\n",
       "13    0.57030800  1.71434000  5.03837000 2.89482e-01 1.92912e+00 4.55573000\n",
       "14    0.90099600  0.70633400  0.63502000 8.41589e-01 5.70077e-01 0.73457500\n",
       "15    1.49047000  1.35230000  1.40312000 1.31656e+00 1.16107e+00 1.47083000\n",
       "16    0.32962200  0.58551700  0.52973300 3.27369e-01 9.74404e-01 1.05964000\n",
       "17    1.47789000  1.11830000  1.14426000 1.21896e+00 1.28724e+00 1.23628000\n",
       "18    0.18553800  0.25751200  0.13657600 1.61165e-01 1.39285e-01 0.12009400\n",
       "19    1.17970000  0.79112700  0.89600400 9.79551e-01 9.06453e-01 1.03260000\n",
       "20   14.21010000 10.96540000  9.46769000 5.39912e+00 1.14645e+01 7.03737000\n",
       "21    0.00843940  0.00126021  0.00315423 3.89929e-02 5.13424e-03 0.00393671\n",
       "22    6.79544000  6.10442000  6.30269000 7.64363e+00 5.87168e+00 4.45512000\n",
       "23    0.11972200  0.11264500  0.16373300 1.33500e-01 1.23426e-01 0.15670100\n",
       "24    0.10830000  0.15232400  0.17939400 7.34550e-02 1.18754e-01 0.18930300\n",
       "25    1.16340000 72.21030000  0.10445100 3.17358e+00 8.30528e+00 0.07869010\n",
       "26    5.79574000  0.84916900  5.86303000 2.62896e-05 1.89478e-05 0.06265220\n",
       "27    2.55192000  3.38961000  2.50133000 2.74472e+00 1.35109e+00 1.94079000\n",
       "28    5.11077000  6.60302000  7.61774000 4.69429e+00 5.44028e+00 7.14518000\n",
       "29    0.00865507  0.02475970  0.05146630 4.36898e-02 2.99712e-02 0.00616587\n",
       "30    3.92258000  5.22776000  5.88383000 4.25505e+00 4.19234e+00 6.70750000\n",
       "⋮    ⋮           ⋮           ⋮           ⋮           ⋮           ⋮         \n",
       "3971  0.5389370   0.2942920   0.5237360   0.3571220   0.3670240   0.3134740\n",
       "3972  8.4870100   9.7855200   7.0446200  14.2932000   6.2139700   7.3005400\n",
       "3973  0.1078100   0.0547506   0.0573760   0.1274770   0.0943878   0.1052350\n",
       "3974  0.0737231   0.0707713   0.0829591   0.0489803   0.0488692   0.0854520\n",
       "3975  5.3027300  16.4007000  13.0051000   8.8661800   5.0913300  22.3397000\n",
       "3976 19.2841000  13.1956000  30.0427000  14.8103000  24.0527000  28.0159000\n",
       "3977  0.1379660   0.1751930   0.2738230   0.2318110   0.2180460   0.2511430\n",
       "3978  2.0745300   1.8420900   2.8889000   1.6550000   0.9717750   1.2086000\n",
       "3979  0.4443920   0.4366210   0.7852020   0.4768670   0.2831950   0.8136910\n",
       "3980  1.3087600   1.3667300   1.2469500   0.4308850   1.7017900   0.6315030\n",
       "3981  2.5679400   3.4975500   1.8618800   2.8173800   3.4263100   2.7356300\n",
       "3982  5.3007500   7.4654300   5.2752800   7.7313300   6.1037800   7.8786900\n",
       "3983  0.1455270   0.3098110   0.2398650   0.2894940   0.1493370   0.1297110\n",
       "3984  0.9934840   2.0629800   1.4201700   3.2520100   4.6230100   0.7400480\n",
       "3985  4.2554000  25.2991000  18.2105000   2.0523000  26.8549000   9.4388800\n",
       "3986  0.1179330   0.1140340   0.6040470   0.0404460   0.3995040   0.0227045\n",
       "3987  0.0620445   0.2779260   0.2635910   0.1609560   0.4554870   0.1951910\n",
       "3988  0.4733800   0.3275020   0.1662680   0.2172000   0.3906070   0.3328850\n",
       "3989  0.6185700   0.4059700   0.4334500   0.4828850   0.7007950   0.4434690\n",
       "3990  2.4299900   2.7848900   2.3903500   2.3626100   2.1670600   2.9493800\n",
       "3991  1.4109200   0.8349180   4.2422000   2.4885000   4.1868400   2.0928700\n",
       "3992  1.9716100   1.3726300   0.4175510   1.1015200   0.6512950   0.5357980\n",
       "3993  0.6050450   0.8857510   0.9381000   0.4710560   0.6214250   1.3055600\n",
       "3994  4.6802200   4.5480100   7.8153300   1.1742600   4.7997200   4.1556900\n",
       "3995  3.6981400   3.8847400   3.2826800   4.1363400   4.8142100   4.2696000\n",
       "3996  0.4633390   0.3524840   0.4773230   0.1600940   0.2994970   0.4805710\n",
       "3997  1.6739000   1.7492000   1.4745000   1.3224800   2.0095900   1.6306400\n",
       "3998  0.0739456   0.0989574   0.0606626   0.0767330   0.0631294   0.0521663\n",
       "3999  5.7029700   9.0977000   7.1298400  10.8015000  10.8343000   3.4378400\n",
       "4000  0.2115450   0.2439300   0.3500250   0.2514480   0.1075150   0.2677960\n",
       "     [,7]        [,8]        [,9]        [,10]       [,11] [,12]      \n",
       "1     0.40025000  0.35983000  0.34334500 4.11151e-01 ⋯       0.1191490\n",
       "2     0.31472400  0.12487300  0.98323100 9.51927e+00 ⋯       1.3482700\n",
       "3     0.34691300  0.18297500  0.41541800 3.60793e-01 ⋯       0.1314310\n",
       "4     2.11710000  1.63184000  1.13027000 1.32276e+00 ⋯       3.6777400\n",
       "5     2.00166000  2.32762000  3.63098000 4.03717e+00 ⋯       0.1306350\n",
       "6     0.17909300  0.15131100  0.23517800 1.92875e-01 ⋯       0.9259750\n",
       "7     0.15948100  0.07891870  0.30552000 2.85114e-01 ⋯       0.2469580\n",
       "8     3.75598000  4.28570000  2.52935000 3.35689e+00 ⋯       1.8660600\n",
       "9     0.52284100  1.00150000  0.85412800 1.18050e+00 ⋯       0.6879110\n",
       "10    3.87702000  3.42062000  4.04848000 3.64190e+00 ⋯       0.1048510\n",
       "11    0.41493400  0.90438000  0.79453500 1.24880e+00 ⋯       2.0813600\n",
       "12    0.13289100  0.24897800  0.33110000 1.80357e-01 ⋯       0.3256580\n",
       "13    2.85375000  2.22881000  0.88192900 2.10172e+00 ⋯       0.5639360\n",
       "14    1.40346000  1.03305000  0.95126600 1.10193e+00 ⋯       3.2098500\n",
       "15    1.36843000  1.53940000  1.21628000 6.72066e-01 ⋯      15.6280000\n",
       "16    1.04742000  0.88473200  0.72512300 3.49919e-01 ⋯       0.0783703\n",
       "17    1.17065000  1.13013000  1.41615000 1.50638e+00 ⋯       1.8039900\n",
       "18    0.26689500  0.09097630  0.08188550 8.67110e-02 ⋯       1.0612300\n",
       "19    0.77256000  0.44265000  0.53102100 4.36806e-01 ⋯       0.2136480\n",
       "20   12.45500000  9.45810000 19.62980000 1.57996e+01 ⋯       0.6515460\n",
       "21    0.00660063  0.00702821  0.01672000 1.39785e-02 ⋯       0.5773000\n",
       "22    6.86981000  6.07669000  4.73871000 2.41510e+00 ⋯       0.7547230\n",
       "23    0.08094840  0.14045900  0.12426800 7.10326e-02 ⋯       0.3547510\n",
       "24    0.07331720  0.09175590  0.05560400 5.10613e-02 ⋯       0.0459195\n",
       "25    1.19639000  4.89765000  5.93577000 1.08960e-02 ⋯     154.5350000\n",
       "26    0.11688800 15.68030000  0.00820831 5.03976e+01 ⋯       0.0560299\n",
       "27    2.35750000  0.96683700  7.56316000 7.99210e-01 ⋯       9.3239700\n",
       "28    3.90706000  5.78582000  4.04194000 3.93753e+00 ⋯       0.8477330\n",
       "29    0.00108490  0.00662760  0.00454882 6.23156e-04 ⋯       0.3800280\n",
       "30    3.42970000  4.94331000  3.15085000 2.48598e+00 ⋯       9.8170900\n",
       "⋮    ⋮           ⋮           ⋮           ⋮           ⋱     ⋮          \n",
       "3971  0.3804330   0.3782080   0.3425740    0.3553370 ⋯      0.4179040 \n",
       "3972  6.1529500   9.9496200   5.8573400    6.3775100 ⋯      1.8183800 \n",
       "3973  0.0739555   0.0684872   0.0827165    0.0761512 ⋯      0.4389990 \n",
       "3974  0.0733102   0.0477580   0.0961911    0.0695935 ⋯      0.0845330 \n",
       "3975  9.8197700  11.3697000  10.7607000    9.7330300 ⋯      3.2920100 \n",
       "3976 11.2861000  18.2526000  14.7791000   17.8634000 ⋯      3.2086900 \n",
       "3977  0.1274810   0.2118770   0.0903983    0.0743812 ⋯      0.4393990 \n",
       "3978  5.0596200   3.1113000   3.3761200    5.3936900 ⋯      0.5149290 \n",
       "3979  0.2505770   0.4100870   0.2982330    0.1921330 ⋯      4.6515900 \n",
       "3980  7.2010000   2.7235800   6.0116400    6.3773800 ⋯      0.5166940 \n",
       "3981  2.4334800   2.4127900   3.7465200    3.1591800 ⋯      1.4395200 \n",
       "3982 11.7702000   7.2962000  11.0145000   13.8529000 ⋯      3.1889600 \n",
       "3983  0.0362153   0.2454450   0.1395500    0.0741855 ⋯      0.5016060 \n",
       "3984  1.9647100   1.0354800   3.3057000    2.5087200 ⋯      0.4531440 \n",
       "3985 12.8681000   3.7966300   9.9106100  155.3580000 ⋯      2.8435800 \n",
       "3986  2.2609600   1.1329300   0.3578850    2.8276600 ⋯      0.0614937 \n",
       "3987  0.2656880   0.2315500   0.2445090    0.0588480 ⋯      0.0277733 \n",
       "3988  0.1398020   0.2701370   0.4470550    0.3125050 ⋯      2.1023100 \n",
       "3989  0.9425630   0.5354830   0.6450500    1.5562400 ⋯      0.3637850 \n",
       "3990  1.9505300   2.8982800   2.2268600    2.2182400 ⋯      0.7888980 \n",
       "3991  3.2033800   3.4205300   2.0139700    3.7839300 ⋯      0.2478510 \n",
       "3992  0.5513140   2.5394900   0.8817460    1.8331900 ⋯      1.0457300 \n",
       "3993  0.3181080   0.7621650   0.4504600    0.4689910 ⋯      0.0283788 \n",
       "3994  1.6673600   4.4939000   1.6400100    0.7143000 ⋯     14.4880000 \n",
       "3995  3.3409500   2.9594600   3.9219000    3.5309900 ⋯      6.8726100 \n",
       "3996  0.2163350   0.6457580   0.4487720    0.5514520 ⋯      0.2715730 \n",
       "3997  1.7915100   1.7221100   1.4515900    1.6876800 ⋯      5.4966400 \n",
       "3998  0.0483369   0.0715703   0.0449360    0.0586531 ⋯      0.1842700 \n",
       "3999  6.6393100  13.8113000  10.1064000    3.1217300 ⋯      5.7963900 \n",
       "4000  0.1091410   0.3396030   0.3304750    0.2728110 ⋯      2.7190000 \n",
       "     [,13]       [,14]       [,15]       [,16]      [,17]       [,18]     \n",
       "1     0.17005300 7.49095e-02  0.1261430   0.1378540  0.08651550  0.1271200\n",
       "2     0.12767400 1.87957e+00  0.0423962   0.3732790  9.17706000  3.6197300\n",
       "3     0.14668400 8.71124e-02  0.1190030   0.1064270  0.13779800  0.1000270\n",
       "4     3.30177000 2.49368e+00  3.1400700   1.7334000  2.66997000  2.4107300\n",
       "5     0.08252660 5.64126e-01  0.2389670   0.4804310  0.45783700  0.2255850\n",
       "6     1.49705000 1.07655e+00  1.3024700   0.6612760  1.46767000  0.9679520\n",
       "7     0.97840400 1.05786e-01  0.9994720   1.0705500  1.14918000  1.2990400\n",
       "8     1.10601000 1.42998e+00  2.0936800   1.8374700  1.77327000  1.0125400\n",
       "9     0.85536200 9.86906e-01  1.0916500   0.4470510  1.44719000  1.5025100\n",
       "10    0.28724600 1.68938e-01  0.1741080   0.1509510  0.16482600  0.1707520\n",
       "11    3.95326000 3.54659e+00  3.1074900   4.0696700  3.05116000  2.9562400\n",
       "12    0.32203800 1.02815e-01  0.2746190   0.1997910  0.19725500  0.1854330\n",
       "13    0.60057200 7.50235e-01  0.5418490   0.1399810  0.41654600  0.4410090\n",
       "14    1.76117000 1.44287e+00  3.1764800   4.0181900  2.94075000  3.2451700\n",
       "15   11.35070000 9.12072e+00 14.2686000  11.8858000 12.87230000 14.3841000\n",
       "16    0.02789640 5.35906e-02  0.0702662   0.0644822  0.10163400  0.0318218\n",
       "17    1.84125000 1.89411e+00  1.7021400   1.4573900  1.81036000  1.6443200\n",
       "18    2.90420000 1.64754e+00  1.4256700   2.1748000  0.87779800  0.8194510\n",
       "19    0.30925100 4.13646e-01  0.3879600   0.4509610  0.30534100  0.3397260\n",
       "20    0.88456300 1.12310e+00  1.1685400   1.0441900  0.34193100  0.6792710\n",
       "21    0.04989850 1.23983e+00  0.2608320   0.4783150  0.02130410  0.4280000\n",
       "22    0.55933200 3.53037e-01  0.9790560   0.3007430  0.55631200  0.7223010\n",
       "23    0.45012200 3.90401e-01  0.4142090   0.3546340  0.36489700  0.3049830\n",
       "24    0.08509270 1.96832e-02  0.0442028   0.0460000  0.05153770  0.0377016\n",
       "25    8.21345000 1.42482e+02 26.5227000   5.2500300  0.00177695 18.2586000\n",
       "26    0.00862782 1.42254e-05  4.8744400   0.1069750 69.93440000  0.3714210\n",
       "27    3.71146000 3.51877e+00  6.2783400   4.5389700  2.02654000  5.4193100\n",
       "28    0.81861900 6.97920e-01  0.6701220   0.8197810  0.77539500  0.5974890\n",
       "29    0.23672400 2.94568e-02  0.0733895   1.2231600  0.17644100  0.0641566\n",
       "30   18.73900000 1.20863e+01 11.3349000  12.0752000 11.21490000 11.0724000\n",
       "⋮    ⋮           ⋮           ⋮           ⋮          ⋮           ⋮         \n",
       "3971  0.8982160   0.73803000  0.44952200  0.5428810  0.3465310   0.6208480\n",
       "3972  1.2769000   0.79464200  1.69507000  1.0034600  2.2204900   2.3975400\n",
       "3973  0.5667440   0.34630800  0.38473300  0.2808150  0.4998060   0.4578520\n",
       "3974  0.0486858   0.05196350  0.07403930  0.0679313  0.0611307   0.0704399\n",
       "3975  1.9209900   4.73482000  4.27097000  2.6933000  5.1033800   2.2786100\n",
       "3976  3.5103800   1.75876000  3.29074000  1.8971800  4.1091700   3.5198800\n",
       "3977  0.5068270   0.70745300  0.83421800  0.4479970  0.6809450   0.3749140\n",
       "3978  0.6982500   0.71880100  0.85210400  0.4718560  1.0561300   0.9232410\n",
       "3979  2.1898900   3.99070000  5.15938000  3.9491600  4.8876700   4.4541200\n",
       "3980  1.0552100   0.21570000  0.79861600  0.7422940  0.5408110   0.2579040\n",
       "3981  2.5385800   1.81098000  0.92666400  1.8306200  1.2489100   1.8487900\n",
       "3982  4.2805300   2.31819000  2.51608000  2.4207800  2.4745600   1.9076700\n",
       "3983  0.0857757   0.44484600  0.62930100  0.4469300  0.3167670   0.1305520\n",
       "3984  0.2882830   0.26071600  0.93262400  0.4569190  0.2527450   1.3534600\n",
       "3985  1.6101800   0.71354100  1.28941000  0.0109910  0.3306950   0.1074310\n",
       "3986  0.0161173   0.01072460  0.12423300  0.0101474  0.0107017   0.1199720\n",
       "3987  0.0727268   0.00743577  0.00334271  0.0289149  0.0164807   0.0265398\n",
       "3988  1.1734300   2.16039000  1.39788000  0.5465640  1.3691000   0.6442580\n",
       "3989  0.4302560   0.40385100  0.44757600  0.4848020  0.4371110   0.4603670\n",
       "3990  0.6649390   0.79913300  0.74046500  0.9030050  0.8017030   0.8691220\n",
       "3991  2.0612000   0.95839800  0.21227800  0.2485310  0.7807370   0.1902830\n",
       "3992  1.3632100   0.33088400  0.64653700  0.2960600  0.6423980   0.2248970\n",
       "3993  0.0305743   0.03390660  0.07148670  0.0718073  0.0798895   0.0403967\n",
       "3994 14.7524000  21.13380000 21.49440000 24.9582000 17.3198000  24.0736000\n",
       "3995  9.7798200   7.12369000  5.81963000  6.4027500  4.8978100   6.8982300\n",
       "3996  0.0856019   0.15783500  0.09399500  0.1853990  0.1262520   0.2229780\n",
       "3997  8.3775500   8.29606000  2.98947000  7.2285700  3.1153700  11.3776000\n",
       "3998  0.0856482   0.21692100  0.17393400  0.2150240  0.1226320   0.1307510\n",
       "3999  5.9089900   1.97878000  4.81328000  4.0168700  5.4371200   4.1900000\n",
       "4000  1.9152400   1.96288000  1.36328000  2.4062200  4.7071400   2.0743900\n",
       "     [,19]     [,20]       [,21]     \n",
       "1     0.165835 1.44682e-01  0.1410110\n",
       "2     0.454305 5.80874e-02 15.3991000\n",
       "3     0.141129 1.39910e-01  0.1886360\n",
       "4     3.006680 1.25171e+00  2.2657800\n",
       "5     0.342022 4.29637e-01  0.3567880\n",
       "6     1.353980 1.35424e+00  0.8419360\n",
       "7     0.308944 6.54926e-01  2.1406800\n",
       "8     1.614590 1.91275e+00  2.2079100\n",
       "9     0.323291 1.47856e+00  1.7211300\n",
       "10    0.108523 1.78860e-01  0.1309900\n",
       "11    2.289290 3.21602e+00  2.1492800\n",
       "12    0.506044 4.38802e-01  0.5738080\n",
       "13    0.116216 5.23768e-01  0.4158720\n",
       "14    3.373690 3.24430e+00  4.8806000\n",
       "15   11.211900 1.31310e+01 14.4648000\n",
       "16    0.137205 5.24307e-02  0.0340901\n",
       "17    1.931900 1.88831e+00  1.5126500\n",
       "18    1.493990 9.54587e-01  0.4138000\n",
       "19    0.388557 3.70751e-01  0.2693070\n",
       "20    0.505460 1.12443e+00  0.6935040\n",
       "21    0.237252 3.73180e-01  0.4678830\n",
       "22    0.578047 6.53827e-01  0.9143990\n",
       "23    0.412995 4.30317e-01  0.4157510\n",
       "24    0.046119 3.63042e-02  0.0424339\n",
       "25   21.621300 9.59951e+00 44.6577000\n",
       "26   19.393600 1.81460e-05  0.0136089\n",
       "27    3.409420 8.72475e+00 10.3600000\n",
       "28    0.667676 7.09676e-01  0.7708010\n",
       "29    0.248172 5.86237e-01  0.0958958\n",
       "30   12.363300 6.91227e+00  9.9567600\n",
       "⋮    ⋮         ⋮           ⋮         \n",
       "3971 0.5403960  0.7087280  0.32456000\n",
       "3972 2.0871800  3.1035200  2.33993000\n",
       "3973 0.3426330  0.3624220  0.53805000\n",
       "3974 0.0570832  0.0469378  0.07566700\n",
       "3975 3.8231000  3.6152000  5.62475000\n",
       "3976 2.5552300  2.4638700  0.89191300\n",
       "3977 0.5180170  0.1722980  0.37497000\n",
       "3978 0.6855390  0.4839840  0.40806200\n",
       "3979 5.7367900  4.3360000  5.12792000\n",
       "3980 0.4099100  0.3992340  0.64575100\n",
       "3981 1.2424500  1.9876700  1.58214000\n",
       "3982 2.7956500  2.3165100  2.03920000\n",
       "3983 0.4861380  0.5209710  0.58888600\n",
       "3984 0.9009460  0.1999220  0.13745700\n",
       "3985 0.9767120  0.3974020  0.09508210\n",
       "3986 0.7520120  0.0153141  0.03227290\n",
       "3987 0.0150722  0.0133504  0.00811101\n",
       "3988 1.2070500  2.2993300  1.32367000\n",
       "3989 0.4170970  0.2470350  0.33161100\n",
       "3990 0.7921460  0.6791880  0.91627200\n",
       "3991 0.6678440  0.7847240  0.73016600\n",
       "3992 0.1557840  0.4387900  0.14299500\n",
       "3993 0.0760493  0.0308786  0.07324230\n",
       "3994 7.3894500 12.3544000  3.10993000\n",
       "3995 6.3879000  6.1980100  5.40698000\n",
       "3996 0.2777800  0.0688352  0.20460200\n",
       "3997 5.0364900  8.4735100  5.46782000\n",
       "3998 0.1274870  0.1907590  0.11896400\n",
       "3999 4.2891600  3.1771600  4.93624000\n",
       "4000 3.3214000  3.6575400  5.00329000"
      ]
     },
     "metadata": {},
     "output_type": "display_data"
    }
   ],
   "source": [
    "post_draws"
   ]
  },
  {
   "cell_type": "code",
   "execution_count": 46,
   "metadata": {
    "vscode": {
     "languageId": "r"
    }
   },
   "outputs": [],
   "source": [
    "N = 1000"
   ]
  },
  {
   "cell_type": "code",
   "execution_count": 47,
   "metadata": {
    "vscode": {
     "languageId": "r"
    }
   },
   "outputs": [],
   "source": [
    "dat <- data.frame(id=as.numeric(), pred=as.numeric())"
   ]
  },
  {
   "cell_type": "code",
   "execution_count": 50,
   "metadata": {
    "vscode": {
     "languageId": "r"
    }
   },
   "outputs": [
    {
     "data": {
      "text/html": [
       "<table class=\"dataframe\">\n",
       "<caption>A data.frame: 160000 × 3</caption>\n",
       "<thead>\n",
       "\t<tr><th scope=col>id</th><th scope=col>x</th><th scope=col>y</th></tr>\n",
       "\t<tr><th scope=col>&lt;int&gt;</th><th scope=col>&lt;int&gt;</th><th scope=col>&lt;dbl&gt;</th></tr>\n",
       "</thead>\n",
       "<tbody>\n",
       "\t<tr><td>1</td><td> 1</td><td>0.140000000</td></tr>\n",
       "\t<tr><td>1</td><td> 2</td><td>0.073333333</td></tr>\n",
       "\t<tr><td>1</td><td> 3</td><td>0.053333333</td></tr>\n",
       "\t<tr><td>1</td><td> 4</td><td>0.046666667</td></tr>\n",
       "\t<tr><td>1</td><td> 5</td><td>0.040000000</td></tr>\n",
       "\t<tr><td>1</td><td> 6</td><td>0.026666667</td></tr>\n",
       "\t<tr><td>1</td><td> 7</td><td>0.026666667</td></tr>\n",
       "\t<tr><td>1</td><td> 8</td><td>0.026666667</td></tr>\n",
       "\t<tr><td>1</td><td> 9</td><td>0.026666667</td></tr>\n",
       "\t<tr><td>1</td><td>10</td><td>0.020000000</td></tr>\n",
       "\t<tr><td>1</td><td>11</td><td>0.020000000</td></tr>\n",
       "\t<tr><td>1</td><td>12</td><td>0.020000000</td></tr>\n",
       "\t<tr><td>1</td><td>13</td><td>0.013333333</td></tr>\n",
       "\t<tr><td>1</td><td>14</td><td>0.006666667</td></tr>\n",
       "\t<tr><td>1</td><td>15</td><td>0.000000000</td></tr>\n",
       "\t<tr><td>1</td><td>16</td><td>0.000000000</td></tr>\n",
       "\t<tr><td>1</td><td>17</td><td>0.000000000</td></tr>\n",
       "\t<tr><td>1</td><td>18</td><td>0.000000000</td></tr>\n",
       "\t<tr><td>1</td><td>19</td><td>0.000000000</td></tr>\n",
       "\t<tr><td>1</td><td>20</td><td>0.000000000</td></tr>\n",
       "\t<tr><td>1</td><td>21</td><td>0.000000000</td></tr>\n",
       "\t<tr><td>1</td><td>22</td><td>0.000000000</td></tr>\n",
       "\t<tr><td>1</td><td>23</td><td>0.000000000</td></tr>\n",
       "\t<tr><td>1</td><td>24</td><td>0.000000000</td></tr>\n",
       "\t<tr><td>1</td><td>25</td><td>0.000000000</td></tr>\n",
       "\t<tr><td>1</td><td>26</td><td>0.000000000</td></tr>\n",
       "\t<tr><td>1</td><td>27</td><td>0.000000000</td></tr>\n",
       "\t<tr><td>1</td><td>28</td><td>0.000000000</td></tr>\n",
       "\t<tr><td>1</td><td>29</td><td>0.000000000</td></tr>\n",
       "\t<tr><td>1</td><td>30</td><td>0.000000000</td></tr>\n",
       "\t<tr><td>⋮</td><td>⋮</td><td>⋮</td></tr>\n",
       "\t<tr><td>1000</td><td>131</td><td>0.01333333</td></tr>\n",
       "\t<tr><td>1000</td><td>132</td><td>0.01333333</td></tr>\n",
       "\t<tr><td>1000</td><td>133</td><td>0.01333333</td></tr>\n",
       "\t<tr><td>1000</td><td>134</td><td>0.01333333</td></tr>\n",
       "\t<tr><td>1000</td><td>135</td><td>0.01333333</td></tr>\n",
       "\t<tr><td>1000</td><td>136</td><td>0.01333333</td></tr>\n",
       "\t<tr><td>1000</td><td>137</td><td>0.01333333</td></tr>\n",
       "\t<tr><td>1000</td><td>138</td><td>0.01333333</td></tr>\n",
       "\t<tr><td>1000</td><td>139</td><td>0.01333333</td></tr>\n",
       "\t<tr><td>1000</td><td>140</td><td>0.01333333</td></tr>\n",
       "\t<tr><td>1000</td><td>141</td><td>0.01333333</td></tr>\n",
       "\t<tr><td>1000</td><td>142</td><td>0.01333333</td></tr>\n",
       "\t<tr><td>1000</td><td>143</td><td>0.01333333</td></tr>\n",
       "\t<tr><td>1000</td><td>144</td><td>0.01333333</td></tr>\n",
       "\t<tr><td>1000</td><td>145</td><td>0.01333333</td></tr>\n",
       "\t<tr><td>1000</td><td>146</td><td>0.01333333</td></tr>\n",
       "\t<tr><td>1000</td><td>147</td><td>0.01333333</td></tr>\n",
       "\t<tr><td>1000</td><td>148</td><td>0.01333333</td></tr>\n",
       "\t<tr><td>1000</td><td>149</td><td>0.01333333</td></tr>\n",
       "\t<tr><td>1000</td><td>150</td><td>0.01333333</td></tr>\n",
       "\t<tr><td>1000</td><td>151</td><td>0.01333333</td></tr>\n",
       "\t<tr><td>1000</td><td>152</td><td>0.01333333</td></tr>\n",
       "\t<tr><td>1000</td><td>153</td><td>0.01333333</td></tr>\n",
       "\t<tr><td>1000</td><td>154</td><td>0.01333333</td></tr>\n",
       "\t<tr><td>1000</td><td>155</td><td>0.01333333</td></tr>\n",
       "\t<tr><td>1000</td><td>156</td><td>0.01333333</td></tr>\n",
       "\t<tr><td>1000</td><td>157</td><td>0.01333333</td></tr>\n",
       "\t<tr><td>1000</td><td>158</td><td>0.01333333</td></tr>\n",
       "\t<tr><td>1000</td><td>159</td><td>0.01333333</td></tr>\n",
       "\t<tr><td>1000</td><td>160</td><td>0.01333333</td></tr>\n",
       "</tbody>\n",
       "</table>\n"
      ],
      "text/latex": [
       "A data.frame: 160000 × 3\n",
       "\\begin{tabular}{lll}\n",
       " id & x & y\\\\\n",
       " <int> & <int> & <dbl>\\\\\n",
       "\\hline\n",
       "\t 1 &  1 & 0.140000000\\\\\n",
       "\t 1 &  2 & 0.073333333\\\\\n",
       "\t 1 &  3 & 0.053333333\\\\\n",
       "\t 1 &  4 & 0.046666667\\\\\n",
       "\t 1 &  5 & 0.040000000\\\\\n",
       "\t 1 &  6 & 0.026666667\\\\\n",
       "\t 1 &  7 & 0.026666667\\\\\n",
       "\t 1 &  8 & 0.026666667\\\\\n",
       "\t 1 &  9 & 0.026666667\\\\\n",
       "\t 1 & 10 & 0.020000000\\\\\n",
       "\t 1 & 11 & 0.020000000\\\\\n",
       "\t 1 & 12 & 0.020000000\\\\\n",
       "\t 1 & 13 & 0.013333333\\\\\n",
       "\t 1 & 14 & 0.006666667\\\\\n",
       "\t 1 & 15 & 0.000000000\\\\\n",
       "\t 1 & 16 & 0.000000000\\\\\n",
       "\t 1 & 17 & 0.000000000\\\\\n",
       "\t 1 & 18 & 0.000000000\\\\\n",
       "\t 1 & 19 & 0.000000000\\\\\n",
       "\t 1 & 20 & 0.000000000\\\\\n",
       "\t 1 & 21 & 0.000000000\\\\\n",
       "\t 1 & 22 & 0.000000000\\\\\n",
       "\t 1 & 23 & 0.000000000\\\\\n",
       "\t 1 & 24 & 0.000000000\\\\\n",
       "\t 1 & 25 & 0.000000000\\\\\n",
       "\t 1 & 26 & 0.000000000\\\\\n",
       "\t 1 & 27 & 0.000000000\\\\\n",
       "\t 1 & 28 & 0.000000000\\\\\n",
       "\t 1 & 29 & 0.000000000\\\\\n",
       "\t 1 & 30 & 0.000000000\\\\\n",
       "\t ⋮ & ⋮ & ⋮\\\\\n",
       "\t 1000 & 131 & 0.01333333\\\\\n",
       "\t 1000 & 132 & 0.01333333\\\\\n",
       "\t 1000 & 133 & 0.01333333\\\\\n",
       "\t 1000 & 134 & 0.01333333\\\\\n",
       "\t 1000 & 135 & 0.01333333\\\\\n",
       "\t 1000 & 136 & 0.01333333\\\\\n",
       "\t 1000 & 137 & 0.01333333\\\\\n",
       "\t 1000 & 138 & 0.01333333\\\\\n",
       "\t 1000 & 139 & 0.01333333\\\\\n",
       "\t 1000 & 140 & 0.01333333\\\\\n",
       "\t 1000 & 141 & 0.01333333\\\\\n",
       "\t 1000 & 142 & 0.01333333\\\\\n",
       "\t 1000 & 143 & 0.01333333\\\\\n",
       "\t 1000 & 144 & 0.01333333\\\\\n",
       "\t 1000 & 145 & 0.01333333\\\\\n",
       "\t 1000 & 146 & 0.01333333\\\\\n",
       "\t 1000 & 147 & 0.01333333\\\\\n",
       "\t 1000 & 148 & 0.01333333\\\\\n",
       "\t 1000 & 149 & 0.01333333\\\\\n",
       "\t 1000 & 150 & 0.01333333\\\\\n",
       "\t 1000 & 151 & 0.01333333\\\\\n",
       "\t 1000 & 152 & 0.01333333\\\\\n",
       "\t 1000 & 153 & 0.01333333\\\\\n",
       "\t 1000 & 154 & 0.01333333\\\\\n",
       "\t 1000 & 155 & 0.01333333\\\\\n",
       "\t 1000 & 156 & 0.01333333\\\\\n",
       "\t 1000 & 157 & 0.01333333\\\\\n",
       "\t 1000 & 158 & 0.01333333\\\\\n",
       "\t 1000 & 159 & 0.01333333\\\\\n",
       "\t 1000 & 160 & 0.01333333\\\\\n",
       "\\end{tabular}\n"
      ],
      "text/markdown": [
       "\n",
       "A data.frame: 160000 × 3\n",
       "\n",
       "| id &lt;int&gt; | x &lt;int&gt; | y &lt;dbl&gt; |\n",
       "|---|---|---|\n",
       "| 1 |  1 | 0.140000000 |\n",
       "| 1 |  2 | 0.073333333 |\n",
       "| 1 |  3 | 0.053333333 |\n",
       "| 1 |  4 | 0.046666667 |\n",
       "| 1 |  5 | 0.040000000 |\n",
       "| 1 |  6 | 0.026666667 |\n",
       "| 1 |  7 | 0.026666667 |\n",
       "| 1 |  8 | 0.026666667 |\n",
       "| 1 |  9 | 0.026666667 |\n",
       "| 1 | 10 | 0.020000000 |\n",
       "| 1 | 11 | 0.020000000 |\n",
       "| 1 | 12 | 0.020000000 |\n",
       "| 1 | 13 | 0.013333333 |\n",
       "| 1 | 14 | 0.006666667 |\n",
       "| 1 | 15 | 0.000000000 |\n",
       "| 1 | 16 | 0.000000000 |\n",
       "| 1 | 17 | 0.000000000 |\n",
       "| 1 | 18 | 0.000000000 |\n",
       "| 1 | 19 | 0.000000000 |\n",
       "| 1 | 20 | 0.000000000 |\n",
       "| 1 | 21 | 0.000000000 |\n",
       "| 1 | 22 | 0.000000000 |\n",
       "| 1 | 23 | 0.000000000 |\n",
       "| 1 | 24 | 0.000000000 |\n",
       "| 1 | 25 | 0.000000000 |\n",
       "| 1 | 26 | 0.000000000 |\n",
       "| 1 | 27 | 0.000000000 |\n",
       "| 1 | 28 | 0.000000000 |\n",
       "| 1 | 29 | 0.000000000 |\n",
       "| 1 | 30 | 0.000000000 |\n",
       "| ⋮ | ⋮ | ⋮ |\n",
       "| 1000 | 131 | 0.01333333 |\n",
       "| 1000 | 132 | 0.01333333 |\n",
       "| 1000 | 133 | 0.01333333 |\n",
       "| 1000 | 134 | 0.01333333 |\n",
       "| 1000 | 135 | 0.01333333 |\n",
       "| 1000 | 136 | 0.01333333 |\n",
       "| 1000 | 137 | 0.01333333 |\n",
       "| 1000 | 138 | 0.01333333 |\n",
       "| 1000 | 139 | 0.01333333 |\n",
       "| 1000 | 140 | 0.01333333 |\n",
       "| 1000 | 141 | 0.01333333 |\n",
       "| 1000 | 142 | 0.01333333 |\n",
       "| 1000 | 143 | 0.01333333 |\n",
       "| 1000 | 144 | 0.01333333 |\n",
       "| 1000 | 145 | 0.01333333 |\n",
       "| 1000 | 146 | 0.01333333 |\n",
       "| 1000 | 147 | 0.01333333 |\n",
       "| 1000 | 148 | 0.01333333 |\n",
       "| 1000 | 149 | 0.01333333 |\n",
       "| 1000 | 150 | 0.01333333 |\n",
       "| 1000 | 151 | 0.01333333 |\n",
       "| 1000 | 152 | 0.01333333 |\n",
       "| 1000 | 153 | 0.01333333 |\n",
       "| 1000 | 154 | 0.01333333 |\n",
       "| 1000 | 155 | 0.01333333 |\n",
       "| 1000 | 156 | 0.01333333 |\n",
       "| 1000 | 157 | 0.01333333 |\n",
       "| 1000 | 158 | 0.01333333 |\n",
       "| 1000 | 159 | 0.01333333 |\n",
       "| 1000 | 160 | 0.01333333 |\n",
       "\n"
      ],
      "text/plain": [
       "       id   x   y          \n",
       "1      1     1  0.140000000\n",
       "2      1     2  0.073333333\n",
       "3      1     3  0.053333333\n",
       "4      1     4  0.046666667\n",
       "5      1     5  0.040000000\n",
       "6      1     6  0.026666667\n",
       "7      1     7  0.026666667\n",
       "8      1     8  0.026666667\n",
       "9      1     9  0.026666667\n",
       "10     1    10  0.020000000\n",
       "11     1    11  0.020000000\n",
       "12     1    12  0.020000000\n",
       "13     1    13  0.013333333\n",
       "14     1    14  0.006666667\n",
       "15     1    15  0.000000000\n",
       "16     1    16  0.000000000\n",
       "17     1    17  0.000000000\n",
       "18     1    18  0.000000000\n",
       "19     1    19  0.000000000\n",
       "20     1    20  0.000000000\n",
       "21     1    21  0.000000000\n",
       "22     1    22  0.000000000\n",
       "23     1    23  0.000000000\n",
       "24     1    24  0.000000000\n",
       "25     1    25  0.000000000\n",
       "26     1    26  0.000000000\n",
       "27     1    27  0.000000000\n",
       "28     1    28  0.000000000\n",
       "29     1    29  0.000000000\n",
       "30     1    30  0.000000000\n",
       "⋮      ⋮    ⋮   ⋮          \n",
       "159971 1000 131 0.01333333 \n",
       "159972 1000 132 0.01333333 \n",
       "159973 1000 133 0.01333333 \n",
       "159974 1000 134 0.01333333 \n",
       "159975 1000 135 0.01333333 \n",
       "159976 1000 136 0.01333333 \n",
       "159977 1000 137 0.01333333 \n",
       "159978 1000 138 0.01333333 \n",
       "159979 1000 139 0.01333333 \n",
       "159980 1000 140 0.01333333 \n",
       "159981 1000 141 0.01333333 \n",
       "159982 1000 142 0.01333333 \n",
       "159983 1000 143 0.01333333 \n",
       "159984 1000 144 0.01333333 \n",
       "159985 1000 145 0.01333333 \n",
       "159986 1000 146 0.01333333 \n",
       "159987 1000 147 0.01333333 \n",
       "159988 1000 148 0.01333333 \n",
       "159989 1000 149 0.01333333 \n",
       "159990 1000 150 0.01333333 \n",
       "159991 1000 151 0.01333333 \n",
       "159992 1000 152 0.01333333 \n",
       "159993 1000 153 0.01333333 \n",
       "159994 1000 154 0.01333333 \n",
       "159995 1000 155 0.01333333 \n",
       "159996 1000 156 0.01333333 \n",
       "159997 1000 157 0.01333333 \n",
       "159998 1000 158 0.01333333 \n",
       "159999 1000 159 0.01333333 \n",
       "160000 1000 160 0.01333333 "
      ]
     },
     "metadata": {},
     "output_type": "display_data"
    }
   ],
   "source": [
    "dat"
   ]
  },
  {
   "cell_type": "code",
   "execution_count": 27,
   "metadata": {
    "vscode": {
     "languageId": "r"
    }
   },
   "outputs": [
    {
     "name": "stderr",
     "output_type": "stream",
     "text": [
      "\n",
      "Attaching package: ‘mltools’\n",
      "\n",
      "\n",
      "The following object is masked from ‘package:tidyr’:\n",
      "\n",
      "    replace_na\n",
      "\n",
      "\n"
     ]
    }
   ],
   "source": [
    "library(tidybayes)\n",
    "library(mltools)"
   ]
  },
  {
   "cell_type": "code",
   "execution_count": 49,
   "metadata": {
    "vscode": {
     "languageId": "r"
    }
   },
   "outputs": [],
   "source": [
    "for (i in 1:N){\n",
    "    obj <- empirical_cdf(post_draws[i,], ubounds=1:160)\n",
    "    obj <- 1-obj$CDF\n",
    "    obj <- data.frame(id=rep(i, 160), x=seq(1,160), y=obj)\n",
    "    dat <- rbind(dat, obj)\n",
    "}"
   ]
  },
  {
   "cell_type": "code",
   "execution_count": 60,
   "metadata": {
    "vscode": {
     "languageId": "r"
    }
   },
   "outputs": [
    {
     "name": "stderr",
     "output_type": "stream",
     "text": [
      "Warning message:\n",
      "“Removed 1 rows containing missing values (stat_slabinterval).”\n"
     ]
    },
    {
     "data": {
      "image/png": "[encoded data removed]",
      "text/plain": [
       "plot without title"
      ]
     },
     "metadata": {
      "image/png": {
       "height": 420,
       "width": 420
      }
     },
     "output_type": "display_data"
    }
   ],
   "source": [
    "dat %>%\n",
    "    ggplot(aes(x=x, y=y)) +\n",
    "    stat_lineribbon(aes(y=y), .width=c(.95, .5), color= \"#089c34\") +\n",
    "    theme_bw() + labs(x=\"Time (Weeks)\", y=\"Survival Probability\") +\n",
    "    xlim(c(0,50))"
   ]
  }
 ],
 "metadata": {
  "kernelspec": {
   "display_name": "R",
   "language": "R",
   "name": "ir"
  },
  "language_info": {
   "codemirror_mode": "r",
   "file_extension": ".r",
   "mimetype": "text/x-r-source",
   "name": "R",
   "pygments_lexer": "r",
   "version": "4.2.1"
  },
  "orig_nbformat": 4
 },
 "nbformat": 4,
 "nbformat_minor": 2
}
