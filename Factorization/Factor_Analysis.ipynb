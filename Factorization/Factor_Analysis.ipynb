{
 "cells": [
  {
   "attachments": {},
   "cell_type": "markdown",
   "metadata": {},
   "source": [
    "## [Fitting a Bayesian Factor Analysis Model in Stan](https://rfarouni.github.io/assets/projects/BayesianFactorAnalysis/BayesianFactorAnalysis.html)"
   ]
  },
  {
   "attachments": {},
   "cell_type": "markdown",
   "metadata": {},
   "source": [
    "$$y^T=(y_1,y_2, ..., y_p)$$\n",
    "$$y=\\Lambda \\theta + \\epsilon$$"
   ]
  },
  {
   "attachments": {},
   "cell_type": "markdown",
   "metadata": {},
   "source": [
    "$$\\Lambda=\n",
    "\\begin{bmatrix}\n",
    "\\lambda_{1,1} & \\lambda_{1,2} & \\dots & \\lambda_{1,D}\\\\\n",
    "\\lambda_{2,1} & \\lambda_{2,2} & \\dots & \\lambda_{2,D}\\\\\n",
    "\\vdots & \\vdots & \\vdots & \\vdots\\\\\n",
    "\\lambda_{p,1} & \\lambda_{p,2} & \\dots & \\lambda_{p,D}\\\\\n",
    "\\end{bmatrix}$$"
   ]
  },
  {
   "attachments": {},
   "cell_type": "markdown",
   "metadata": {},
   "source": [
    "$$\\Phi_D = \n",
    "\\begin{bmatrix}\n",
    "1 & \\varphi_{1,2} & \\dots & \\varphi_{1,D}\\\\\n",
    "\\varphi_{2,1} & 1 & \\dots & \\varphi_{2,D}\\\\\n",
    "\\vdots & \\vdots & \\vdots & \\vdots\\\\\n",
    "\\varphi_{D,1} & \\dots &\\varphi_{D,D-1} & 1\\\\\n",
    "\\end{bmatrix}$$"
   ]
  },
  {
   "attachments": {},
   "cell_type": "markdown",
   "metadata": {},
   "source": [
    "$$\\Psi_P = \n",
    "\\begin{bmatrix}\n",
    "\\psi_1 & 0 & \\dots & 0\\\\\n",
    "0 & \\psi_2 & \\dots & 0\\\\\n",
    "\\vdots & \\vdots & \\vdots & \\vdots\\\\\n",
    "0 & \\dots &0 & \\psi_P\\\\\n",
    "\\end{bmatrix}$$"
   ]
  },
  {
   "attachments": {},
   "cell_type": "markdown",
   "metadata": {},
   "source": [
    "$$y\\sim Normaal_P(0, \\Lambda\\Phi\\Lambda^T+\\Psi)$$"
   ]
  },
  {
   "attachments": {},
   "cell_type": "markdown",
   "metadata": {},
   "source": [
    "$$p(\\Theta,\\Lambda,\\tilde{\\xi},\\Phi|Y)\\propto \\left[ \\prod _{i=1}^N p(y_i|\\theta_i,\\Lambda)\\right] \\left[ \\prod _{i=1}^{N} p(\\theta_i|\\Phi) \\right]p(\\Lambda|\\tilde{\\xi})p(\\Phi)p(\\tilde{\\xi})$$"
   ]
  },
  {
   "attachments": {},
   "cell_type": "markdown",
   "metadata": {},
   "source": [
    "### Simulating Data"
   ]
  },
  {
   "cell_type": "code",
   "execution_count": 1,
   "metadata": {
    "vscode": {
     "languageId": "r"
    }
   },
   "outputs": [],
   "source": [
    "library(MASS)"
   ]
  },
  {
   "cell_type": "code",
   "execution_count": 2,
   "metadata": {
    "vscode": {
     "languageId": "r"
    }
   },
   "outputs": [],
   "source": [
    "D <- 3\n",
    "P <- 10\n",
    "N <- 300"
   ]
  },
  {
   "cell_type": "code",
   "execution_count": 3,
   "metadata": {
    "vscode": {
     "languageId": "r"
    }
   },
   "outputs": [],
   "source": [
    "mu_theta = rep(0, D)\n",
    "mu_epsilon = rep(0, P)"
   ]
  },
  {
   "cell_type": "code",
   "execution_count": 4,
   "metadata": {
    "vscode": {
     "languageId": "r"
    }
   },
   "outputs": [],
   "source": [
    "Phi <- diag(rep(1,D))\n",
    "Psi <- diag(c(0.2079, 0.19, 0.1525, 0.20, 0.36, 0.1875, 0.1875, 1.00, 0.27, 0.27))"
   ]
  },
  {
   "cell_type": "code",
   "execution_count": 5,
   "metadata": {
    "vscode": {
     "languageId": "r"
    }
   },
   "outputs": [],
   "source": [
    "l1 <- c(0.99, 0.00, 0.25, 0.00, 0.80, 0.00, 0.50, 0.00, 0.00, 0.00)\n",
    "l2 <- c(0.00, 0.90, 0.25, 0.40, 0.00, 0.50, 0.00, 0.00, -0.30, -0.30)\n",
    "l3<-  c(0.00, 0.00, 0.85, 0.80, 0.00, 0.75, 0.75, 0.00, 0.80, 0.80)\n",
    "L = cbind(l1,l2,l3)"
   ]
  },
  {
   "cell_type": "code",
   "execution_count": 6,
   "metadata": {
    "vscode": {
     "languageId": "r"
    }
   },
   "outputs": [
    {
     "data": {
      "text/html": [
       "<table class=\"dataframe\">\n",
       "<caption>A matrix: 10 × 3 of type dbl</caption>\n",
       "<thead>\n",
       "\t<tr><th scope=col>l1</th><th scope=col>l2</th><th scope=col>l3</th></tr>\n",
       "</thead>\n",
       "<tbody>\n",
       "\t<tr><td>0.99</td><td> 0.00</td><td>0.00</td></tr>\n",
       "\t<tr><td>0.00</td><td> 0.90</td><td>0.00</td></tr>\n",
       "\t<tr><td>0.25</td><td> 0.25</td><td>0.85</td></tr>\n",
       "\t<tr><td>0.00</td><td> 0.40</td><td>0.80</td></tr>\n",
       "\t<tr><td>0.80</td><td> 0.00</td><td>0.00</td></tr>\n",
       "\t<tr><td>0.00</td><td> 0.50</td><td>0.75</td></tr>\n",
       "\t<tr><td>0.50</td><td> 0.00</td><td>0.75</td></tr>\n",
       "\t<tr><td>0.00</td><td> 0.00</td><td>0.00</td></tr>\n",
       "\t<tr><td>0.00</td><td>-0.30</td><td>0.80</td></tr>\n",
       "\t<tr><td>0.00</td><td>-0.30</td><td>0.80</td></tr>\n",
       "</tbody>\n",
       "</table>\n"
      ],
      "text/latex": [
       "A matrix: 10 × 3 of type dbl\n",
       "\\begin{tabular}{lll}\n",
       " l1 & l2 & l3\\\\\n",
       "\\hline\n",
       "\t 0.99 &  0.00 & 0.00\\\\\n",
       "\t 0.00 &  0.90 & 0.00\\\\\n",
       "\t 0.25 &  0.25 & 0.85\\\\\n",
       "\t 0.00 &  0.40 & 0.80\\\\\n",
       "\t 0.80 &  0.00 & 0.00\\\\\n",
       "\t 0.00 &  0.50 & 0.75\\\\\n",
       "\t 0.50 &  0.00 & 0.75\\\\\n",
       "\t 0.00 &  0.00 & 0.00\\\\\n",
       "\t 0.00 & -0.30 & 0.80\\\\\n",
       "\t 0.00 & -0.30 & 0.80\\\\\n",
       "\\end{tabular}\n"
      ],
      "text/markdown": [
       "\n",
       "A matrix: 10 × 3 of type dbl\n",
       "\n",
       "| l1 | l2 | l3 |\n",
       "|---|---|---|\n",
       "| 0.99 |  0.00 | 0.00 |\n",
       "| 0.00 |  0.90 | 0.00 |\n",
       "| 0.25 |  0.25 | 0.85 |\n",
       "| 0.00 |  0.40 | 0.80 |\n",
       "| 0.80 |  0.00 | 0.00 |\n",
       "| 0.00 |  0.50 | 0.75 |\n",
       "| 0.50 |  0.00 | 0.75 |\n",
       "| 0.00 |  0.00 | 0.00 |\n",
       "| 0.00 | -0.30 | 0.80 |\n",
       "| 0.00 | -0.30 | 0.80 |\n",
       "\n"
      ],
      "text/plain": [
       "      l1   l2    l3  \n",
       " [1,] 0.99  0.00 0.00\n",
       " [2,] 0.00  0.90 0.00\n",
       " [3,] 0.25  0.25 0.85\n",
       " [4,] 0.00  0.40 0.80\n",
       " [5,] 0.80  0.00 0.00\n",
       " [6,] 0.00  0.50 0.75\n",
       " [7,] 0.50  0.00 0.75\n",
       " [8,] 0.00  0.00 0.00\n",
       " [9,] 0.00 -0.30 0.80\n",
       "[10,] 0.00 -0.30 0.80"
      ]
     },
     "metadata": {},
     "output_type": "display_data"
    }
   ],
   "source": [
    "L"
   ]
  }
 ],
 "metadata": {
  "kernelspec": {
   "display_name": "R",
   "language": "R",
   "name": "ir"
  },
  "language_info": {
   "codemirror_mode": "r",
   "file_extension": ".r",
   "mimetype": "text/x-r-source",
   "name": "R",
   "pygments_lexer": "r",
   "version": "4.2.2"
  },
  "orig_nbformat": 4
 },
 "nbformat": 4,
 "nbformat_minor": 2
}
