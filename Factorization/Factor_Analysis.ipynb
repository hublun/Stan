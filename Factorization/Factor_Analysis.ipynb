{
 "cells": [
  {
   "attachments": {},
   "cell_type": "markdown",
   "metadata": {},
   "source": [
    "## [Fitting a Bayesian Factor Analysis Model in Stan](https://rfarouni.github.io/assets/projects/BayesianFactorAnalysis/BayesianFactorAnalysis.html)"
   ]
  },
  {
   "attachments": {},
   "cell_type": "markdown",
   "metadata": {},
   "source": [
    "$$y^T=(y_1,y_2, ..., y_p)$$\n",
    "$$y=\\Lambda \\theta + \\epsilon$$"
   ]
  },
  {
   "attachments": {},
   "cell_type": "markdown",
   "metadata": {},
   "source": [
    "$$\\Lambda=\n",
    "\\begin{bmatrix}\n",
    "\\lambda_{1,1} & \\lambda_{1,2} & \\dots & \\lambda_{1,D}\\\\\n",
    "\\lambda_{2,1} & \\lambda_{2,2} & \\dots & \\lambda_{2,D}\\\\\n",
    "\\vdots & \\vdots & \\vdots & \\vdots\\\\\n",
    "\\lambda_{p,1} & \\lambda_{p,2} & \\dots & \\lambda_{p,D}\\\\\n",
    "\\end{bmatrix}$$"
   ]
  },
  {
   "attachments": {},
   "cell_type": "markdown",
   "metadata": {},
   "source": [
    "$$\\Phi_D = \n",
    "\\begin{bmatrix}\n",
    "1 & \\varphi_{1,2} & \\dots & \\varphi_{1,D}\\\\\n",
    "\\varphi_{2,1} & 1 & \\dots & \\varphi_{2,D}\\\\\n",
    "\\vdots & \\vdots & \\vdots & \\vdots\\\\\n",
    "\\varphi_{D,1} & \\dots &\\varphi_{D,D-1} & 1\\\\\n",
    "\\end{bmatrix}$$"
   ]
  },
  {
   "attachments": {},
   "cell_type": "markdown",
   "metadata": {},
   "source": [
    "$$\\Psi_P = \n",
    "\\begin{bmatrix}\n",
    "\\psi_1 & 0 & \\dots & 0\\\\\n",
    "0 & \\psi_2 & \\dots & 0\\\\\n",
    "\\vdots & \\vdots & \\vdots & \\vdots\\\\\n",
    "0 & \\dots &0 & \\psi_P\\\\\n",
    "\\end{bmatrix}$$"
   ]
  },
  {
   "attachments": {},
   "cell_type": "markdown",
   "metadata": {},
   "source": [
    "$$y\\sim Normaal_P(0, \\Lambda\\Phi\\Lambda^T+\\Psi)$$"
   ]
  },
  {
   "attachments": {},
   "cell_type": "markdown",
   "metadata": {},
   "source": [
    "$$p(\\Theta,\\Lambda,\\tilde{\\xi},\\Phi|Y)\\propto \\left[ \\prod _{i=1}^N p(y_i|\\theta_i,\\Lambda)\\right] \\left[ \\prod _{i=1}^{N} p(\\theta_i|\\Phi) \\right]p(\\Lambda|\\tilde{\\xi})p(\\Phi)p(\\tilde{\\xi})$$"
   ]
  },
  {
   "attachments": {},
   "cell_type": "markdown",
   "metadata": {},
   "source": [
    "N D-dimensional latent vectors $\\Theta=(\\theta_1. \\theta_2, \\dots, theta_i, \\dots, \\theta_N)$\n",
    "$$p(\\Lambda,\\tilde{\\xi},\\Phi|Y)\\propto \\left[ \\prod _{i=1}^N \\int_{R_\\theta} p(y_i|\\theta_i,\\Lambda) p(\\theta_i|\\Phi) d\\theta \\right]p(\\Lambda|\\tilde{\\xi})p(\\Phi)p(\\tilde{\\xi})$$\n",
    "\n",
    "$y_i$ is a P-dimensional vector of responses for respondent i"
   ]
  },
  {
   "attachments": {},
   "cell_type": "markdown",
   "metadata": {},
   "source": [
    "### orthogonal rotation matrix T, where $T^TT=I$ and $\\lambda T^TT\\theta=\\Lambda\\theta$"
   ]
  },
  {
   "attachments": {},
   "cell_type": "markdown",
   "metadata": {},
   "source": [
    "### Simulating Data"
   ]
  },
  {
   "cell_type": "code",
   "execution_count": 1,
   "metadata": {
    "vscode": {
     "languageId": "r"
    }
   },
   "outputs": [],
   "source": [
    "library(MASS)"
   ]
  },
  {
   "cell_type": "code",
   "execution_count": 2,
   "metadata": {
    "vscode": {
     "languageId": "r"
    }
   },
   "outputs": [],
   "source": [
    "D <- 3\n",
    "P <- 10\n",
    "N <- 300"
   ]
  },
  {
   "cell_type": "code",
   "execution_count": 3,
   "metadata": {
    "vscode": {
     "languageId": "r"
    }
   },
   "outputs": [],
   "source": [
    "mu_theta = rep(0, D)\n",
    "mu_epsilon = rep(0, P)"
   ]
  },
  {
   "cell_type": "code",
   "execution_count": 4,
   "metadata": {
    "vscode": {
     "languageId": "r"
    }
   },
   "outputs": [],
   "source": [
    "Phi <- diag(rep(1,D))\n",
    "Psi <- diag(c(0.2079, 0.19, 0.1525, 0.20, 0.36, 0.1875, 0.1875, 1.00, 0.27, 0.27))"
   ]
  },
  {
   "cell_type": "code",
   "execution_count": 5,
   "metadata": {
    "vscode": {
     "languageId": "r"
    }
   },
   "outputs": [],
   "source": [
    "l1 <- c(0.99, 0.00, 0.25, 0.00, 0.80, 0.00, 0.50, 0.00, 0.00, 0.00)\n",
    "l2 <- c(0.00, 0.90, 0.25, 0.40, 0.00, 0.50, 0.00, 0.00, -0.30, -0.30)\n",
    "l3<-  c(0.00, 0.00, 0.85, 0.80, 0.00, 0.75, 0.75, 0.00, 0.80, 0.80)\n",
    "L = cbind(l1,l2,l3)"
   ]
  },
  {
   "cell_type": "code",
   "execution_count": 6,
   "metadata": {
    "vscode": {
     "languageId": "r"
    }
   },
   "outputs": [],
   "source": [
    "Theta <- mvrnorm(N, mu_theta, Phi)"
   ]
  },
  {
   "cell_type": "code",
   "execution_count": 7,
   "metadata": {
    "vscode": {
     "languageId": "r"
    }
   },
   "outputs": [],
   "source": [
    "Epsilon <- mvrnorm(N, mu_epsilon, Psi)"
   ]
  },
  {
   "cell_type": "code",
   "execution_count": 8,
   "metadata": {
    "vscode": {
     "languageId": "r"
    }
   },
   "outputs": [],
   "source": [
    "Y <- Theta %*% t(L) + Epsilon"
   ]
  },
  {
   "cell_type": "code",
   "execution_count": 9,
   "metadata": {
    "vscode": {
     "languageId": "r"
    }
   },
   "outputs": [
    {
     "data": {
      "text/html": [
       "<style>\n",
       ".list-inline {list-style: none; margin:0; padding: 0}\n",
       ".list-inline>li {display: inline-block}\n",
       ".list-inline>li:not(:last-child)::after {content: \"\\00b7\"; padding: 0 .5ex}\n",
       "</style>\n",
       "<ol class=list-inline><li>300</li><li>10</li></ol>\n"
      ],
      "text/latex": [
       "\\begin{enumerate*}\n",
       "\\item 300\n",
       "\\item 10\n",
       "\\end{enumerate*}\n"
      ],
      "text/markdown": [
       "1. 300\n",
       "2. 10\n",
       "\n",
       "\n"
      ],
      "text/plain": [
       "[1] 300  10"
      ]
     },
     "metadata": {},
     "output_type": "display_data"
    }
   ],
   "source": [
    "dim(Y)"
   ]
  },
  {
   "attachments": {},
   "cell_type": "markdown",
   "metadata": {},
   "source": [
    "### Visualization"
   ]
  },
  {
   "cell_type": "code",
   "execution_count": 10,
   "metadata": {
    "vscode": {
     "languageId": "r"
    }
   },
   "outputs": [],
   "source": [
    "library(rbokeh)"
   ]
  },
  {
   "cell_type": "code",
   "execution_count": 11,
   "metadata": {
    "vscode": {
     "languageId": "r"
    }
   },
   "outputs": [],
   "source": [
    "df <- data.frame(Y)"
   ]
  },
  {
   "cell_type": "code",
   "execution_count": 12,
   "metadata": {
    "vscode": {
     "languageId": "r"
    }
   },
   "outputs": [
    {
     "data": {
      "text/html": [
       "<style>\n",
       ".list-inline {list-style: none; margin:0; padding: 0}\n",
       ".list-inline>li {display: inline-block}\n",
       ".list-inline>li:not(:last-child)::after {content: \"\\00b7\"; padding: 0 .5ex}\n",
       "</style>\n",
       "<ol class=list-inline><li>'X1'</li><li>'X2'</li><li>'X3'</li><li>'X4'</li><li>'X5'</li><li>'X6'</li><li>'X7'</li><li>'X8'</li><li>'X9'</li><li>'X10'</li></ol>\n"
      ],
      "text/latex": [
       "\\begin{enumerate*}\n",
       "\\item 'X1'\n",
       "\\item 'X2'\n",
       "\\item 'X3'\n",
       "\\item 'X4'\n",
       "\\item 'X5'\n",
       "\\item 'X6'\n",
       "\\item 'X7'\n",
       "\\item 'X8'\n",
       "\\item 'X9'\n",
       "\\item 'X10'\n",
       "\\end{enumerate*}\n"
      ],
      "text/markdown": [
       "1. 'X1'\n",
       "2. 'X2'\n",
       "3. 'X3'\n",
       "4. 'X4'\n",
       "5. 'X5'\n",
       "6. 'X6'\n",
       "7. 'X7'\n",
       "8. 'X8'\n",
       "9. 'X9'\n",
       "10. 'X10'\n",
       "\n",
       "\n"
      ],
      "text/plain": [
       " [1] \"X1\"  \"X2\"  \"X3\"  \"X4\"  \"X5\"  \"X6\"  \"X7\"  \"X8\"  \"X9\"  \"X10\""
      ]
     },
     "metadata": {},
     "output_type": "display_data"
    }
   ],
   "source": [
    "names(df)[1:P]"
   ]
  },
  {
   "cell_type": "code",
   "execution_count": 13,
   "metadata": {
    "vscode": {
     "languageId": "r"
    }
   },
   "outputs": [],
   "source": [
    "tools <- c(\"pan\", \"wheel_zoom\", \"resize\", \"reset\")"
   ]
  },
  {
   "cell_type": "code",
   "execution_count": 14,
   "metadata": {
    "vscode": {
     "languageId": "r"
    }
   },
   "outputs": [],
   "source": [
    "nms <- expand.grid(names(df)[1:P], rev(names(df)[1:P]), stringsAsFactors = FALSE)"
   ]
  },
  {
   "cell_type": "code",
   "execution_count": 15,
   "metadata": {
    "vscode": {
     "languageId": "r"
    }
   },
   "outputs": [
    {
     "data": {
      "text/html": [
       "'X10'"
      ],
      "text/latex": [
       "'X10'"
      ],
      "text/markdown": [
       "'X10'"
      ],
      "text/plain": [
       "[1] \"X10\""
      ]
     },
     "metadata": {},
     "output_type": "display_data"
    }
   ],
   "source": [
    "nms$Var2[1]"
   ]
  },
  {
   "cell_type": "code",
   "execution_count": 16,
   "metadata": {
    "vscode": {
     "languageId": "r"
    }
   },
   "outputs": [
    {
     "data": {
      "text/html": [
       "<table class=\"dataframe\">\n",
       "<caption>A data.frame: 100 x 2</caption>\n",
       "<thead>\n",
       "\t<tr><th scope=col>Var1</th><th scope=col>Var2</th></tr>\n",
       "\t<tr><th scope=col>&lt;chr&gt;</th><th scope=col>&lt;chr&gt;</th></tr>\n",
       "</thead>\n",
       "<tbody>\n",
       "\t<tr><td>X1 </td><td>X10</td></tr>\n",
       "\t<tr><td>X2 </td><td>X10</td></tr>\n",
       "\t<tr><td>X3 </td><td>X10</td></tr>\n",
       "\t<tr><td>X4 </td><td>X10</td></tr>\n",
       "\t<tr><td>X5 </td><td>X10</td></tr>\n",
       "\t<tr><td>X6 </td><td>X10</td></tr>\n",
       "\t<tr><td>X7 </td><td>X10</td></tr>\n",
       "\t<tr><td>X8 </td><td>X10</td></tr>\n",
       "\t<tr><td>X9 </td><td>X10</td></tr>\n",
       "\t<tr><td>X10</td><td>X10</td></tr>\n",
       "\t<tr><td>X1 </td><td>X9 </td></tr>\n",
       "\t<tr><td>X2 </td><td>X9 </td></tr>\n",
       "\t<tr><td>X3 </td><td>X9 </td></tr>\n",
       "\t<tr><td>X4 </td><td>X9 </td></tr>\n",
       "\t<tr><td>X5 </td><td>X9 </td></tr>\n",
       "\t<tr><td>X6 </td><td>X9 </td></tr>\n",
       "\t<tr><td>X7 </td><td>X9 </td></tr>\n",
       "\t<tr><td>X8 </td><td>X9 </td></tr>\n",
       "\t<tr><td>X9 </td><td>X9 </td></tr>\n",
       "\t<tr><td>X10</td><td>X9 </td></tr>\n",
       "\t<tr><td>X1 </td><td>X8 </td></tr>\n",
       "\t<tr><td>X2 </td><td>X8 </td></tr>\n",
       "\t<tr><td>X3 </td><td>X8 </td></tr>\n",
       "\t<tr><td>X4 </td><td>X8 </td></tr>\n",
       "\t<tr><td>X5 </td><td>X8 </td></tr>\n",
       "\t<tr><td>X6 </td><td>X8 </td></tr>\n",
       "\t<tr><td>X7 </td><td>X8 </td></tr>\n",
       "\t<tr><td>X8 </td><td>X8 </td></tr>\n",
       "\t<tr><td>X9 </td><td>X8 </td></tr>\n",
       "\t<tr><td>X10</td><td>X8 </td></tr>\n",
       "\t<tr><td>...</td><td>...</td></tr>\n",
       "\t<tr><td>X1 </td><td>X3</td></tr>\n",
       "\t<tr><td>X2 </td><td>X3</td></tr>\n",
       "\t<tr><td>X3 </td><td>X3</td></tr>\n",
       "\t<tr><td>X4 </td><td>X3</td></tr>\n",
       "\t<tr><td>X5 </td><td>X3</td></tr>\n",
       "\t<tr><td>X6 </td><td>X3</td></tr>\n",
       "\t<tr><td>X7 </td><td>X3</td></tr>\n",
       "\t<tr><td>X8 </td><td>X3</td></tr>\n",
       "\t<tr><td>X9 </td><td>X3</td></tr>\n",
       "\t<tr><td>X10</td><td>X3</td></tr>\n",
       "\t<tr><td>X1 </td><td>X2</td></tr>\n",
       "\t<tr><td>X2 </td><td>X2</td></tr>\n",
       "\t<tr><td>X3 </td><td>X2</td></tr>\n",
       "\t<tr><td>X4 </td><td>X2</td></tr>\n",
       "\t<tr><td>X5 </td><td>X2</td></tr>\n",
       "\t<tr><td>X6 </td><td>X2</td></tr>\n",
       "\t<tr><td>X7 </td><td>X2</td></tr>\n",
       "\t<tr><td>X8 </td><td>X2</td></tr>\n",
       "\t<tr><td>X9 </td><td>X2</td></tr>\n",
       "\t<tr><td>X10</td><td>X2</td></tr>\n",
       "\t<tr><td>X1 </td><td>X1</td></tr>\n",
       "\t<tr><td>X2 </td><td>X1</td></tr>\n",
       "\t<tr><td>X3 </td><td>X1</td></tr>\n",
       "\t<tr><td>X4 </td><td>X1</td></tr>\n",
       "\t<tr><td>X5 </td><td>X1</td></tr>\n",
       "\t<tr><td>X6 </td><td>X1</td></tr>\n",
       "\t<tr><td>X7 </td><td>X1</td></tr>\n",
       "\t<tr><td>X8 </td><td>X1</td></tr>\n",
       "\t<tr><td>X9 </td><td>X1</td></tr>\n",
       "\t<tr><td>X10</td><td>X1</td></tr>\n",
       "</tbody>\n",
       "</table>\n"
      ],
      "text/latex": [
       "A data.frame: 100 x 2\n",
       "\\begin{tabular}{ll}\n",
       " Var1 & Var2\\\\\n",
       " <chr> & <chr>\\\\\n",
       "\\hline\n",
       "\t X1  & X10\\\\\n",
       "\t X2  & X10\\\\\n",
       "\t X3  & X10\\\\\n",
       "\t X4  & X10\\\\\n",
       "\t X5  & X10\\\\\n",
       "\t X6  & X10\\\\\n",
       "\t X7  & X10\\\\\n",
       "\t X8  & X10\\\\\n",
       "\t X9  & X10\\\\\n",
       "\t X10 & X10\\\\\n",
       "\t X1  & X9 \\\\\n",
       "\t X2  & X9 \\\\\n",
       "\t X3  & X9 \\\\\n",
       "\t X4  & X9 \\\\\n",
       "\t X5  & X9 \\\\\n",
       "\t X6  & X9 \\\\\n",
       "\t X7  & X9 \\\\\n",
       "\t X8  & X9 \\\\\n",
       "\t X9  & X9 \\\\\n",
       "\t X10 & X9 \\\\\n",
       "\t X1  & X8 \\\\\n",
       "\t X2  & X8 \\\\\n",
       "\t X3  & X8 \\\\\n",
       "\t X4  & X8 \\\\\n",
       "\t X5  & X8 \\\\\n",
       "\t X6  & X8 \\\\\n",
       "\t X7  & X8 \\\\\n",
       "\t X8  & X8 \\\\\n",
       "\t X9  & X8 \\\\\n",
       "\t X10 & X8 \\\\\n",
       "\t ... & ...\\\\\n",
       "\t X1  & X3\\\\\n",
       "\t X2  & X3\\\\\n",
       "\t X3  & X3\\\\\n",
       "\t X4  & X3\\\\\n",
       "\t X5  & X3\\\\\n",
       "\t X6  & X3\\\\\n",
       "\t X7  & X3\\\\\n",
       "\t X8  & X3\\\\\n",
       "\t X9  & X3\\\\\n",
       "\t X10 & X3\\\\\n",
       "\t X1  & X2\\\\\n",
       "\t X2  & X2\\\\\n",
       "\t X3  & X2\\\\\n",
       "\t X4  & X2\\\\\n",
       "\t X5  & X2\\\\\n",
       "\t X6  & X2\\\\\n",
       "\t X7  & X2\\\\\n",
       "\t X8  & X2\\\\\n",
       "\t X9  & X2\\\\\n",
       "\t X10 & X2\\\\\n",
       "\t X1  & X1\\\\\n",
       "\t X2  & X1\\\\\n",
       "\t X3  & X1\\\\\n",
       "\t X4  & X1\\\\\n",
       "\t X5  & X1\\\\\n",
       "\t X6  & X1\\\\\n",
       "\t X7  & X1\\\\\n",
       "\t X8  & X1\\\\\n",
       "\t X9  & X1\\\\\n",
       "\t X10 & X1\\\\\n",
       "\\end{tabular}\n"
      ],
      "text/markdown": [
       "\n",
       "A data.frame: 100 x 2\n",
       "\n",
       "| Var1 &lt;chr&gt; | Var2 &lt;chr&gt; |\n",
       "|---|---|\n",
       "| X1  | X10 |\n",
       "| X2  | X10 |\n",
       "| X3  | X10 |\n",
       "| X4  | X10 |\n",
       "| X5  | X10 |\n",
       "| X6  | X10 |\n",
       "| X7  | X10 |\n",
       "| X8  | X10 |\n",
       "| X9  | X10 |\n",
       "| X10 | X10 |\n",
       "| X1  | X9  |\n",
       "| X2  | X9  |\n",
       "| X3  | X9  |\n",
       "| X4  | X9  |\n",
       "| X5  | X9  |\n",
       "| X6  | X9  |\n",
       "| X7  | X9  |\n",
       "| X8  | X9  |\n",
       "| X9  | X9  |\n",
       "| X10 | X9  |\n",
       "| X1  | X8  |\n",
       "| X2  | X8  |\n",
       "| X3  | X8  |\n",
       "| X4  | X8  |\n",
       "| X5  | X8  |\n",
       "| X6  | X8  |\n",
       "| X7  | X8  |\n",
       "| X8  | X8  |\n",
       "| X9  | X8  |\n",
       "| X10 | X8  |\n",
       "| ... | ... |\n",
       "| X1  | X3 |\n",
       "| X2  | X3 |\n",
       "| X3  | X3 |\n",
       "| X4  | X3 |\n",
       "| X5  | X3 |\n",
       "| X6  | X3 |\n",
       "| X7  | X3 |\n",
       "| X8  | X3 |\n",
       "| X9  | X3 |\n",
       "| X10 | X3 |\n",
       "| X1  | X2 |\n",
       "| X2  | X2 |\n",
       "| X3  | X2 |\n",
       "| X4  | X2 |\n",
       "| X5  | X2 |\n",
       "| X6  | X2 |\n",
       "| X7  | X2 |\n",
       "| X8  | X2 |\n",
       "| X9  | X2 |\n",
       "| X10 | X2 |\n",
       "| X1  | X1 |\n",
       "| X2  | X1 |\n",
       "| X3  | X1 |\n",
       "| X4  | X1 |\n",
       "| X5  | X1 |\n",
       "| X6  | X1 |\n",
       "| X7  | X1 |\n",
       "| X8  | X1 |\n",
       "| X9  | X1 |\n",
       "| X10 | X1 |\n",
       "\n"
      ],
      "text/plain": [
       "    Var1 Var2\n",
       "1   X1   X10 \n",
       "2   X2   X10 \n",
       "3   X3   X10 \n",
       "4   X4   X10 \n",
       "5   X5   X10 \n",
       "6   X6   X10 \n",
       "7   X7   X10 \n",
       "8   X8   X10 \n",
       "9   X9   X10 \n",
       "10  X10  X10 \n",
       "11  X1   X9  \n",
       "12  X2   X9  \n",
       "13  X3   X9  \n",
       "14  X4   X9  \n",
       "15  X5   X9  \n",
       "16  X6   X9  \n",
       "17  X7   X9  \n",
       "18  X8   X9  \n",
       "19  X9   X9  \n",
       "20  X10  X9  \n",
       "21  X1   X8  \n",
       "22  X2   X8  \n",
       "23  X3   X8  \n",
       "24  X4   X8  \n",
       "25  X5   X8  \n",
       "26  X6   X8  \n",
       "27  X7   X8  \n",
       "28  X8   X8  \n",
       "29  X9   X8  \n",
       "30  X10  X8  \n",
       "... ...  ... \n",
       "71  X1   X3  \n",
       "72  X2   X3  \n",
       "73  X3   X3  \n",
       "74  X4   X3  \n",
       "75  X5   X3  \n",
       "76  X6   X3  \n",
       "77  X7   X3  \n",
       "78  X8   X3  \n",
       "79  X9   X3  \n",
       "80  X10  X3  \n",
       "81  X1   X2  \n",
       "82  X2   X2  \n",
       "83  X3   X2  \n",
       "84  X4   X2  \n",
       "85  X5   X2  \n",
       "86  X6   X2  \n",
       "87  X7   X2  \n",
       "88  X8   X2  \n",
       "89  X9   X2  \n",
       "90  X10  X2  \n",
       "91  X1   X1  \n",
       "92  X2   X1  \n",
       "93  X3   X1  \n",
       "94  X4   X1  \n",
       "95  X5   X1  \n",
       "96  X6   X1  \n",
       "97  X7   X1  \n",
       "98  X8   X1  \n",
       "99  X9   X1  \n",
       "100 X10  X1  "
      ]
     },
     "metadata": {},
     "output_type": "display_data"
    }
   ],
   "source": [
    "nms"
   ]
  },
  {
   "cell_type": "code",
   "execution_count": 17,
   "metadata": {
    "vscode": {
     "languageId": "r"
    }
   },
   "outputs": [],
   "source": [
    "nms$yaxis <- rep(c(TRUE, rep(FALSE, P-1)), P)\n",
    "nms$xaxis <- c(rep(FALSE, (P-1)*P), rep(TRUE, P))"
   ]
  },
  {
   "cell_type": "code",
   "execution_count": 18,
   "metadata": {
    "vscode": {
     "languageId": "r"
    }
   },
   "outputs": [],
   "source": [
    "nms$h <- nms$w <- 75\n",
    "nms$h[nms$xaxis] <- nms$w[nms$yaxis] <- 90"
   ]
  },
  {
   "cell_type": "code",
   "execution_count": 23,
   "metadata": {
    "vscode": {
     "languageId": "r"
    }
   },
   "outputs": [],
   "source": [
    "library(ggplot2)"
   ]
  },
  {
   "cell_type": "code",
   "execution_count": 43,
   "metadata": {
    "vscode": {
     "languageId": "r"
    }
   },
   "outputs": [],
   "source": [
    "plot_uni_scatter <- function(df, nms, i){\n",
    "    return( ggplot(data = df, aes(x = get(nms$Var1[i]), y = get(nms$Var2[i]))) + geom_point() +\n",
    "    xlab(nms$Var1[i]) + ylab(nms$Var2[i]) )\n",
    "}"
   ]
  },
  {
   "cell_type": "code",
   "execution_count": 46,
   "metadata": {
    "vscode": {
     "languageId": "r"
    }
   },
   "outputs": [
    {
     "data": {
      "image/png": "[encoded data removed]",
      "text/plain": [
       "plot without title"
      ]
     },
     "metadata": {
      "image/png": {
       "height": 420,
       "width": 420
      }
     },
     "output_type": "display_data"
    }
   ],
   "source": [
    "plot_uni_scatter(df, nms, 100)"
   ]
  }
 ],
 "metadata": {
  "kernelspec": {
   "display_name": "R",
   "language": "R",
   "name": "ir"
  },
  "language_info": {
   "codemirror_mode": "r",
   "file_extension": ".r",
   "mimetype": "text/x-r-source",
   "name": "R",
   "pygments_lexer": "r",
   "version": "4.2.2"
  },
  "orig_nbformat": 4
 },
 "nbformat": 4,
 "nbformat_minor": 2
}
