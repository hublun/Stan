{
 "cells": [
  {
   "attachments": {},
   "cell_type": "markdown",
   "metadata": {},
   "source": [
    "## [Fitting a Bayesian Factor Analysis Model in Stan](https://rfarouni.github.io/assets/projects/BayesianFactorAnalysis/BayesianFactorAnalysis.html)"
   ]
  },
  {
   "attachments": {},
   "cell_type": "markdown",
   "metadata": {},
   "source": [
    "$$y^T=(y_1,y_2, ..., y_p)$$\n",
    "$$y=\\Lambda \\theta + \\epsilon$$"
   ]
  },
  {
   "attachments": {},
   "cell_type": "markdown",
   "metadata": {},
   "source": [
    "$$\\Lambda=\n",
    "\\begin{bmatrix}\n",
    "\\lambda_{1,1} & \\lambda_{1,2} & \\dots & \\lambda_{1,D}\\\\\n",
    "\\lambda_{2,1} & \\lambda_{2,2} & \\dots & \\lambda_{2,D}\\\\\n",
    "\\vdots & \\vdots & \\vdots & \\vdots\\\\\n",
    "\\lambda_{p,1} & \\lambda_{p,2} & \\dots & \\lambda_{p,D}\\\\\n",
    "\\end{bmatrix}$$"
   ]
  },
  {
   "attachments": {},
   "cell_type": "markdown",
   "metadata": {},
   "source": [
    "$$\\Phi_D = \n",
    "\\begin{bmatrix}\n",
    "1 & \\varphi_{1,2} & \\dots & \\varphi_{1,D}\\\\\n",
    "\\varphi_{2,1} & 1 & \\dots & \\varphi_{2,D}\\\\\n",
    "\\vdots & \\vdots & \\vdots & \\vdots\\\\\n",
    "\\varphi_{D,1} & \\dots &\\varphi_{D,D-1} & 1\\\\\n",
    "\\end{bmatrix}$$"
   ]
  },
  {
   "attachments": {},
   "cell_type": "markdown",
   "metadata": {},
   "source": [
    "$$\\Psi_P = \n",
    "\\begin{bmatrix}\n",
    "\\psi_1 & 0 & \\dots & 0\\\\\n",
    "0 & \\psi_2 & \\dots & 0\\\\\n",
    "\\vdots & \\vdots & \\vdots & \\vdots\\\\\n",
    "0 & \\dots &0 & \\psi_P\\\\\n",
    "\\end{bmatrix}$$"
   ]
  },
  {
   "attachments": {},
   "cell_type": "markdown",
   "metadata": {},
   "source": [
    "$$y\\sim Normaal_P(0, \\Lambda\\Phi\\Lambda^T+\\Psi)$$"
   ]
  },
  {
   "attachments": {},
   "cell_type": "markdown",
   "metadata": {},
   "source": [
    "$$p(\\Theta,\\Lambda,\\xi ,\\Phi)$$"
   ]
  }
 ],
 "metadata": {
  "kernelspec": {
   "display_name": "R",
   "language": "R",
   "name": "ir"
  },
  "language_info": {
   "codemirror_mode": {
    "name": "ipython",
    "version": 3
   },
   "file_extension": ".py",
   "mimetype": "text/x-python",
   "name": "R",
   "nbconvert_exporter": "python",
   "pygments_lexer": "ipython3",
   "version": "3.11.1"
  },
  "orig_nbformat": 4
 },
 "nbformat": 4,
 "nbformat_minor": 2
}
