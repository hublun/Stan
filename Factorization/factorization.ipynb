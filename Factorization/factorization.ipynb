{
 "cells": [
  {
   "attachments": {},
   "cell_type": "markdown",
   "metadata": {},
   "source": [
    "## [Bayesian Factorization Machines with Stan and R](https://nyhackr.blob.core.windows.net/presentations/A_Common_Model_Separated_by_Two_Disciplines-Adam_Lauretig.pdf)"
   ]
  },
  {
   "attachments": {},
   "cell_type": "markdown",
   "metadata": {},
   "source": [
    "### [Mastering Shiny](https://mastering-shiny.org/basic-intro.html)"
   ]
  },
  {
   "cell_type": "code",
   "execution_count": 1,
   "metadata": {
    "vscode": {
     "languageId": "r"
    }
   },
   "outputs": [],
   "source": [
    "#shiny::runApp('./shine')"
   ]
  },
  {
   "cell_type": "code",
   "execution_count": 4,
   "metadata": {
    "vscode": {
     "languageId": "r"
    }
   },
   "outputs": [],
   "source": [
    "library(MASS)\n",
    "library(Matrix)\n",
    "library(trialr)"
   ]
  },
  {
   "cell_type": "code",
   "execution_count": 6,
   "metadata": {
    "vscode": {
     "languageId": "r"
    }
   },
   "outputs": [
    {
     "name": "stderr",
     "output_type": "stream",
     "text": [
      "Loading required package: StanHeaders\n",
      "\n",
      "Loading required package: ggplot2\n",
      "\n",
      "rstan (Version 2.21.7, GitRev: 2e1f913d3ca3)\n",
      "\n",
      "For execution on a local, multicore CPU with excess RAM we recommend calling\n",
      "options(mc.cores = parallel::detectCores()).\n",
      "To avoid recompilation of unchanged Stan programs, we recommend calling\n",
      "rstan_options(auto_write = TRUE)\n",
      "\n"
     ]
    }
   ],
   "source": [
    "library(rstan)\n",
    "options(mc.cores = parallel::detectCores())\n",
    "rstan_options(auto_write = TRUE)"
   ]
  },
  {
   "attachments": {},
   "cell_type": "markdown",
   "metadata": {},
   "source": [
    "### Generating Simulation Data"
   ]
  },
  {
   "cell_type": "code",
   "execution_count": 7,
   "metadata": {
    "vscode": {
     "languageId": "r"
    }
   },
   "outputs": [],
   "source": [
    "set.seed(111)"
   ]
  },
  {
   "cell_type": "code",
   "execution_count": 8,
   "metadata": {
    "vscode": {
     "languageId": "r"
    }
   },
   "outputs": [],
   "source": [
    "N <- 100\n",
    "group_1 <- paste0('i', 1:N)"
   ]
  },
  {
   "cell_type": "code",
   "execution_count": 9,
   "metadata": {
    "vscode": {
     "languageId": "r"
    }
   },
   "outputs": [
    {
     "data": {
      "text/html": [
       "<style>\n",
       ".list-inline {list-style: none; margin:0; padding: 0}\n",
       ".list-inline>li {display: inline-block}\n",
       ".list-inline>li:not(:last-child)::after {content: \"\\00b7\"; padding: 0 .5ex}\n",
       "</style>\n",
       "<ol class=list-inline><li>'i1'</li><li>'i2'</li><li>'i3'</li><li>'i4'</li><li>'i5'</li><li>'i6'</li><li>'i7'</li><li>'i8'</li><li>'i9'</li><li>'i10'</li><li>'i11'</li><li>'i12'</li><li>'i13'</li><li>'i14'</li><li>'i15'</li><li>'i16'</li><li>'i17'</li><li>'i18'</li><li>'i19'</li><li>'i20'</li><li>'i21'</li><li>'i22'</li><li>'i23'</li><li>'i24'</li><li>'i25'</li><li>'i26'</li><li>'i27'</li><li>'i28'</li><li>'i29'</li><li>'i30'</li><li>'i31'</li><li>'i32'</li><li>'i33'</li><li>'i34'</li><li>'i35'</li><li>'i36'</li><li>'i37'</li><li>'i38'</li><li>'i39'</li><li>'i40'</li><li>'i41'</li><li>'i42'</li><li>'i43'</li><li>'i44'</li><li>'i45'</li><li>'i46'</li><li>'i47'</li><li>'i48'</li><li>'i49'</li><li>'i50'</li><li>'i51'</li><li>'i52'</li><li>'i53'</li><li>'i54'</li><li>'i55'</li><li>'i56'</li><li>'i57'</li><li>'i58'</li><li>'i59'</li><li>'i60'</li><li>'i61'</li><li>'i62'</li><li>'i63'</li><li>'i64'</li><li>'i65'</li><li>'i66'</li><li>'i67'</li><li>'i68'</li><li>'i69'</li><li>'i70'</li><li>'i71'</li><li>'i72'</li><li>'i73'</li><li>'i74'</li><li>'i75'</li><li>'i76'</li><li>'i77'</li><li>'i78'</li><li>'i79'</li><li>'i80'</li><li>'i81'</li><li>'i82'</li><li>'i83'</li><li>'i84'</li><li>'i85'</li><li>'i86'</li><li>'i87'</li><li>'i88'</li><li>'i89'</li><li>'i90'</li><li>'i91'</li><li>'i92'</li><li>'i93'</li><li>'i94'</li><li>'i95'</li><li>'i96'</li><li>'i97'</li><li>'i98'</li><li>'i99'</li><li>'i100'</li></ol>\n"
      ],
      "text/latex": [
       "\\begin{enumerate*}\n",
       "\\item 'i1'\n",
       "\\item 'i2'\n",
       "\\item 'i3'\n",
       "\\item 'i4'\n",
       "\\item 'i5'\n",
       "\\item 'i6'\n",
       "\\item 'i7'\n",
       "\\item 'i8'\n",
       "\\item 'i9'\n",
       "\\item 'i10'\n",
       "\\item 'i11'\n",
       "\\item 'i12'\n",
       "\\item 'i13'\n",
       "\\item 'i14'\n",
       "\\item 'i15'\n",
       "\\item 'i16'\n",
       "\\item 'i17'\n",
       "\\item 'i18'\n",
       "\\item 'i19'\n",
       "\\item 'i20'\n",
       "\\item 'i21'\n",
       "\\item 'i22'\n",
       "\\item 'i23'\n",
       "\\item 'i24'\n",
       "\\item 'i25'\n",
       "\\item 'i26'\n",
       "\\item 'i27'\n",
       "\\item 'i28'\n",
       "\\item 'i29'\n",
       "\\item 'i30'\n",
       "\\item 'i31'\n",
       "\\item 'i32'\n",
       "\\item 'i33'\n",
       "\\item 'i34'\n",
       "\\item 'i35'\n",
       "\\item 'i36'\n",
       "\\item 'i37'\n",
       "\\item 'i38'\n",
       "\\item 'i39'\n",
       "\\item 'i40'\n",
       "\\item 'i41'\n",
       "\\item 'i42'\n",
       "\\item 'i43'\n",
       "\\item 'i44'\n",
       "\\item 'i45'\n",
       "\\item 'i46'\n",
       "\\item 'i47'\n",
       "\\item 'i48'\n",
       "\\item 'i49'\n",
       "\\item 'i50'\n",
       "\\item 'i51'\n",
       "\\item 'i52'\n",
       "\\item 'i53'\n",
       "\\item 'i54'\n",
       "\\item 'i55'\n",
       "\\item 'i56'\n",
       "\\item 'i57'\n",
       "\\item 'i58'\n",
       "\\item 'i59'\n",
       "\\item 'i60'\n",
       "\\item 'i61'\n",
       "\\item 'i62'\n",
       "\\item 'i63'\n",
       "\\item 'i64'\n",
       "\\item 'i65'\n",
       "\\item 'i66'\n",
       "\\item 'i67'\n",
       "\\item 'i68'\n",
       "\\item 'i69'\n",
       "\\item 'i70'\n",
       "\\item 'i71'\n",
       "\\item 'i72'\n",
       "\\item 'i73'\n",
       "\\item 'i74'\n",
       "\\item 'i75'\n",
       "\\item 'i76'\n",
       "\\item 'i77'\n",
       "\\item 'i78'\n",
       "\\item 'i79'\n",
       "\\item 'i80'\n",
       "\\item 'i81'\n",
       "\\item 'i82'\n",
       "\\item 'i83'\n",
       "\\item 'i84'\n",
       "\\item 'i85'\n",
       "\\item 'i86'\n",
       "\\item 'i87'\n",
       "\\item 'i88'\n",
       "\\item 'i89'\n",
       "\\item 'i90'\n",
       "\\item 'i91'\n",
       "\\item 'i92'\n",
       "\\item 'i93'\n",
       "\\item 'i94'\n",
       "\\item 'i95'\n",
       "\\item 'i96'\n",
       "\\item 'i97'\n",
       "\\item 'i98'\n",
       "\\item 'i99'\n",
       "\\item 'i100'\n",
       "\\end{enumerate*}\n"
      ],
      "text/markdown": [
       "1. 'i1'\n",
       "2. 'i2'\n",
       "3. 'i3'\n",
       "4. 'i4'\n",
       "5. 'i5'\n",
       "6. 'i6'\n",
       "7. 'i7'\n",
       "8. 'i8'\n",
       "9. 'i9'\n",
       "10. 'i10'\n",
       "11. 'i11'\n",
       "12. 'i12'\n",
       "13. 'i13'\n",
       "14. 'i14'\n",
       "15. 'i15'\n",
       "16. 'i16'\n",
       "17. 'i17'\n",
       "18. 'i18'\n",
       "19. 'i19'\n",
       "20. 'i20'\n",
       "21. 'i21'\n",
       "22. 'i22'\n",
       "23. 'i23'\n",
       "24. 'i24'\n",
       "25. 'i25'\n",
       "26. 'i26'\n",
       "27. 'i27'\n",
       "28. 'i28'\n",
       "29. 'i29'\n",
       "30. 'i30'\n",
       "31. 'i31'\n",
       "32. 'i32'\n",
       "33. 'i33'\n",
       "34. 'i34'\n",
       "35. 'i35'\n",
       "36. 'i36'\n",
       "37. 'i37'\n",
       "38. 'i38'\n",
       "39. 'i39'\n",
       "40. 'i40'\n",
       "41. 'i41'\n",
       "42. 'i42'\n",
       "43. 'i43'\n",
       "44. 'i44'\n",
       "45. 'i45'\n",
       "46. 'i46'\n",
       "47. 'i47'\n",
       "48. 'i48'\n",
       "49. 'i49'\n",
       "50. 'i50'\n",
       "51. 'i51'\n",
       "52. 'i52'\n",
       "53. 'i53'\n",
       "54. 'i54'\n",
       "55. 'i55'\n",
       "56. 'i56'\n",
       "57. 'i57'\n",
       "58. 'i58'\n",
       "59. 'i59'\n",
       "60. 'i60'\n",
       "61. 'i61'\n",
       "62. 'i62'\n",
       "63. 'i63'\n",
       "64. 'i64'\n",
       "65. 'i65'\n",
       "66. 'i66'\n",
       "67. 'i67'\n",
       "68. 'i68'\n",
       "69. 'i69'\n",
       "70. 'i70'\n",
       "71. 'i71'\n",
       "72. 'i72'\n",
       "73. 'i73'\n",
       "74. 'i74'\n",
       "75. 'i75'\n",
       "76. 'i76'\n",
       "77. 'i77'\n",
       "78. 'i78'\n",
       "79. 'i79'\n",
       "80. 'i80'\n",
       "81. 'i81'\n",
       "82. 'i82'\n",
       "83. 'i83'\n",
       "84. 'i84'\n",
       "85. 'i85'\n",
       "86. 'i86'\n",
       "87. 'i87'\n",
       "88. 'i88'\n",
       "89. 'i89'\n",
       "90. 'i90'\n",
       "91. 'i91'\n",
       "92. 'i92'\n",
       "93. 'i93'\n",
       "94. 'i94'\n",
       "95. 'i95'\n",
       "96. 'i96'\n",
       "97. 'i97'\n",
       "98. 'i98'\n",
       "99. 'i99'\n",
       "100. 'i100'\n",
       "\n",
       "\n"
      ],
      "text/plain": [
       "  [1] \"i1\"   \"i2\"   \"i3\"   \"i4\"   \"i5\"   \"i6\"   \"i7\"   \"i8\"   \"i9\"   \"i10\" \n",
       " [11] \"i11\"  \"i12\"  \"i13\"  \"i14\"  \"i15\"  \"i16\"  \"i17\"  \"i18\"  \"i19\"  \"i20\" \n",
       " [21] \"i21\"  \"i22\"  \"i23\"  \"i24\"  \"i25\"  \"i26\"  \"i27\"  \"i28\"  \"i29\"  \"i30\" \n",
       " [31] \"i31\"  \"i32\"  \"i33\"  \"i34\"  \"i35\"  \"i36\"  \"i37\"  \"i38\"  \"i39\"  \"i40\" \n",
       " [41] \"i41\"  \"i42\"  \"i43\"  \"i44\"  \"i45\"  \"i46\"  \"i47\"  \"i48\"  \"i49\"  \"i50\" \n",
       " [51] \"i51\"  \"i52\"  \"i53\"  \"i54\"  \"i55\"  \"i56\"  \"i57\"  \"i58\"  \"i59\"  \"i60\" \n",
       " [61] \"i61\"  \"i62\"  \"i63\"  \"i64\"  \"i65\"  \"i66\"  \"i67\"  \"i68\"  \"i69\"  \"i70\" \n",
       " [71] \"i71\"  \"i72\"  \"i73\"  \"i74\"  \"i75\"  \"i76\"  \"i77\"  \"i78\"  \"i79\"  \"i80\" \n",
       " [81] \"i81\"  \"i82\"  \"i83\"  \"i84\"  \"i85\"  \"i86\"  \"i87\"  \"i88\"  \"i89\"  \"i90\" \n",
       " [91] \"i91\"  \"i92\"  \"i93\"  \"i94\"  \"i95\"  \"i96\"  \"i97\"  \"i98\"  \"i99\"  \"i100\""
      ]
     },
     "metadata": {},
     "output_type": "display_data"
    }
   ],
   "source": [
    "group_1"
   ]
  },
  {
   "cell_type": "code",
   "execution_count": 10,
   "metadata": {
    "vscode": {
     "languageId": "r"
    }
   },
   "outputs": [],
   "source": [
    "J <- 20\n",
    "group_2 <- paste0('j', 1:J)"
   ]
  },
  {
   "cell_type": "code",
   "execution_count": 11,
   "metadata": {
    "vscode": {
     "languageId": "r"
    }
   },
   "outputs": [
    {
     "data": {
      "text/html": [
       "<style>\n",
       ".list-inline {list-style: none; margin:0; padding: 0}\n",
       ".list-inline>li {display: inline-block}\n",
       ".list-inline>li:not(:last-child)::after {content: \"\\00b7\"; padding: 0 .5ex}\n",
       "</style>\n",
       "<ol class=list-inline><li>'j1'</li><li>'j2'</li><li>'j3'</li><li>'j4'</li><li>'j5'</li><li>'j6'</li><li>'j7'</li><li>'j8'</li><li>'j9'</li><li>'j10'</li><li>'j11'</li><li>'j12'</li><li>'j13'</li><li>'j14'</li><li>'j15'</li><li>'j16'</li><li>'j17'</li><li>'j18'</li><li>'j19'</li><li>'j20'</li></ol>\n"
      ],
      "text/latex": [
       "\\begin{enumerate*}\n",
       "\\item 'j1'\n",
       "\\item 'j2'\n",
       "\\item 'j3'\n",
       "\\item 'j4'\n",
       "\\item 'j5'\n",
       "\\item 'j6'\n",
       "\\item 'j7'\n",
       "\\item 'j8'\n",
       "\\item 'j9'\n",
       "\\item 'j10'\n",
       "\\item 'j11'\n",
       "\\item 'j12'\n",
       "\\item 'j13'\n",
       "\\item 'j14'\n",
       "\\item 'j15'\n",
       "\\item 'j16'\n",
       "\\item 'j17'\n",
       "\\item 'j18'\n",
       "\\item 'j19'\n",
       "\\item 'j20'\n",
       "\\end{enumerate*}\n"
      ],
      "text/markdown": [
       "1. 'j1'\n",
       "2. 'j2'\n",
       "3. 'j3'\n",
       "4. 'j4'\n",
       "5. 'j5'\n",
       "6. 'j6'\n",
       "7. 'j7'\n",
       "8. 'j8'\n",
       "9. 'j9'\n",
       "10. 'j10'\n",
       "11. 'j11'\n",
       "12. 'j12'\n",
       "13. 'j13'\n",
       "14. 'j14'\n",
       "15. 'j15'\n",
       "16. 'j16'\n",
       "17. 'j17'\n",
       "18. 'j18'\n",
       "19. 'j19'\n",
       "20. 'j20'\n",
       "\n",
       "\n"
      ],
      "text/plain": [
       " [1] \"j1\"  \"j2\"  \"j3\"  \"j4\"  \"j5\"  \"j6\"  \"j7\"  \"j8\"  \"j9\"  \"j10\" \"j11\" \"j12\"\n",
       "[13] \"j13\" \"j14\" \"j15\" \"j16\" \"j17\" \"j18\" \"j19\" \"j20\""
      ]
     },
     "metadata": {},
     "output_type": "display_data"
    }
   ],
   "source": [
    "group_2"
   ]
  },
  {
   "cell_type": "code",
   "execution_count": 12,
   "metadata": {
    "vscode": {
     "languageId": "r"
    }
   },
   "outputs": [],
   "source": [
    "K <- 5"
   ]
  },
  {
   "cell_type": "code",
   "execution_count": 13,
   "metadata": {
    "vscode": {
     "languageId": "r"
    }
   },
   "outputs": [],
   "source": [
    "predictors <- expand.grid(group_1=group_1, group_2=group_2)"
   ]
  },
  {
   "cell_type": "code",
   "execution_count": 14,
   "metadata": {
    "vscode": {
     "languageId": "r"
    }
   },
   "outputs": [
    {
     "data": {
      "text/html": [
       "<table class=\"dataframe\">\n",
       "<caption>A data.frame: 2000 × 2</caption>\n",
       "<thead>\n",
       "\t<tr><th scope=col>group_1</th><th scope=col>group_2</th></tr>\n",
       "\t<tr><th scope=col>&lt;fct&gt;</th><th scope=col>&lt;fct&gt;</th></tr>\n",
       "</thead>\n",
       "<tbody>\n",
       "\t<tr><td>i1 </td><td>j1</td></tr>\n",
       "\t<tr><td>i2 </td><td>j1</td></tr>\n",
       "\t<tr><td>i3 </td><td>j1</td></tr>\n",
       "\t<tr><td>i4 </td><td>j1</td></tr>\n",
       "\t<tr><td>i5 </td><td>j1</td></tr>\n",
       "\t<tr><td>i6 </td><td>j1</td></tr>\n",
       "\t<tr><td>i7 </td><td>j1</td></tr>\n",
       "\t<tr><td>i8 </td><td>j1</td></tr>\n",
       "\t<tr><td>i9 </td><td>j1</td></tr>\n",
       "\t<tr><td>i10</td><td>j1</td></tr>\n",
       "\t<tr><td>i11</td><td>j1</td></tr>\n",
       "\t<tr><td>i12</td><td>j1</td></tr>\n",
       "\t<tr><td>i13</td><td>j1</td></tr>\n",
       "\t<tr><td>i14</td><td>j1</td></tr>\n",
       "\t<tr><td>i15</td><td>j1</td></tr>\n",
       "\t<tr><td>i16</td><td>j1</td></tr>\n",
       "\t<tr><td>i17</td><td>j1</td></tr>\n",
       "\t<tr><td>i18</td><td>j1</td></tr>\n",
       "\t<tr><td>i19</td><td>j1</td></tr>\n",
       "\t<tr><td>i20</td><td>j1</td></tr>\n",
       "\t<tr><td>i21</td><td>j1</td></tr>\n",
       "\t<tr><td>i22</td><td>j1</td></tr>\n",
       "\t<tr><td>i23</td><td>j1</td></tr>\n",
       "\t<tr><td>i24</td><td>j1</td></tr>\n",
       "\t<tr><td>i25</td><td>j1</td></tr>\n",
       "\t<tr><td>i26</td><td>j1</td></tr>\n",
       "\t<tr><td>i27</td><td>j1</td></tr>\n",
       "\t<tr><td>i28</td><td>j1</td></tr>\n",
       "\t<tr><td>i29</td><td>j1</td></tr>\n",
       "\t<tr><td>i30</td><td>j1</td></tr>\n",
       "\t<tr><td>⋮</td><td>⋮</td></tr>\n",
       "\t<tr><td>i71 </td><td>j20</td></tr>\n",
       "\t<tr><td>i72 </td><td>j20</td></tr>\n",
       "\t<tr><td>i73 </td><td>j20</td></tr>\n",
       "\t<tr><td>i74 </td><td>j20</td></tr>\n",
       "\t<tr><td>i75 </td><td>j20</td></tr>\n",
       "\t<tr><td>i76 </td><td>j20</td></tr>\n",
       "\t<tr><td>i77 </td><td>j20</td></tr>\n",
       "\t<tr><td>i78 </td><td>j20</td></tr>\n",
       "\t<tr><td>i79 </td><td>j20</td></tr>\n",
       "\t<tr><td>i80 </td><td>j20</td></tr>\n",
       "\t<tr><td>i81 </td><td>j20</td></tr>\n",
       "\t<tr><td>i82 </td><td>j20</td></tr>\n",
       "\t<tr><td>i83 </td><td>j20</td></tr>\n",
       "\t<tr><td>i84 </td><td>j20</td></tr>\n",
       "\t<tr><td>i85 </td><td>j20</td></tr>\n",
       "\t<tr><td>i86 </td><td>j20</td></tr>\n",
       "\t<tr><td>i87 </td><td>j20</td></tr>\n",
       "\t<tr><td>i88 </td><td>j20</td></tr>\n",
       "\t<tr><td>i89 </td><td>j20</td></tr>\n",
       "\t<tr><td>i90 </td><td>j20</td></tr>\n",
       "\t<tr><td>i91 </td><td>j20</td></tr>\n",
       "\t<tr><td>i92 </td><td>j20</td></tr>\n",
       "\t<tr><td>i93 </td><td>j20</td></tr>\n",
       "\t<tr><td>i94 </td><td>j20</td></tr>\n",
       "\t<tr><td>i95 </td><td>j20</td></tr>\n",
       "\t<tr><td>i96 </td><td>j20</td></tr>\n",
       "\t<tr><td>i97 </td><td>j20</td></tr>\n",
       "\t<tr><td>i98 </td><td>j20</td></tr>\n",
       "\t<tr><td>i99 </td><td>j20</td></tr>\n",
       "\t<tr><td>i100</td><td>j20</td></tr>\n",
       "</tbody>\n",
       "</table>\n"
      ],
      "text/latex": [
       "A data.frame: 2000 × 2\n",
       "\\begin{tabular}{ll}\n",
       " group\\_1 & group\\_2\\\\\n",
       " <fct> & <fct>\\\\\n",
       "\\hline\n",
       "\t i1  & j1\\\\\n",
       "\t i2  & j1\\\\\n",
       "\t i3  & j1\\\\\n",
       "\t i4  & j1\\\\\n",
       "\t i5  & j1\\\\\n",
       "\t i6  & j1\\\\\n",
       "\t i7  & j1\\\\\n",
       "\t i8  & j1\\\\\n",
       "\t i9  & j1\\\\\n",
       "\t i10 & j1\\\\\n",
       "\t i11 & j1\\\\\n",
       "\t i12 & j1\\\\\n",
       "\t i13 & j1\\\\\n",
       "\t i14 & j1\\\\\n",
       "\t i15 & j1\\\\\n",
       "\t i16 & j1\\\\\n",
       "\t i17 & j1\\\\\n",
       "\t i18 & j1\\\\\n",
       "\t i19 & j1\\\\\n",
       "\t i20 & j1\\\\\n",
       "\t i21 & j1\\\\\n",
       "\t i22 & j1\\\\\n",
       "\t i23 & j1\\\\\n",
       "\t i24 & j1\\\\\n",
       "\t i25 & j1\\\\\n",
       "\t i26 & j1\\\\\n",
       "\t i27 & j1\\\\\n",
       "\t i28 & j1\\\\\n",
       "\t i29 & j1\\\\\n",
       "\t i30 & j1\\\\\n",
       "\t ⋮ & ⋮\\\\\n",
       "\t i71  & j20\\\\\n",
       "\t i72  & j20\\\\\n",
       "\t i73  & j20\\\\\n",
       "\t i74  & j20\\\\\n",
       "\t i75  & j20\\\\\n",
       "\t i76  & j20\\\\\n",
       "\t i77  & j20\\\\\n",
       "\t i78  & j20\\\\\n",
       "\t i79  & j20\\\\\n",
       "\t i80  & j20\\\\\n",
       "\t i81  & j20\\\\\n",
       "\t i82  & j20\\\\\n",
       "\t i83  & j20\\\\\n",
       "\t i84  & j20\\\\\n",
       "\t i85  & j20\\\\\n",
       "\t i86  & j20\\\\\n",
       "\t i87  & j20\\\\\n",
       "\t i88  & j20\\\\\n",
       "\t i89  & j20\\\\\n",
       "\t i90  & j20\\\\\n",
       "\t i91  & j20\\\\\n",
       "\t i92  & j20\\\\\n",
       "\t i93  & j20\\\\\n",
       "\t i94  & j20\\\\\n",
       "\t i95  & j20\\\\\n",
       "\t i96  & j20\\\\\n",
       "\t i97  & j20\\\\\n",
       "\t i98  & j20\\\\\n",
       "\t i99  & j20\\\\\n",
       "\t i100 & j20\\\\\n",
       "\\end{tabular}\n"
      ],
      "text/markdown": [
       "\n",
       "A data.frame: 2000 × 2\n",
       "\n",
       "| group_1 &lt;fct&gt; | group_2 &lt;fct&gt; |\n",
       "|---|---|\n",
       "| i1  | j1 |\n",
       "| i2  | j1 |\n",
       "| i3  | j1 |\n",
       "| i4  | j1 |\n",
       "| i5  | j1 |\n",
       "| i6  | j1 |\n",
       "| i7  | j1 |\n",
       "| i8  | j1 |\n",
       "| i9  | j1 |\n",
       "| i10 | j1 |\n",
       "| i11 | j1 |\n",
       "| i12 | j1 |\n",
       "| i13 | j1 |\n",
       "| i14 | j1 |\n",
       "| i15 | j1 |\n",
       "| i16 | j1 |\n",
       "| i17 | j1 |\n",
       "| i18 | j1 |\n",
       "| i19 | j1 |\n",
       "| i20 | j1 |\n",
       "| i21 | j1 |\n",
       "| i22 | j1 |\n",
       "| i23 | j1 |\n",
       "| i24 | j1 |\n",
       "| i25 | j1 |\n",
       "| i26 | j1 |\n",
       "| i27 | j1 |\n",
       "| i28 | j1 |\n",
       "| i29 | j1 |\n",
       "| i30 | j1 |\n",
       "| ⋮ | ⋮ |\n",
       "| i71  | j20 |\n",
       "| i72  | j20 |\n",
       "| i73  | j20 |\n",
       "| i74  | j20 |\n",
       "| i75  | j20 |\n",
       "| i76  | j20 |\n",
       "| i77  | j20 |\n",
       "| i78  | j20 |\n",
       "| i79  | j20 |\n",
       "| i80  | j20 |\n",
       "| i81  | j20 |\n",
       "| i82  | j20 |\n",
       "| i83  | j20 |\n",
       "| i84  | j20 |\n",
       "| i85  | j20 |\n",
       "| i86  | j20 |\n",
       "| i87  | j20 |\n",
       "| i88  | j20 |\n",
       "| i89  | j20 |\n",
       "| i90  | j20 |\n",
       "| i91  | j20 |\n",
       "| i92  | j20 |\n",
       "| i93  | j20 |\n",
       "| i94  | j20 |\n",
       "| i95  | j20 |\n",
       "| i96  | j20 |\n",
       "| i97  | j20 |\n",
       "| i98  | j20 |\n",
       "| i99  | j20 |\n",
       "| i100 | j20 |\n",
       "\n"
      ],
      "text/plain": [
       "     group_1 group_2\n",
       "1    i1      j1     \n",
       "2    i2      j1     \n",
       "3    i3      j1     \n",
       "4    i4      j1     \n",
       "5    i5      j1     \n",
       "6    i6      j1     \n",
       "7    i7      j1     \n",
       "8    i8      j1     \n",
       "9    i9      j1     \n",
       "10   i10     j1     \n",
       "11   i11     j1     \n",
       "12   i12     j1     \n",
       "13   i13     j1     \n",
       "14   i14     j1     \n",
       "15   i15     j1     \n",
       "16   i16     j1     \n",
       "17   i17     j1     \n",
       "18   i18     j1     \n",
       "19   i19     j1     \n",
       "20   i20     j1     \n",
       "21   i21     j1     \n",
       "22   i22     j1     \n",
       "23   i23     j1     \n",
       "24   i24     j1     \n",
       "25   i25     j1     \n",
       "26   i26     j1     \n",
       "27   i27     j1     \n",
       "28   i28     j1     \n",
       "29   i29     j1     \n",
       "30   i30     j1     \n",
       "<U+22EE>    <U+22EE> <U+22EE>\n",
       "1971 i71     j20    \n",
       "1972 i72     j20    \n",
       "1973 i73     j20    \n",
       "1974 i74     j20    \n",
       "1975 i75     j20    \n",
       "1976 i76     j20    \n",
       "1977 i77     j20    \n",
       "1978 i78     j20    \n",
       "1979 i79     j20    \n",
       "1980 i80     j20    \n",
       "1981 i81     j20    \n",
       "1982 i82     j20    \n",
       "1983 i83     j20    \n",
       "1984 i84     j20    \n",
       "1985 i85     j20    \n",
       "1986 i86     j20    \n",
       "1987 i87     j20    \n",
       "1988 i88     j20    \n",
       "1989 i89     j20    \n",
       "1990 i90     j20    \n",
       "1991 i91     j20    \n",
       "1992 i92     j20    \n",
       "1993 i93     j20    \n",
       "1994 i94     j20    \n",
       "1995 i95     j20    \n",
       "1996 i96     j20    \n",
       "1997 i97     j20    \n",
       "1998 i98     j20    \n",
       "1999 i99     j20    \n",
       "2000 i100    j20    "
      ]
     },
     "metadata": {},
     "output_type": "display_data"
    }
   ],
   "source": [
    "predictors"
   ]
  },
  {
   "cell_type": "code",
   "execution_count": 15,
   "metadata": {
    "vscode": {
     "languageId": "r"
    }
   },
   "outputs": [],
   "source": [
    "X_mat <- sparse.model.matrix(~ factor(group_1) + factor(group_2) -1, data=predictors)"
   ]
  },
  {
   "cell_type": "code",
   "execution_count": 16,
   "metadata": {
    "vscode": {
     "languageId": "r"
    }
   },
   "outputs": [],
   "source": [
    "predictors_as_numeric <- cbind(as.numeric(factor(predictors[,1])), as.numeric(factor(predictors[,2])))"
   ]
  },
  {
   "cell_type": "code",
   "execution_count": 17,
   "metadata": {
    "vscode": {
     "languageId": "r"
    }
   },
   "outputs": [],
   "source": [
    "betas <- matrix(rnorm(n=ncol(X_mat), 0,2))"
   ]
  },
  {
   "cell_type": "code",
   "execution_count": 18,
   "metadata": {
    "vscode": {
     "languageId": "r"
    }
   },
   "outputs": [],
   "source": [
    "linear_predictors = X_mat %*% betas  # y"
   ]
  },
  {
   "attachments": {},
   "cell_type": "markdown",
   "metadata": {},
   "source": [
    "### [LKJ](https://yingqijing.medium.com/lkj-correlation-distribution-in-stan-29927b69e9be)"
   ]
  },
  {
   "attachments": {},
   "cell_type": "markdown",
   "metadata": {},
   "source": [
    "#### if eta > 1, the correlation values in correlation matrices are going to centered around 0. higher eta indicate no correlations (converge to identity correlation matrix)."
   ]
  },
  {
   "attachments": {},
   "cell_type": "markdown",
   "metadata": {},
   "source": [
    "![](https://miro.medium.com/max/1400/1*v2LSgSMjYwCjWYpXtk437g.webp)"
   ]
  },
  {
   "cell_type": "code",
   "execution_count": 19,
   "metadata": {
    "vscode": {
     "languageId": "r"
    }
   },
   "outputs": [],
   "source": [
    "gamma_omega <- rlkjcorr(n = 1, K = K, eta = 0.9)#gamma_omega_prior)"
   ]
  },
  {
   "cell_type": "code",
   "execution_count": 20,
   "metadata": {
    "vscode": {
     "languageId": "r"
    }
   },
   "outputs": [],
   "source": [
    "delta_omega <- rlkjcorr(n=1, K=K, eta=0.5)"
   ]
  },
  {
   "cell_type": "code",
   "execution_count": 21,
   "metadata": {
    "vscode": {
     "languageId": "r"
    }
   },
   "outputs": [],
   "source": [
    "gammas <- mvrnorm(n=N, mu=rep(0,K), Sigma = gamma_omega)"
   ]
  },
  {
   "cell_type": "code",
   "execution_count": 22,
   "metadata": {
    "vscode": {
     "languageId": "r"
    }
   },
   "outputs": [],
   "source": [
    "deltas <- mvrnorm(n=J, mu=rep(0,K), Sigma = delta_omega)"
   ]
  },
  {
   "cell_type": "code",
   "execution_count": 23,
   "metadata": {
    "vscode": {
     "languageId": "r"
    }
   },
   "outputs": [],
   "source": [
    "factor_terms = matrix(NA, nrow=nrow(linear_predictors), ncol=1)"
   ]
  },
  {
   "cell_type": "code",
   "execution_count": 24,
   "metadata": {
    "vscode": {
     "languageId": "r"
    }
   },
   "outputs": [
    {
     "data": {
      "text/html": [
       "<style>\n",
       ".list-inline {list-style: none; margin:0; padding: 0}\n",
       ".list-inline>li {display: inline-block}\n",
       ".list-inline>li:not(:last-child)::after {content: \"\\00b7\"; padding: 0 .5ex}\n",
       "</style>\n",
       "<ol class=list-inline><li>2000</li><li>1</li></ol>\n"
      ],
      "text/latex": [
       "\\begin{enumerate*}\n",
       "\\item 2000\n",
       "\\item 1\n",
       "\\end{enumerate*}\n"
      ],
      "text/markdown": [
       "1. 2000\n",
       "2. 1\n",
       "\n",
       "\n"
      ],
      "text/plain": [
       "[1] 2000    1"
      ]
     },
     "metadata": {},
     "output_type": "display_data"
    }
   ],
   "source": [
    "dim(factor_terms)"
   ]
  },
  {
   "cell_type": "code",
   "execution_count": 25,
   "metadata": {
    "vscode": {
     "languageId": "r"
    }
   },
   "outputs": [],
   "source": [
    "for (i in 1:nrow(predictors)){\n",
    "    g1 <- as.character(predictors[i,1])\n",
    "    g1 <- as.numeric(substring(g1, 2, nchar(g1)))\n",
    "\n",
    "    g2 <- as.character(predictors[i,2])\n",
    "    g2 <- as.numeric(substring(g2, 2, nchar(g2)))\n",
    "\n",
    "    #print(paste0(g1, g2))\n",
    "    factor_terms[i, ] =  matrix(gammas[g1,], nrow=1) %*% matrix(deltas[g2,], ncol=1)   \n",
    "}"
   ]
  },
  {
   "cell_type": "code",
   "execution_count": 26,
   "metadata": {
    "vscode": {
     "languageId": "r"
    }
   },
   "outputs": [],
   "source": [
    "y <- linear_predictors + factor_terms + rnorm(n=nrow(linear_predictors), 0, 0.1)"
   ]
  },
  {
   "cell_type": "code",
   "execution_count": 35,
   "metadata": {
    "vscode": {
     "languageId": "r"
    }
   },
   "outputs": [],
   "source": [
    "data_list = list(\n",
    "    N = N,\n",
    "    J = J,\n",
    "    K = K,\n",
    "    X = predictors_as_numeric,\n",
    "    y = y[,1],\n",
    "    beta_sigma = 0.05,\n",
    "    y_sigma = 0.02\n",
    ")"
   ]
  },
  {
   "cell_type": "code",
   "execution_count": 29,
   "metadata": {
    "vscode": {
     "languageId": "r"
    }
   },
   "outputs": [
    {
     "name": "stderr",
     "output_type": "stream",
     "text": [
      "recompiling to avoid crashing R session\n",
      "\n"
     ]
    }
   ],
   "source": [
    "model = stan_model('../Stan/Models/factorization.stan')"
   ]
  },
  {
   "cell_type": "code",
   "execution_count": 39,
   "metadata": {
    "vscode": {
     "languageId": "r"
    }
   },
   "outputs": [],
   "source": [
    "remove(fit)\n",
    "fit <- sampling(object = model,\n",
    "                data = data_list,\n",
    "                init = \"random\",\n",
    "                control = list(adapt_delta = 0.95),\n",
    "                chains = 4,\n",
    "                iter = 1000,\n",
    "                warmup = 500,\n",
    "                thin = 1,\n",
    "                verbose = TRUE)"
   ]
  }
 ],
 "metadata": {
  "kernelspec": {
   "display_name": "R",
   "language": "R",
   "name": "ir"
  },
  "language_info": {
   "codemirror_mode": "r",
   "file_extension": ".r",
   "mimetype": "text/x-r-source",
   "name": "R",
   "pygments_lexer": "r",
   "version": "4.2.2"
  },
  "orig_nbformat": 4
 },
 "nbformat": 4,
 "nbformat_minor": 2
}
