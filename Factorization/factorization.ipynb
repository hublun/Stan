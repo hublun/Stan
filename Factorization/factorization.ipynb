{
 "cells": [
  {
   "attachments": {},
   "cell_type": "markdown",
   "metadata": {},
   "source": [
    "## [Bayesian Factorization Machines with Stan and R](https://nyhackr.blob.core.windows.net/presentations/A_Common_Model_Separated_by_Two_Disciplines-Adam_Lauretig.pdf)"
   ]
  },
  {
   "attachments": {},
   "cell_type": "markdown",
   "metadata": {},
   "source": [
    "### [Mastering Shiny](https://mastering-shiny.org/basic-intro.html)"
   ]
  },
  {
   "cell_type": "code",
   "execution_count": null,
   "metadata": {
    "vscode": {
     "languageId": "r"
    }
   },
   "outputs": [],
   "source": [
    "#shiny::runApp('./shine')"
   ]
  },
  {
   "cell_type": "code",
   "execution_count": 2,
   "metadata": {
    "vscode": {
     "languageId": "r"
    }
   },
   "outputs": [
    {
     "name": "stderr",
     "output_type": "stream",
     "text": [
      "Loading required package: Rcpp\n",
      "\n",
      "Warning message in paste0(\"stan_fit4\", names(stanmodels), \"_mod\"):\n",
      "\"strings not representable in native encoding will be translated to UTF-8\"\n",
      "Warning message in (function (n) :\n",
      "\"strings not representable in native encoding will be translated to UTF-8\"\n",
      "Warning message in (function (n) :\n",
      "\"strings not representable in native encoding will be translated to UTF-8\"\n",
      "Warning message in (function (n) :\n",
      "\"strings not representable in native encoding will be translated to UTF-8\"\n",
      "Warning message in (function (n) :\n",
      "\"strings not representable in native encoding will be translated to UTF-8\"\n",
      "Warning message in (function (n) :\n",
      "\"strings not representable in native encoding will be translated to UTF-8\"\n"
     ]
    }
   ],
   "source": [
    "library(MASS)\n",
    "library(Matrix)\n",
    "library(trialr)"
   ]
  },
  {
   "cell_type": "code",
   "execution_count": 3,
   "metadata": {
    "vscode": {
     "languageId": "r"
    }
   },
   "outputs": [
    {
     "name": "stderr",
     "output_type": "stream",
     "text": [
      "Loading required package: StanHeaders\n",
      "\n",
      "Loading required package: ggplot2\n",
      "\n",
      "rstan (Version 2.21.7, GitRev: 2e1f913d3ca3)\n",
      "\n",
      "For execution on a local, multicore CPU with excess RAM we recommend calling\n",
      "options(mc.cores = parallel::detectCores()).\n",
      "To avoid recompilation of unchanged Stan programs, we recommend calling\n",
      "rstan_options(auto_write = TRUE)\n",
      "\n"
     ]
    }
   ],
   "source": [
    "library(rstan)\n",
    "options(mc.cores = parallel::detectCores())\n",
    "rstan_options(auto_write = TRUE)"
   ]
  },
  {
   "attachments": {},
   "cell_type": "markdown",
   "metadata": {},
   "source": [
    "### Generating Simulation Data"
   ]
  },
  {
   "cell_type": "code",
   "execution_count": 4,
   "metadata": {
    "vscode": {
     "languageId": "r"
    }
   },
   "outputs": [],
   "source": [
    "set.seed(111)"
   ]
  },
  {
   "cell_type": "code",
   "execution_count": 5,
   "metadata": {
    "vscode": {
     "languageId": "r"
    }
   },
   "outputs": [],
   "source": [
    "N <- 100\n",
    "group_1 <- paste0('i', 1:N)"
   ]
  },
  {
   "cell_type": "code",
   "execution_count": 6,
   "metadata": {
    "vscode": {
     "languageId": "r"
    }
   },
   "outputs": [
    {
     "data": {
      "text/html": [
       "<style>\n",
       ".list-inline {list-style: none; margin:0; padding: 0}\n",
       ".list-inline>li {display: inline-block}\n",
       ".list-inline>li:not(:last-child)::after {content: \"\\00b7\"; padding: 0 .5ex}\n",
       "</style>\n",
       "<ol class=list-inline><li>'i1'</li><li>'i2'</li><li>'i3'</li><li>'i4'</li><li>'i5'</li><li>'i6'</li><li>'i7'</li><li>'i8'</li><li>'i9'</li><li>'i10'</li><li>'i11'</li><li>'i12'</li><li>'i13'</li><li>'i14'</li><li>'i15'</li><li>'i16'</li><li>'i17'</li><li>'i18'</li><li>'i19'</li><li>'i20'</li><li>'i21'</li><li>'i22'</li><li>'i23'</li><li>'i24'</li><li>'i25'</li><li>'i26'</li><li>'i27'</li><li>'i28'</li><li>'i29'</li><li>'i30'</li><li>'i31'</li><li>'i32'</li><li>'i33'</li><li>'i34'</li><li>'i35'</li><li>'i36'</li><li>'i37'</li><li>'i38'</li><li>'i39'</li><li>'i40'</li><li>'i41'</li><li>'i42'</li><li>'i43'</li><li>'i44'</li><li>'i45'</li><li>'i46'</li><li>'i47'</li><li>'i48'</li><li>'i49'</li><li>'i50'</li><li>'i51'</li><li>'i52'</li><li>'i53'</li><li>'i54'</li><li>'i55'</li><li>'i56'</li><li>'i57'</li><li>'i58'</li><li>'i59'</li><li>'i60'</li><li>'i61'</li><li>'i62'</li><li>'i63'</li><li>'i64'</li><li>'i65'</li><li>'i66'</li><li>'i67'</li><li>'i68'</li><li>'i69'</li><li>'i70'</li><li>'i71'</li><li>'i72'</li><li>'i73'</li><li>'i74'</li><li>'i75'</li><li>'i76'</li><li>'i77'</li><li>'i78'</li><li>'i79'</li><li>'i80'</li><li>'i81'</li><li>'i82'</li><li>'i83'</li><li>'i84'</li><li>'i85'</li><li>'i86'</li><li>'i87'</li><li>'i88'</li><li>'i89'</li><li>'i90'</li><li>'i91'</li><li>'i92'</li><li>'i93'</li><li>'i94'</li><li>'i95'</li><li>'i96'</li><li>'i97'</li><li>'i98'</li><li>'i99'</li><li>'i100'</li></ol>\n"
      ],
      "text/latex": [
       "\\begin{enumerate*}\n",
       "\\item 'i1'\n",
       "\\item 'i2'\n",
       "\\item 'i3'\n",
       "\\item 'i4'\n",
       "\\item 'i5'\n",
       "\\item 'i6'\n",
       "\\item 'i7'\n",
       "\\item 'i8'\n",
       "\\item 'i9'\n",
       "\\item 'i10'\n",
       "\\item 'i11'\n",
       "\\item 'i12'\n",
       "\\item 'i13'\n",
       "\\item 'i14'\n",
       "\\item 'i15'\n",
       "\\item 'i16'\n",
       "\\item 'i17'\n",
       "\\item 'i18'\n",
       "\\item 'i19'\n",
       "\\item 'i20'\n",
       "\\item 'i21'\n",
       "\\item 'i22'\n",
       "\\item 'i23'\n",
       "\\item 'i24'\n",
       "\\item 'i25'\n",
       "\\item 'i26'\n",
       "\\item 'i27'\n",
       "\\item 'i28'\n",
       "\\item 'i29'\n",
       "\\item 'i30'\n",
       "\\item 'i31'\n",
       "\\item 'i32'\n",
       "\\item 'i33'\n",
       "\\item 'i34'\n",
       "\\item 'i35'\n",
       "\\item 'i36'\n",
       "\\item 'i37'\n",
       "\\item 'i38'\n",
       "\\item 'i39'\n",
       "\\item 'i40'\n",
       "\\item 'i41'\n",
       "\\item 'i42'\n",
       "\\item 'i43'\n",
       "\\item 'i44'\n",
       "\\item 'i45'\n",
       "\\item 'i46'\n",
       "\\item 'i47'\n",
       "\\item 'i48'\n",
       "\\item 'i49'\n",
       "\\item 'i50'\n",
       "\\item 'i51'\n",
       "\\item 'i52'\n",
       "\\item 'i53'\n",
       "\\item 'i54'\n",
       "\\item 'i55'\n",
       "\\item 'i56'\n",
       "\\item 'i57'\n",
       "\\item 'i58'\n",
       "\\item 'i59'\n",
       "\\item 'i60'\n",
       "\\item 'i61'\n",
       "\\item 'i62'\n",
       "\\item 'i63'\n",
       "\\item 'i64'\n",
       "\\item 'i65'\n",
       "\\item 'i66'\n",
       "\\item 'i67'\n",
       "\\item 'i68'\n",
       "\\item 'i69'\n",
       "\\item 'i70'\n",
       "\\item 'i71'\n",
       "\\item 'i72'\n",
       "\\item 'i73'\n",
       "\\item 'i74'\n",
       "\\item 'i75'\n",
       "\\item 'i76'\n",
       "\\item 'i77'\n",
       "\\item 'i78'\n",
       "\\item 'i79'\n",
       "\\item 'i80'\n",
       "\\item 'i81'\n",
       "\\item 'i82'\n",
       "\\item 'i83'\n",
       "\\item 'i84'\n",
       "\\item 'i85'\n",
       "\\item 'i86'\n",
       "\\item 'i87'\n",
       "\\item 'i88'\n",
       "\\item 'i89'\n",
       "\\item 'i90'\n",
       "\\item 'i91'\n",
       "\\item 'i92'\n",
       "\\item 'i93'\n",
       "\\item 'i94'\n",
       "\\item 'i95'\n",
       "\\item 'i96'\n",
       "\\item 'i97'\n",
       "\\item 'i98'\n",
       "\\item 'i99'\n",
       "\\item 'i100'\n",
       "\\end{enumerate*}\n"
      ],
      "text/markdown": [
       "1. 'i1'\n",
       "2. 'i2'\n",
       "3. 'i3'\n",
       "4. 'i4'\n",
       "5. 'i5'\n",
       "6. 'i6'\n",
       "7. 'i7'\n",
       "8. 'i8'\n",
       "9. 'i9'\n",
       "10. 'i10'\n",
       "11. 'i11'\n",
       "12. 'i12'\n",
       "13. 'i13'\n",
       "14. 'i14'\n",
       "15. 'i15'\n",
       "16. 'i16'\n",
       "17. 'i17'\n",
       "18. 'i18'\n",
       "19. 'i19'\n",
       "20. 'i20'\n",
       "21. 'i21'\n",
       "22. 'i22'\n",
       "23. 'i23'\n",
       "24. 'i24'\n",
       "25. 'i25'\n",
       "26. 'i26'\n",
       "27. 'i27'\n",
       "28. 'i28'\n",
       "29. 'i29'\n",
       "30. 'i30'\n",
       "31. 'i31'\n",
       "32. 'i32'\n",
       "33. 'i33'\n",
       "34. 'i34'\n",
       "35. 'i35'\n",
       "36. 'i36'\n",
       "37. 'i37'\n",
       "38. 'i38'\n",
       "39. 'i39'\n",
       "40. 'i40'\n",
       "41. 'i41'\n",
       "42. 'i42'\n",
       "43. 'i43'\n",
       "44. 'i44'\n",
       "45. 'i45'\n",
       "46. 'i46'\n",
       "47. 'i47'\n",
       "48. 'i48'\n",
       "49. 'i49'\n",
       "50. 'i50'\n",
       "51. 'i51'\n",
       "52. 'i52'\n",
       "53. 'i53'\n",
       "54. 'i54'\n",
       "55. 'i55'\n",
       "56. 'i56'\n",
       "57. 'i57'\n",
       "58. 'i58'\n",
       "59. 'i59'\n",
       "60. 'i60'\n",
       "61. 'i61'\n",
       "62. 'i62'\n",
       "63. 'i63'\n",
       "64. 'i64'\n",
       "65. 'i65'\n",
       "66. 'i66'\n",
       "67. 'i67'\n",
       "68. 'i68'\n",
       "69. 'i69'\n",
       "70. 'i70'\n",
       "71. 'i71'\n",
       "72. 'i72'\n",
       "73. 'i73'\n",
       "74. 'i74'\n",
       "75. 'i75'\n",
       "76. 'i76'\n",
       "77. 'i77'\n",
       "78. 'i78'\n",
       "79. 'i79'\n",
       "80. 'i80'\n",
       "81. 'i81'\n",
       "82. 'i82'\n",
       "83. 'i83'\n",
       "84. 'i84'\n",
       "85. 'i85'\n",
       "86. 'i86'\n",
       "87. 'i87'\n",
       "88. 'i88'\n",
       "89. 'i89'\n",
       "90. 'i90'\n",
       "91. 'i91'\n",
       "92. 'i92'\n",
       "93. 'i93'\n",
       "94. 'i94'\n",
       "95. 'i95'\n",
       "96. 'i96'\n",
       "97. 'i97'\n",
       "98. 'i98'\n",
       "99. 'i99'\n",
       "100. 'i100'\n",
       "\n",
       "\n"
      ],
      "text/plain": [
       "  [1] \"i1\"   \"i2\"   \"i3\"   \"i4\"   \"i5\"   \"i6\"   \"i7\"   \"i8\"   \"i9\"   \"i10\" \n",
       " [11] \"i11\"  \"i12\"  \"i13\"  \"i14\"  \"i15\"  \"i16\"  \"i17\"  \"i18\"  \"i19\"  \"i20\" \n",
       " [21] \"i21\"  \"i22\"  \"i23\"  \"i24\"  \"i25\"  \"i26\"  \"i27\"  \"i28\"  \"i29\"  \"i30\" \n",
       " [31] \"i31\"  \"i32\"  \"i33\"  \"i34\"  \"i35\"  \"i36\"  \"i37\"  \"i38\"  \"i39\"  \"i40\" \n",
       " [41] \"i41\"  \"i42\"  \"i43\"  \"i44\"  \"i45\"  \"i46\"  \"i47\"  \"i48\"  \"i49\"  \"i50\" \n",
       " [51] \"i51\"  \"i52\"  \"i53\"  \"i54\"  \"i55\"  \"i56\"  \"i57\"  \"i58\"  \"i59\"  \"i60\" \n",
       " [61] \"i61\"  \"i62\"  \"i63\"  \"i64\"  \"i65\"  \"i66\"  \"i67\"  \"i68\"  \"i69\"  \"i70\" \n",
       " [71] \"i71\"  \"i72\"  \"i73\"  \"i74\"  \"i75\"  \"i76\"  \"i77\"  \"i78\"  \"i79\"  \"i80\" \n",
       " [81] \"i81\"  \"i82\"  \"i83\"  \"i84\"  \"i85\"  \"i86\"  \"i87\"  \"i88\"  \"i89\"  \"i90\" \n",
       " [91] \"i91\"  \"i92\"  \"i93\"  \"i94\"  \"i95\"  \"i96\"  \"i97\"  \"i98\"  \"i99\"  \"i100\""
      ]
     },
     "metadata": {},
     "output_type": "display_data"
    }
   ],
   "source": [
    "group_1"
   ]
  },
  {
   "cell_type": "code",
   "execution_count": 7,
   "metadata": {
    "vscode": {
     "languageId": "r"
    }
   },
   "outputs": [],
   "source": [
    "J <- 20\n",
    "group_2 <- paste0('j', 1:J)"
   ]
  },
  {
   "cell_type": "code",
   "execution_count": 8,
   "metadata": {
    "vscode": {
     "languageId": "r"
    }
   },
   "outputs": [
    {
     "data": {
      "text/html": [
       "<style>\n",
       ".list-inline {list-style: none; margin:0; padding: 0}\n",
       ".list-inline>li {display: inline-block}\n",
       ".list-inline>li:not(:last-child)::after {content: \"\\00b7\"; padding: 0 .5ex}\n",
       "</style>\n",
       "<ol class=list-inline><li>'j1'</li><li>'j2'</li><li>'j3'</li><li>'j4'</li><li>'j5'</li><li>'j6'</li><li>'j7'</li><li>'j8'</li><li>'j9'</li><li>'j10'</li><li>'j11'</li><li>'j12'</li><li>'j13'</li><li>'j14'</li><li>'j15'</li><li>'j16'</li><li>'j17'</li><li>'j18'</li><li>'j19'</li><li>'j20'</li></ol>\n"
      ],
      "text/latex": [
       "\\begin{enumerate*}\n",
       "\\item 'j1'\n",
       "\\item 'j2'\n",
       "\\item 'j3'\n",
       "\\item 'j4'\n",
       "\\item 'j5'\n",
       "\\item 'j6'\n",
       "\\item 'j7'\n",
       "\\item 'j8'\n",
       "\\item 'j9'\n",
       "\\item 'j10'\n",
       "\\item 'j11'\n",
       "\\item 'j12'\n",
       "\\item 'j13'\n",
       "\\item 'j14'\n",
       "\\item 'j15'\n",
       "\\item 'j16'\n",
       "\\item 'j17'\n",
       "\\item 'j18'\n",
       "\\item 'j19'\n",
       "\\item 'j20'\n",
       "\\end{enumerate*}\n"
      ],
      "text/markdown": [
       "1. 'j1'\n",
       "2. 'j2'\n",
       "3. 'j3'\n",
       "4. 'j4'\n",
       "5. 'j5'\n",
       "6. 'j6'\n",
       "7. 'j7'\n",
       "8. 'j8'\n",
       "9. 'j9'\n",
       "10. 'j10'\n",
       "11. 'j11'\n",
       "12. 'j12'\n",
       "13. 'j13'\n",
       "14. 'j14'\n",
       "15. 'j15'\n",
       "16. 'j16'\n",
       "17. 'j17'\n",
       "18. 'j18'\n",
       "19. 'j19'\n",
       "20. 'j20'\n",
       "\n",
       "\n"
      ],
      "text/plain": [
       " [1] \"j1\"  \"j2\"  \"j3\"  \"j4\"  \"j5\"  \"j6\"  \"j7\"  \"j8\"  \"j9\"  \"j10\" \"j11\" \"j12\"\n",
       "[13] \"j13\" \"j14\" \"j15\" \"j16\" \"j17\" \"j18\" \"j19\" \"j20\""
      ]
     },
     "metadata": {},
     "output_type": "display_data"
    }
   ],
   "source": [
    "group_2"
   ]
  },
  {
   "cell_type": "code",
   "execution_count": 9,
   "metadata": {
    "vscode": {
     "languageId": "r"
    }
   },
   "outputs": [],
   "source": [
    "K <- 5"
   ]
  },
  {
   "cell_type": "code",
   "execution_count": 10,
   "metadata": {
    "vscode": {
     "languageId": "r"
    }
   },
   "outputs": [],
   "source": [
    "predictors <- expand.grid(group_1=group_1, group_2=group_2)"
   ]
  },
  {
   "cell_type": "code",
   "execution_count": null,
   "metadata": {
    "vscode": {
     "languageId": "r"
    }
   },
   "outputs": [],
   "source": [
    "predictors"
   ]
  },
  {
   "cell_type": "code",
   "execution_count": 11,
   "metadata": {
    "vscode": {
     "languageId": "r"
    }
   },
   "outputs": [],
   "source": [
    "X_mat <- sparse.model.matrix(~ factor(group_1) + factor(group_2) -1, data=predictors)"
   ]
  },
  {
   "cell_type": "code",
   "execution_count": 12,
   "metadata": {
    "vscode": {
     "languageId": "r"
    }
   },
   "outputs": [],
   "source": [
    "predictors_as_numeric <- cbind(as.numeric(factor(predictors[,1])), as.numeric(factor(predictors[,2])))"
   ]
  },
  {
   "cell_type": "code",
   "execution_count": 13,
   "metadata": {
    "vscode": {
     "languageId": "r"
    }
   },
   "outputs": [],
   "source": [
    "betas <- matrix(rnorm(n=ncol(X_mat), 0,2))"
   ]
  },
  {
   "cell_type": "code",
   "execution_count": 14,
   "metadata": {
    "vscode": {
     "languageId": "r"
    }
   },
   "outputs": [],
   "source": [
    "linear_predictors = X_mat %*% betas  # y"
   ]
  },
  {
   "attachments": {},
   "cell_type": "markdown",
   "metadata": {},
   "source": [
    "### [LKJ](https://yingqijing.medium.com/lkj-correlation-distribution-in-stan-29927b69e9be)"
   ]
  },
  {
   "attachments": {},
   "cell_type": "markdown",
   "metadata": {},
   "source": [
    "#### if eta > 1, the correlation values in correlation matrices are going to centered around 0. higher eta indicate no correlations (converge to identity correlation matrix)."
   ]
  },
  {
   "attachments": {},
   "cell_type": "markdown",
   "metadata": {},
   "source": [
    "![](https://miro.medium.com/max/1400/1*v2LSgSMjYwCjWYpXtk437g.webp)"
   ]
  },
  {
   "cell_type": "code",
   "execution_count": 15,
   "metadata": {
    "vscode": {
     "languageId": "r"
    }
   },
   "outputs": [],
   "source": [
    "gamma_omega <- rlkjcorr(n = 1, K = K, eta = 0.9)#gamma_omega_prior)"
   ]
  },
  {
   "cell_type": "code",
   "execution_count": 16,
   "metadata": {
    "vscode": {
     "languageId": "r"
    }
   },
   "outputs": [],
   "source": [
    "delta_omega <- rlkjcorr(n=1, K=K, eta=0.5)"
   ]
  },
  {
   "cell_type": "code",
   "execution_count": 17,
   "metadata": {
    "vscode": {
     "languageId": "r"
    }
   },
   "outputs": [],
   "source": [
    "gammas <- mvrnorm(n=N, mu=rep(0,K), Sigma = gamma_omega)"
   ]
  },
  {
   "cell_type": "code",
   "execution_count": 18,
   "metadata": {
    "vscode": {
     "languageId": "r"
    }
   },
   "outputs": [],
   "source": [
    "deltas <- mvrnorm(n=J, mu=rep(0,K), Sigma = delta_omega)"
   ]
  },
  {
   "cell_type": "code",
   "execution_count": 19,
   "metadata": {
    "vscode": {
     "languageId": "r"
    }
   },
   "outputs": [],
   "source": [
    "factor_terms = matrix(NA, nrow=nrow(linear_predictors), ncol=1)"
   ]
  },
  {
   "cell_type": "code",
   "execution_count": 20,
   "metadata": {
    "vscode": {
     "languageId": "r"
    }
   },
   "outputs": [
    {
     "data": {
      "text/html": [
       "<style>\n",
       ".list-inline {list-style: none; margin:0; padding: 0}\n",
       ".list-inline>li {display: inline-block}\n",
       ".list-inline>li:not(:last-child)::after {content: \"\\00b7\"; padding: 0 .5ex}\n",
       "</style>\n",
       "<ol class=list-inline><li>2000</li><li>1</li></ol>\n"
      ],
      "text/latex": [
       "\\begin{enumerate*}\n",
       "\\item 2000\n",
       "\\item 1\n",
       "\\end{enumerate*}\n"
      ],
      "text/markdown": [
       "1. 2000\n",
       "2. 1\n",
       "\n",
       "\n"
      ],
      "text/plain": [
       "[1] 2000    1"
      ]
     },
     "metadata": {},
     "output_type": "display_data"
    }
   ],
   "source": [
    "dim(factor_terms)"
   ]
  },
  {
   "cell_type": "code",
   "execution_count": 21,
   "metadata": {
    "vscode": {
     "languageId": "r"
    }
   },
   "outputs": [],
   "source": [
    "for (i in 1:nrow(predictors)){\n",
    "    g1 <- as.character(predictors[i,1])\n",
    "    g1 <- as.numeric(substring(g1, 2, nchar(g1)))\n",
    "\n",
    "    g2 <- as.character(predictors[i,2])\n",
    "    g2 <- as.numeric(substring(g2, 2, nchar(g2)))\n",
    "\n",
    "    #print(paste0(g1, g2))\n",
    "    factor_terms[i, ] =  matrix(gammas[g1,], nrow=1) %*% matrix(deltas[g2,], ncol=1)   \n",
    "}"
   ]
  },
  {
   "cell_type": "code",
   "execution_count": 22,
   "metadata": {
    "vscode": {
     "languageId": "r"
    }
   },
   "outputs": [],
   "source": [
    "y <- linear_predictors + factor_terms + rnorm(n=nrow(linear_predictors), 0, 0.1)"
   ]
  },
  {
   "cell_type": "code",
   "execution_count": 23,
   "metadata": {
    "vscode": {
     "languageId": "r"
    }
   },
   "outputs": [],
   "source": [
    "data_list = list(\n",
    "    N = N,\n",
    "    J = J,\n",
    "    K = K,\n",
    "    X = predictors_as_numeric,\n",
    "    y = y[,1],\n",
    "    beta_sigma = 0.05,\n",
    "    y_sigma = 0.02\n",
    ")"
   ]
  },
  {
   "cell_type": "code",
   "execution_count": 25,
   "metadata": {
    "vscode": {
     "languageId": "r"
    }
   },
   "outputs": [],
   "source": [
    "saveRDS(data_list, file = 'data_list.rds')"
   ]
  },
  {
   "cell_type": "code",
   "execution_count": null,
   "metadata": {
    "vscode": {
     "languageId": "r"
    }
   },
   "outputs": [],
   "source": [
    "model = stan_model('../Stan/Models/factorization.stan')"
   ]
  },
  {
   "cell_type": "code",
   "execution_count": null,
   "metadata": {
    "vscode": {
     "languageId": "r"
    }
   },
   "outputs": [],
   "source": [
    "remove(fit)\n",
    "fit <- sampling(object = model,\n",
    "                data = data_list,\n",
    "                init = \"random\",\n",
    "                control = list(adapt_delta = 0.95),\n",
    "                chains = 4,\n",
    "                iter = 1000,\n",
    "                warmup = 500,\n",
    "                thin = 1,\n",
    "                verbose = TRUE)"
   ]
  }
 ],
 "metadata": {
  "kernelspec": {
   "display_name": "R",
   "language": "R",
   "name": "ir"
  },
  "language_info": {
   "codemirror_mode": "r",
   "file_extension": ".r",
   "mimetype": "text/x-r-source",
   "name": "R",
   "pygments_lexer": "r",
   "version": "4.2.2"
  },
  "orig_nbformat": 4
 },
 "nbformat": 4,
 "nbformat_minor": 2
}
